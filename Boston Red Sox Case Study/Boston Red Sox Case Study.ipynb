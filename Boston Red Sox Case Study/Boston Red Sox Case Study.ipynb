{
 "cells": [
  {
   "cell_type": "markdown",
   "metadata": {},
   "source": [
    "## Project Overview"
   ]
  },
  {
   "cell_type": "markdown",
   "metadata": {},
   "source": [
    "For this mini-project, I will be looking at plate appearance data for the Boston Red Sox from this past season.\n",
    "\n",
    "We will be following some general guidelines when it comes to process and workflow:\n",
    "\n",
    "1. Understand General Properties\n",
    "2. Exploratory Analysis\n",
    "3. Data Cleaning\n",
    "4. Feature Engineering\n",
    "5. Model Building, Tuning, & Evaluation\n",
    "6. Conclusion"
   ]
  },
  {
   "cell_type": "code",
   "execution_count": 10,
   "metadata": {},
   "outputs": [],
   "source": [
    "#Import all required modules\n",
    "\n",
    "import pandas as pd\n",
    "import numpy as np\n",
    "import matplotlib.pyplot as plt\n",
    "import seaborn as sns\n",
    "import scipy.stats as stats\n",
    "import statistics as stat\n",
    "import sklearn\n",
    "from sklearn.preprocessing import LabelEncoder\n",
    "from sklearn.svm import SVR\n",
    "from sklearn.model_selection import cross_val_score\n",
    "from sklearn import neighbors\n",
    "from sklearn import ensemble\n",
    "from sklearn import linear_model\n",
    "from sklearn.linear_model import LogisticRegression\n",
    "from sklearn.svm import SVR\n",
    "from sklearn.svm import SVC\n",
    "from sklearn.neighbors import KNeighborsClassifier\n",
    "from sklearn.naive_bayes import BernoulliNB\n",
    "from sklearn import preprocessing\n",
    "from sklearn.metrics import confusion_matrix\n",
    "from sklearn.feature_selection import RFE\n",
    "from sklearn.decomposition import PCA\n",
    "from sklearn.preprocessing import normalize\n",
    "from sklearn.cluster import KMeans\n",
    "from sklearn.cluster import MeanShift, estimate_bandwidth\n",
    "%matplotlib inline"
   ]
  },
  {
   "cell_type": "markdown",
   "metadata": {},
   "source": [
    "## 1. Understand General Properties"
   ]
  },
  {
   "cell_type": "code",
   "execution_count": 3,
   "metadata": {},
   "outputs": [],
   "source": [
    "#Read into pandas dataframe\n",
    "red_sox = pd.read_csv('redsox_2018.csv')"
   ]
  },
  {
   "cell_type": "code",
   "execution_count": 5,
   "metadata": {},
   "outputs": [
    {
     "data": {
      "text/html": [
       "<div>\n",
       "<style scoped>\n",
       "    .dataframe tbody tr th:only-of-type {\n",
       "        vertical-align: middle;\n",
       "    }\n",
       "\n",
       "    .dataframe tbody tr th {\n",
       "        vertical-align: top;\n",
       "    }\n",
       "\n",
       "    .dataframe thead th {\n",
       "        text-align: right;\n",
       "    }\n",
       "</style>\n",
       "<table border=\"1\" class=\"dataframe\">\n",
       "  <thead>\n",
       "    <tr style=\"text-align: right;\">\n",
       "      <th></th>\n",
       "      <th>GM_ID</th>\n",
       "      <th>Date</th>\n",
       "      <th>Batter</th>\n",
       "      <th>Opponent</th>\n",
       "      <th>Home_Away</th>\n",
       "      <th>Pitcher</th>\n",
       "      <th>Score</th>\n",
       "      <th>Result</th>\n",
       "      <th>Inn</th>\n",
       "      <th>RoB</th>\n",
       "      <th>Out</th>\n",
       "      <th>Pitch_Number</th>\n",
       "      <th>Count</th>\n",
       "      <th>WPA</th>\n",
       "      <th>LI</th>\n",
       "      <th>Play Description</th>\n",
       "    </tr>\n",
       "  </thead>\n",
       "  <tbody>\n",
       "    <tr>\n",
       "      <th>0</th>\n",
       "      <td>1</td>\n",
       "      <td>3/29/18</td>\n",
       "      <td>Mookie Betts</td>\n",
       "      <td>TBR</td>\n",
       "      <td>Away</td>\n",
       "      <td>Chris Archer</td>\n",
       "      <td>Tied</td>\n",
       "      <td>Out</td>\n",
       "      <td>t1</td>\n",
       "      <td>---</td>\n",
       "      <td>0</td>\n",
       "      <td>1</td>\n",
       "      <td>0-0</td>\n",
       "      <td>-0.02</td>\n",
       "      <td>0.87</td>\n",
       "      <td>*LEADOFF GM*:Flyball: CF (Deep CF)</td>\n",
       "    </tr>\n",
       "    <tr>\n",
       "      <th>1</th>\n",
       "      <td>2</td>\n",
       "      <td>3/29/18</td>\n",
       "      <td>Andrew Benintendi</td>\n",
       "      <td>TBR</td>\n",
       "      <td>Away</td>\n",
       "      <td>Chris Archer</td>\n",
       "      <td>Tied</td>\n",
       "      <td>Out</td>\n",
       "      <td>t1</td>\n",
       "      <td>---</td>\n",
       "      <td>1</td>\n",
       "      <td>3</td>\n",
       "      <td>0-2</td>\n",
       "      <td>-0.02</td>\n",
       "      <td>0.62</td>\n",
       "      <td>Groundout: 2B-1B (2B-1B)</td>\n",
       "    </tr>\n",
       "    <tr>\n",
       "      <th>2</th>\n",
       "      <td>3</td>\n",
       "      <td>3/29/18</td>\n",
       "      <td>Hanley Ramirez</td>\n",
       "      <td>TBR</td>\n",
       "      <td>Away</td>\n",
       "      <td>Chris Archer</td>\n",
       "      <td>Tied</td>\n",
       "      <td>SO</td>\n",
       "      <td>t1</td>\n",
       "      <td>---</td>\n",
       "      <td>2</td>\n",
       "      <td>8</td>\n",
       "      <td>3-2</td>\n",
       "      <td>-0.01</td>\n",
       "      <td>0.40</td>\n",
       "      <td>Strikeout Swinging</td>\n",
       "    </tr>\n",
       "    <tr>\n",
       "      <th>3</th>\n",
       "      <td>4</td>\n",
       "      <td>3/29/18</td>\n",
       "      <td>J.D. Martinez</td>\n",
       "      <td>TBR</td>\n",
       "      <td>Away</td>\n",
       "      <td>Chris Archer</td>\n",
       "      <td>Tied</td>\n",
       "      <td>BB</td>\n",
       "      <td>t2</td>\n",
       "      <td>---</td>\n",
       "      <td>0</td>\n",
       "      <td>6</td>\n",
       "      <td>3-2</td>\n",
       "      <td>0.04</td>\n",
       "      <td>0.93</td>\n",
       "      <td>Walk</td>\n",
       "    </tr>\n",
       "    <tr>\n",
       "      <th>4</th>\n",
       "      <td>5</td>\n",
       "      <td>3/29/18</td>\n",
       "      <td>Xander Bogaerts</td>\n",
       "      <td>TBR</td>\n",
       "      <td>Away</td>\n",
       "      <td>Chris Archer</td>\n",
       "      <td>Tied</td>\n",
       "      <td>2B</td>\n",
       "      <td>t2</td>\n",
       "      <td>1--</td>\n",
       "      <td>0</td>\n",
       "      <td>4</td>\n",
       "      <td>2-1</td>\n",
       "      <td>0.11</td>\n",
       "      <td>1.53</td>\n",
       "      <td>Double to LF (Line Drive to Deep LF); Martinez...</td>\n",
       "    </tr>\n",
       "  </tbody>\n",
       "</table>\n",
       "</div>"
      ],
      "text/plain": [
       "   GM_ID     Date             Batter Opponent Home_Away       Pitcher Score  \\\n",
       "0      1  3/29/18       Mookie Betts      TBR      Away  Chris Archer  Tied   \n",
       "1      2  3/29/18  Andrew Benintendi      TBR      Away  Chris Archer  Tied   \n",
       "2      3  3/29/18     Hanley Ramirez      TBR      Away  Chris Archer  Tied   \n",
       "3      4  3/29/18      J.D. Martinez      TBR      Away  Chris Archer  Tied   \n",
       "4      5  3/29/18    Xander Bogaerts      TBR      Away  Chris Archer  Tied   \n",
       "\n",
       "  Result Inn  RoB  Out  Pitch_Number Count   WPA    LI  \\\n",
       "0    Out  t1  ---    0             1   0-0 -0.02  0.87   \n",
       "1    Out  t1  ---    1             3   0-2 -0.02  0.62   \n",
       "2     SO  t1  ---    2             8   3-2 -0.01  0.40   \n",
       "3     BB  t2  ---    0             6   3-2  0.04  0.93   \n",
       "4     2B  t2  1--    0             4   2-1  0.11  1.53   \n",
       "\n",
       "                                    Play Description  \n",
       "0                 *LEADOFF GM*:Flyball: CF (Deep CF)  \n",
       "1                           Groundout: 2B-1B (2B-1B)  \n",
       "2                                 Strikeout Swinging  \n",
       "3                                               Walk  \n",
       "4  Double to LF (Line Drive to Deep LF); Martinez...  "
      ]
     },
     "execution_count": 5,
     "metadata": {},
     "output_type": "execute_result"
    }
   ],
   "source": [
    "#Check out the head of the dataset\n",
    "red_sox.head(5)"
   ]
  },
  {
   "cell_type": "code",
   "execution_count": 7,
   "metadata": {},
   "outputs": [
    {
     "data": {
      "text/plain": [
       "(6302, 16)"
      ]
     },
     "execution_count": 7,
     "metadata": {},
     "output_type": "execute_result"
    }
   ],
   "source": [
    "#Let's see how large our dataframe is\n",
    "red_sox.shape"
   ]
  },
  {
   "cell_type": "code",
   "execution_count": 8,
   "metadata": {},
   "outputs": [
    {
     "data": {
      "text/plain": [
       "GM_ID                 int64\n",
       "Date                 object\n",
       "Batter               object\n",
       "Opponent             object\n",
       "Home_Away            object\n",
       "Pitcher              object\n",
       "Score                object\n",
       "Result               object\n",
       "Inn                  object\n",
       "RoB                  object\n",
       "Out                   int64\n",
       "Pitch_Number          int64\n",
       "Count                object\n",
       "WPA                 float64\n",
       "LI                  float64\n",
       "Play Description     object\n",
       "dtype: object"
      ]
     },
     "execution_count": 8,
     "metadata": {},
     "output_type": "execute_result"
    }
   ],
   "source": [
    "#Finally, let's see what datatypes our features are currently stored as\n",
    "red_sox.dtypes"
   ]
  },
  {
   "cell_type": "markdown",
   "metadata": {},
   "source": [
    "## 2. Exploratory Analysis"
   ]
  },
  {
   "cell_type": "code",
   "execution_count": 11,
   "metadata": {},
   "outputs": [
    {
     "data": {
      "image/png": "[encoded data removed]",
      "text/plain": [
       "<matplotlib.figure.Figure at 0x1a10993ac8>"
      ]
     },
     "metadata": {},
     "output_type": "display_data"
    },
    {
     "name": "stdout",
     "output_type": "stream",
     "text": [
      "count    6302.000000\n",
      "mean        0.944081\n",
      "std         0.872205\n",
      "min        -0.120000\n",
      "25%         0.360000\n",
      "50%         0.780000\n",
      "75%         1.260000\n",
      "max        10.870000\n",
      "Name: LI, dtype: float64\n"
     ]
    }
   ],
   "source": [
    "#Look at our distribution of LI\n",
    "plt.figure(figsize=[9,5])\n",
    "sns.distplot(red_sox['LI'])\n",
    "plt.title('Distribution of LI')\n",
    "plt.show()\n",
    "print(red_sox['LI'].describe())"
   ]
  },
  {
   "cell_type": "code",
   "execution_count": 19,
   "metadata": {},
   "outputs": [
    {
     "data": {
      "image/png": "[encoded data removed]",
      "text/plain": [
       "<matplotlib.figure.Figure at 0x1a1abcf908>"
      ]
     },
     "metadata": {},
     "output_type": "display_data"
    },
    {
     "name": "stdout",
     "output_type": "stream",
     "text": [
      "count    6302.000000\n",
      "mean        3.902729\n",
      "std         1.893506\n",
      "min         0.000000\n",
      "25%         2.000000\n",
      "50%         4.000000\n",
      "75%         5.000000\n",
      "max        13.000000\n",
      "Name: Pitch_Number, dtype: float64\n"
     ]
    }
   ],
   "source": [
    "#Look at our distribution of Pitch Number\n",
    "plt.figure(figsize=[9,5])\n",
    "plt.hist(red_sox.Pitch_Number)\n",
    "plt.title('Distribution of Pitches per Plate Appearance')\n",
    "plt.show()\n",
    "print(red_sox['Pitch_Number'].describe())"
   ]
  },
  {
   "cell_type": "code",
   "execution_count": 17,
   "metadata": {},
   "outputs": [
    {
     "data": {
      "image/png": "[encoded data removed]",
      "text/plain": [
       "<matplotlib.figure.Figure at 0x1a1a64b208>"
      ]
     },
     "metadata": {},
     "output_type": "display_data"
    },
    {
     "name": "stdout",
     "output_type": "stream",
     "text": [
      "count    6302.000000\n",
      "mean        0.002058\n",
      "std         0.055613\n",
      "min        -0.360000\n",
      "25%        -0.020000\n",
      "50%        -0.010000\n",
      "75%         0.010000\n",
      "max         0.740000\n",
      "Name: WPA, dtype: float64\n"
     ]
    }
   ],
   "source": [
    "#Look at our distribution of WPA\n",
    "plt.figure(figsize=[9,5])\n",
    "sns.distplot(red_sox['WPA'])\n",
    "plt.title('Distribution of WPA')\n",
    "plt.show()\n",
    "print(red_sox['WPA'].describe())"
   ]
  },
  {
   "cell_type": "code",
   "execution_count": 21,
   "metadata": {},
   "outputs": [
    {
     "data": {
      "image/png": "[encoded data removed]",
      "text/plain": [
       "<matplotlib.figure.Figure at 0x1a1c5e1fd0>"
      ]
     },
     "metadata": {},
     "output_type": "display_data"
    }
   ],
   "source": [
    "#Look at Score (tied, ahead, down) vs. Result\n",
    "plt.figure(figsize=[9,5])\n",
    "plt.title('Team Position vs. Result of Plate Appearance')\n",
    "sns.countplot(x=\"Score\", hue=\"Result\", data=red_sox)\n",
    "plt.show()"
   ]
  },
  {
   "cell_type": "code",
   "execution_count": 22,
   "metadata": {},
   "outputs": [
    {
     "data": {
      "image/png": "[encoded data removed]",
      "text/plain": [
       "<matplotlib.figure.Figure at 0x1a1a6e0b00>"
      ]
     },
     "metadata": {},
     "output_type": "display_data"
    }
   ],
   "source": [
    "#Look at Home/Away vs. Result\n",
    "plt.figure(figsize=[9,5])\n",
    "plt.title('Team Location vs. Result of Plate Appearance')\n",
    "sns.countplot(x=\"Home_Away\", hue=\"Result\", data=red_sox)\n",
    "plt.show()"
   ]
  },
  {
   "cell_type": "code",
   "execution_count": 23,
   "metadata": {},
   "outputs": [
    {
     "data": {
      "image/png": "[encoded data removed]",
      "text/plain": [
       "<matplotlib.figure.Figure at 0x1a1a9de208>"
      ]
     },
     "metadata": {},
     "output_type": "display_data"
    }
   ],
   "source": [
    "# Result vs. Pitches per Plate Appearance\n",
    "plt.figure(figsize=[12,5])\n",
    "ax = sns.boxplot(x='Result',y='Pitch_Number', data=red_sox, palette='pastel')  \n",
    "plt.title('Result of Plate Apperance vs. Pitches Per Plate Appearance')\n",
    "sns.despine(offset=10, trim=True)\n",
    "ax.set(xlabel='Result', ylabel='Pitches Per PA')\n",
    "plt.show()"
   ]
  },
  {
   "cell_type": "markdown",
   "metadata": {},
   "source": [
    "## 3. Data Cleaning"
   ]
  },
  {
   "cell_type": "code",
   "execution_count": null,
   "metadata": {},
   "outputs": [],
   "source": [
    "#Remove outliers in Pitch_Number, LI"
   ]
  },
  {
   "cell_type": "code",
   "execution_count": null,
   "metadata": {},
   "outputs": [],
   "source": []
  },
  {
   "cell_type": "markdown",
   "metadata": {},
   "source": [
    "## 4. Feature Engineering"
   ]
  },
  {
   "cell_type": "code",
   "execution_count": null,
   "metadata": {},
   "outputs": [],
   "source": [
    "#convert column data types\n",
    "#encode batter, opponent, pitcher, score, result, inning\n",
    "#convert runners on base\n",
    "#translate count into two features - balls and strikes\n",
    "#parse out description - first take result (groundball, flyout, etc.), then take location (RF, CF)\n"
   ]
  },
  {
   "cell_type": "code",
   "execution_count": null,
   "metadata": {},
   "outputs": [],
   "source": []
  },
  {
   "cell_type": "markdown",
   "metadata": {},
   "source": [
    "## 5. Model Building, Tuning, & Evaluation"
   ]
  },
  {
   "cell_type": "code",
   "execution_count": null,
   "metadata": {},
   "outputs": [],
   "source": [
    "#Use something like the following, instead of manual paramter search\n",
    "parameters = {'kernel':('linear', 'rbf'), 'C':[1, 10]}\n",
    "svc = svm.SVC(gamma=\"scale\")\n",
    "clf = GridSearchCV(svc, parameters, cv=5)\n",
    "clf.fit(iris.data, iris.target)"
   ]
  },
  {
   "cell_type": "code",
   "execution_count": null,
   "metadata": {},
   "outputs": [],
   "source": []
  },
  {
   "cell_type": "markdown",
   "metadata": {},
   "source": [
    "## 6. Conclusion"
   ]
  },
  {
   "cell_type": "code",
   "execution_count": null,
   "metadata": {},
   "outputs": [],
   "source": [
    "#final takeaways"
   ]
  }
 ],
 "metadata": {
  "kernelspec": {
   "display_name": "Python 3",
   "language": "python",
   "name": "python3"
  },
  "language_info": {
   "codemirror_mode": {
    "name": "ipython",
    "version": 3
   },
   "file_extension": ".py",
   "mimetype": "text/x-python",
   "name": "python",
   "nbconvert_exporter": "python",
   "pygments_lexer": "ipython3",
   "version": "3.6.4"
  }
 },
 "nbformat": 4,
 "nbformat_minor": 2
}
