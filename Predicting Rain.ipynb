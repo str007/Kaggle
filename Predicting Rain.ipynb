{
 "cells": [
  {
   "cell_type": "markdown",
   "metadata": {},
   "source": [
    "## Dataset Overview\n",
    "This dataset provides daily weather information for Australia, dating back to 2008. Each observation represents a single day in a given location. The data provided relates to weather conditions throughout the day such as wind and wind direction, temperature, humidity, pressure, whether it rained today and whether or not it rained the following day.\n",
    "\n",
    "The dataset contains **145,460 observations across 24 columns** and can be found at the link below:\n",
    "\n",
    "https://www.kaggle.com/jsphyg/weather-dataset-rattle-package"
   ]
  },
  {
   "cell_type": "code",
   "execution_count": 1,
   "metadata": {},
   "outputs": [],
   "source": [
    "import pandas as pd\n",
    "import numpy as np\n",
    "import matplotlib.pyplot as plt\n",
    "import seaborn as sns\n",
    "import scipy\n",
    "from sklearn import ensemble\n",
    "from sklearn import linear_model\n",
    "from sklearn.linear_model import LogisticRegression\n",
    "from sklearn.svm import SVR\n",
    "from sklearn.svm import SVC\n",
    "from sklearn.neighbors import KNeighborsClassifier\n",
    "from sklearn.naive_bayes import BernoulliNB\n",
    "from sklearn.naive_bayes import GaussianNB\n",
    "from sklearn.naive_bayes import MultinomialNB\n",
    "from sklearn import preprocessing\n",
    "from sklearn.model_selection import cross_val_score\n",
    "from sklearn.metrics import confusion_matrix\n",
    "from sklearn.feature_selection import RFE\n",
    "\n",
    "%matplotlib inline"
   ]
  },
  {
   "cell_type": "markdown",
   "metadata": {},
   "source": [
    "## Read dataset in and begin investigating its properties"
   ]
  },
  {
   "cell_type": "code",
   "execution_count": 2,
   "metadata": {},
   "outputs": [],
   "source": [
    "weather = pd.read_csv('weatherAUS.csv')"
   ]
  },
  {
   "cell_type": "code",
   "execution_count": 3,
   "metadata": {},
   "outputs": [
    {
     "data": {
      "text/plain": [
       "(145460, 24)"
      ]
     },
     "execution_count": 3,
     "metadata": {},
     "output_type": "execute_result"
    }
   ],
   "source": [
    "weather.shape"
   ]
  },
  {
   "cell_type": "code",
   "execution_count": 4,
   "metadata": {},
   "outputs": [
    {
     "data": {
      "text/plain": [
       "Index(['Date', 'Location', 'MinTemp', 'MaxTemp', 'Rainfall', 'Evaporation',\n",
       "       'Sunshine', 'WindGustDir', 'WindGustSpeed', 'WindDir9am', 'WindDir3pm',\n",
       "       'WindSpeed9am', 'WindSpeed3pm', 'Humidity9am', 'Humidity3pm',\n",
       "       'Pressure9am', 'Pressure3pm', 'Cloud9am', 'Cloud3pm', 'Temp9am',\n",
       "       'Temp3pm', 'RainToday', 'RISK_MM', 'RainTomorrow'],\n",
       "      dtype='object')"
      ]
     },
     "execution_count": 4,
     "metadata": {},
     "output_type": "execute_result"
    }
   ],
   "source": [
    "weather.columns"
   ]
  },
  {
   "cell_type": "code",
   "execution_count": 5,
   "metadata": {},
   "outputs": [
    {
     "data": {
      "text/html": [
       "<div>\n",
       "<style scoped>\n",
       "    .dataframe tbody tr th:only-of-type {\n",
       "        vertical-align: middle;\n",
       "    }\n",
       "\n",
       "    .dataframe tbody tr th {\n",
       "        vertical-align: top;\n",
       "    }\n",
       "\n",
       "    .dataframe thead th {\n",
       "        text-align: right;\n",
       "    }\n",
       "</style>\n",
       "<table border=\"1\" class=\"dataframe\">\n",
       "  <thead>\n",
       "    <tr style=\"text-align: right;\">\n",
       "      <th></th>\n",
       "      <th>Date</th>\n",
       "      <th>Location</th>\n",
       "      <th>MinTemp</th>\n",
       "      <th>MaxTemp</th>\n",
       "      <th>Rainfall</th>\n",
       "      <th>Evaporation</th>\n",
       "      <th>Sunshine</th>\n",
       "      <th>WindGustDir</th>\n",
       "      <th>WindGustSpeed</th>\n",
       "      <th>WindDir9am</th>\n",
       "      <th>...</th>\n",
       "      <th>Humidity3pm</th>\n",
       "      <th>Pressure9am</th>\n",
       "      <th>Pressure3pm</th>\n",
       "      <th>Cloud9am</th>\n",
       "      <th>Cloud3pm</th>\n",
       "      <th>Temp9am</th>\n",
       "      <th>Temp3pm</th>\n",
       "      <th>RainToday</th>\n",
       "      <th>RISK_MM</th>\n",
       "      <th>RainTomorrow</th>\n",
       "    </tr>\n",
       "  </thead>\n",
       "  <tbody>\n",
       "    <tr>\n",
       "      <th>0</th>\n",
       "      <td>2008-12-01</td>\n",
       "      <td>Albury</td>\n",
       "      <td>13.4</td>\n",
       "      <td>22.9</td>\n",
       "      <td>0.6</td>\n",
       "      <td>NaN</td>\n",
       "      <td>NaN</td>\n",
       "      <td>W</td>\n",
       "      <td>44.0</td>\n",
       "      <td>W</td>\n",
       "      <td>...</td>\n",
       "      <td>22.0</td>\n",
       "      <td>1007.7</td>\n",
       "      <td>1007.1</td>\n",
       "      <td>8.0</td>\n",
       "      <td>NaN</td>\n",
       "      <td>16.9</td>\n",
       "      <td>21.8</td>\n",
       "      <td>No</td>\n",
       "      <td>0.0</td>\n",
       "      <td>No</td>\n",
       "    </tr>\n",
       "    <tr>\n",
       "      <th>1</th>\n",
       "      <td>2008-12-02</td>\n",
       "      <td>Albury</td>\n",
       "      <td>7.4</td>\n",
       "      <td>25.1</td>\n",
       "      <td>0.0</td>\n",
       "      <td>NaN</td>\n",
       "      <td>NaN</td>\n",
       "      <td>WNW</td>\n",
       "      <td>44.0</td>\n",
       "      <td>NNW</td>\n",
       "      <td>...</td>\n",
       "      <td>25.0</td>\n",
       "      <td>1010.6</td>\n",
       "      <td>1007.8</td>\n",
       "      <td>NaN</td>\n",
       "      <td>NaN</td>\n",
       "      <td>17.2</td>\n",
       "      <td>24.3</td>\n",
       "      <td>No</td>\n",
       "      <td>0.0</td>\n",
       "      <td>No</td>\n",
       "    </tr>\n",
       "    <tr>\n",
       "      <th>2</th>\n",
       "      <td>2008-12-03</td>\n",
       "      <td>Albury</td>\n",
       "      <td>12.9</td>\n",
       "      <td>25.7</td>\n",
       "      <td>0.0</td>\n",
       "      <td>NaN</td>\n",
       "      <td>NaN</td>\n",
       "      <td>WSW</td>\n",
       "      <td>46.0</td>\n",
       "      <td>W</td>\n",
       "      <td>...</td>\n",
       "      <td>30.0</td>\n",
       "      <td>1007.6</td>\n",
       "      <td>1008.7</td>\n",
       "      <td>NaN</td>\n",
       "      <td>2.0</td>\n",
       "      <td>21.0</td>\n",
       "      <td>23.2</td>\n",
       "      <td>No</td>\n",
       "      <td>0.0</td>\n",
       "      <td>No</td>\n",
       "    </tr>\n",
       "    <tr>\n",
       "      <th>3</th>\n",
       "      <td>2008-12-04</td>\n",
       "      <td>Albury</td>\n",
       "      <td>9.2</td>\n",
       "      <td>28.0</td>\n",
       "      <td>0.0</td>\n",
       "      <td>NaN</td>\n",
       "      <td>NaN</td>\n",
       "      <td>NE</td>\n",
       "      <td>24.0</td>\n",
       "      <td>SE</td>\n",
       "      <td>...</td>\n",
       "      <td>16.0</td>\n",
       "      <td>1017.6</td>\n",
       "      <td>1012.8</td>\n",
       "      <td>NaN</td>\n",
       "      <td>NaN</td>\n",
       "      <td>18.1</td>\n",
       "      <td>26.5</td>\n",
       "      <td>No</td>\n",
       "      <td>1.0</td>\n",
       "      <td>No</td>\n",
       "    </tr>\n",
       "    <tr>\n",
       "      <th>4</th>\n",
       "      <td>2008-12-05</td>\n",
       "      <td>Albury</td>\n",
       "      <td>17.5</td>\n",
       "      <td>32.3</td>\n",
       "      <td>1.0</td>\n",
       "      <td>NaN</td>\n",
       "      <td>NaN</td>\n",
       "      <td>W</td>\n",
       "      <td>41.0</td>\n",
       "      <td>ENE</td>\n",
       "      <td>...</td>\n",
       "      <td>33.0</td>\n",
       "      <td>1010.8</td>\n",
       "      <td>1006.0</td>\n",
       "      <td>7.0</td>\n",
       "      <td>8.0</td>\n",
       "      <td>17.8</td>\n",
       "      <td>29.7</td>\n",
       "      <td>No</td>\n",
       "      <td>0.2</td>\n",
       "      <td>No</td>\n",
       "    </tr>\n",
       "  </tbody>\n",
       "</table>\n",
       "<p>5 rows × 24 columns</p>\n",
       "</div>"
      ],
      "text/plain": [
       "         Date Location  MinTemp  MaxTemp  Rainfall  Evaporation  Sunshine  \\\n",
       "0  2008-12-01   Albury     13.4     22.9       0.6          NaN       NaN   \n",
       "1  2008-12-02   Albury      7.4     25.1       0.0          NaN       NaN   \n",
       "2  2008-12-03   Albury     12.9     25.7       0.0          NaN       NaN   \n",
       "3  2008-12-04   Albury      9.2     28.0       0.0          NaN       NaN   \n",
       "4  2008-12-05   Albury     17.5     32.3       1.0          NaN       NaN   \n",
       "\n",
       "  WindGustDir  WindGustSpeed WindDir9am      ...      Humidity3pm  \\\n",
       "0           W           44.0          W      ...             22.0   \n",
       "1         WNW           44.0        NNW      ...             25.0   \n",
       "2         WSW           46.0          W      ...             30.0   \n",
       "3          NE           24.0         SE      ...             16.0   \n",
       "4           W           41.0        ENE      ...             33.0   \n",
       "\n",
       "   Pressure9am  Pressure3pm  Cloud9am  Cloud3pm  Temp9am  Temp3pm  RainToday  \\\n",
       "0       1007.7       1007.1       8.0       NaN     16.9     21.8         No   \n",
       "1       1010.6       1007.8       NaN       NaN     17.2     24.3         No   \n",
       "2       1007.6       1008.7       NaN       2.0     21.0     23.2         No   \n",
       "3       1017.6       1012.8       NaN       NaN     18.1     26.5         No   \n",
       "4       1010.8       1006.0       7.0       8.0     17.8     29.7         No   \n",
       "\n",
       "   RISK_MM  RainTomorrow  \n",
       "0      0.0            No  \n",
       "1      0.0            No  \n",
       "2      0.0            No  \n",
       "3      1.0            No  \n",
       "4      0.2            No  \n",
       "\n",
       "[5 rows x 24 columns]"
      ]
     },
     "execution_count": 5,
     "metadata": {},
     "output_type": "execute_result"
    }
   ],
   "source": [
    "pd.options.display.max_rows = 999\n",
    "weather.head(5)"
   ]
  },
  {
   "cell_type": "code",
   "execution_count": 6,
   "metadata": {},
   "outputs": [
    {
     "data": {
      "text/html": [
       "<div>\n",
       "<style scoped>\n",
       "    .dataframe tbody tr th:only-of-type {\n",
       "        vertical-align: middle;\n",
       "    }\n",
       "\n",
       "    .dataframe tbody tr th {\n",
       "        vertical-align: top;\n",
       "    }\n",
       "\n",
       "    .dataframe thead th {\n",
       "        text-align: right;\n",
       "    }\n",
       "</style>\n",
       "<table border=\"1\" class=\"dataframe\">\n",
       "  <thead>\n",
       "    <tr style=\"text-align: right;\">\n",
       "      <th></th>\n",
       "      <th>MinTemp</th>\n",
       "      <th>MaxTemp</th>\n",
       "      <th>Rainfall</th>\n",
       "      <th>Evaporation</th>\n",
       "      <th>Sunshine</th>\n",
       "      <th>WindGustSpeed</th>\n",
       "      <th>WindSpeed9am</th>\n",
       "      <th>WindSpeed3pm</th>\n",
       "      <th>Humidity9am</th>\n",
       "      <th>Humidity3pm</th>\n",
       "      <th>Pressure9am</th>\n",
       "      <th>Pressure3pm</th>\n",
       "      <th>Cloud9am</th>\n",
       "      <th>Cloud3pm</th>\n",
       "      <th>Temp9am</th>\n",
       "      <th>Temp3pm</th>\n",
       "      <th>RISK_MM</th>\n",
       "    </tr>\n",
       "  </thead>\n",
       "  <tbody>\n",
       "    <tr>\n",
       "      <th>count</th>\n",
       "      <td>143975.000000</td>\n",
       "      <td>144199.000000</td>\n",
       "      <td>142199.000000</td>\n",
       "      <td>82670.000000</td>\n",
       "      <td>75625.000000</td>\n",
       "      <td>135197.000000</td>\n",
       "      <td>143693.000000</td>\n",
       "      <td>142398.000000</td>\n",
       "      <td>142806.000000</td>\n",
       "      <td>140953.000000</td>\n",
       "      <td>130395.00000</td>\n",
       "      <td>130432.000000</td>\n",
       "      <td>89572.000000</td>\n",
       "      <td>86102.000000</td>\n",
       "      <td>143693.000000</td>\n",
       "      <td>141851.00000</td>\n",
       "      <td>142193.000000</td>\n",
       "    </tr>\n",
       "    <tr>\n",
       "      <th>mean</th>\n",
       "      <td>12.194034</td>\n",
       "      <td>23.221348</td>\n",
       "      <td>2.360918</td>\n",
       "      <td>5.468232</td>\n",
       "      <td>7.611178</td>\n",
       "      <td>40.035230</td>\n",
       "      <td>14.043426</td>\n",
       "      <td>18.662657</td>\n",
       "      <td>68.880831</td>\n",
       "      <td>51.539116</td>\n",
       "      <td>1017.64994</td>\n",
       "      <td>1015.255889</td>\n",
       "      <td>4.447461</td>\n",
       "      <td>4.509930</td>\n",
       "      <td>16.990631</td>\n",
       "      <td>21.68339</td>\n",
       "      <td>2.360682</td>\n",
       "    </tr>\n",
       "    <tr>\n",
       "      <th>std</th>\n",
       "      <td>6.398495</td>\n",
       "      <td>7.119049</td>\n",
       "      <td>8.478060</td>\n",
       "      <td>4.193704</td>\n",
       "      <td>3.785483</td>\n",
       "      <td>13.607062</td>\n",
       "      <td>8.915375</td>\n",
       "      <td>8.809800</td>\n",
       "      <td>19.029164</td>\n",
       "      <td>20.795902</td>\n",
       "      <td>7.10653</td>\n",
       "      <td>7.037414</td>\n",
       "      <td>2.887159</td>\n",
       "      <td>2.720357</td>\n",
       "      <td>6.488753</td>\n",
       "      <td>6.93665</td>\n",
       "      <td>8.477969</td>\n",
       "    </tr>\n",
       "    <tr>\n",
       "      <th>min</th>\n",
       "      <td>-8.500000</td>\n",
       "      <td>-4.800000</td>\n",
       "      <td>0.000000</td>\n",
       "      <td>0.000000</td>\n",
       "      <td>0.000000</td>\n",
       "      <td>6.000000</td>\n",
       "      <td>0.000000</td>\n",
       "      <td>0.000000</td>\n",
       "      <td>0.000000</td>\n",
       "      <td>0.000000</td>\n",
       "      <td>980.50000</td>\n",
       "      <td>977.100000</td>\n",
       "      <td>0.000000</td>\n",
       "      <td>0.000000</td>\n",
       "      <td>-7.200000</td>\n",
       "      <td>-5.40000</td>\n",
       "      <td>0.000000</td>\n",
       "    </tr>\n",
       "    <tr>\n",
       "      <th>25%</th>\n",
       "      <td>7.600000</td>\n",
       "      <td>17.900000</td>\n",
       "      <td>0.000000</td>\n",
       "      <td>2.600000</td>\n",
       "      <td>4.800000</td>\n",
       "      <td>31.000000</td>\n",
       "      <td>7.000000</td>\n",
       "      <td>13.000000</td>\n",
       "      <td>57.000000</td>\n",
       "      <td>37.000000</td>\n",
       "      <td>1012.90000</td>\n",
       "      <td>1010.400000</td>\n",
       "      <td>1.000000</td>\n",
       "      <td>2.000000</td>\n",
       "      <td>12.300000</td>\n",
       "      <td>16.60000</td>\n",
       "      <td>0.000000</td>\n",
       "    </tr>\n",
       "    <tr>\n",
       "      <th>50%</th>\n",
       "      <td>12.000000</td>\n",
       "      <td>22.600000</td>\n",
       "      <td>0.000000</td>\n",
       "      <td>4.800000</td>\n",
       "      <td>8.400000</td>\n",
       "      <td>39.000000</td>\n",
       "      <td>13.000000</td>\n",
       "      <td>19.000000</td>\n",
       "      <td>70.000000</td>\n",
       "      <td>52.000000</td>\n",
       "      <td>1017.60000</td>\n",
       "      <td>1015.200000</td>\n",
       "      <td>5.000000</td>\n",
       "      <td>5.000000</td>\n",
       "      <td>16.700000</td>\n",
       "      <td>21.10000</td>\n",
       "      <td>0.000000</td>\n",
       "    </tr>\n",
       "    <tr>\n",
       "      <th>75%</th>\n",
       "      <td>16.900000</td>\n",
       "      <td>28.200000</td>\n",
       "      <td>0.800000</td>\n",
       "      <td>7.400000</td>\n",
       "      <td>10.600000</td>\n",
       "      <td>48.000000</td>\n",
       "      <td>19.000000</td>\n",
       "      <td>24.000000</td>\n",
       "      <td>83.000000</td>\n",
       "      <td>66.000000</td>\n",
       "      <td>1022.40000</td>\n",
       "      <td>1020.000000</td>\n",
       "      <td>7.000000</td>\n",
       "      <td>7.000000</td>\n",
       "      <td>21.600000</td>\n",
       "      <td>26.40000</td>\n",
       "      <td>0.800000</td>\n",
       "    </tr>\n",
       "    <tr>\n",
       "      <th>max</th>\n",
       "      <td>33.900000</td>\n",
       "      <td>48.100000</td>\n",
       "      <td>371.000000</td>\n",
       "      <td>145.000000</td>\n",
       "      <td>14.500000</td>\n",
       "      <td>135.000000</td>\n",
       "      <td>130.000000</td>\n",
       "      <td>87.000000</td>\n",
       "      <td>100.000000</td>\n",
       "      <td>100.000000</td>\n",
       "      <td>1041.00000</td>\n",
       "      <td>1039.600000</td>\n",
       "      <td>9.000000</td>\n",
       "      <td>9.000000</td>\n",
       "      <td>40.200000</td>\n",
       "      <td>46.70000</td>\n",
       "      <td>371.000000</td>\n",
       "    </tr>\n",
       "  </tbody>\n",
       "</table>\n",
       "</div>"
      ],
      "text/plain": [
       "             MinTemp        MaxTemp       Rainfall   Evaporation  \\\n",
       "count  143975.000000  144199.000000  142199.000000  82670.000000   \n",
       "mean       12.194034      23.221348       2.360918      5.468232   \n",
       "std         6.398495       7.119049       8.478060      4.193704   \n",
       "min        -8.500000      -4.800000       0.000000      0.000000   \n",
       "25%         7.600000      17.900000       0.000000      2.600000   \n",
       "50%        12.000000      22.600000       0.000000      4.800000   \n",
       "75%        16.900000      28.200000       0.800000      7.400000   \n",
       "max        33.900000      48.100000     371.000000    145.000000   \n",
       "\n",
       "           Sunshine  WindGustSpeed   WindSpeed9am   WindSpeed3pm  \\\n",
       "count  75625.000000  135197.000000  143693.000000  142398.000000   \n",
       "mean       7.611178      40.035230      14.043426      18.662657   \n",
       "std        3.785483      13.607062       8.915375       8.809800   \n",
       "min        0.000000       6.000000       0.000000       0.000000   \n",
       "25%        4.800000      31.000000       7.000000      13.000000   \n",
       "50%        8.400000      39.000000      13.000000      19.000000   \n",
       "75%       10.600000      48.000000      19.000000      24.000000   \n",
       "max       14.500000     135.000000     130.000000      87.000000   \n",
       "\n",
       "         Humidity9am    Humidity3pm   Pressure9am    Pressure3pm  \\\n",
       "count  142806.000000  140953.000000  130395.00000  130432.000000   \n",
       "mean       68.880831      51.539116    1017.64994    1015.255889   \n",
       "std        19.029164      20.795902       7.10653       7.037414   \n",
       "min         0.000000       0.000000     980.50000     977.100000   \n",
       "25%        57.000000      37.000000    1012.90000    1010.400000   \n",
       "50%        70.000000      52.000000    1017.60000    1015.200000   \n",
       "75%        83.000000      66.000000    1022.40000    1020.000000   \n",
       "max       100.000000     100.000000    1041.00000    1039.600000   \n",
       "\n",
       "           Cloud9am      Cloud3pm        Temp9am       Temp3pm        RISK_MM  \n",
       "count  89572.000000  86102.000000  143693.000000  141851.00000  142193.000000  \n",
       "mean       4.447461      4.509930      16.990631      21.68339       2.360682  \n",
       "std        2.887159      2.720357       6.488753       6.93665       8.477969  \n",
       "min        0.000000      0.000000      -7.200000      -5.40000       0.000000  \n",
       "25%        1.000000      2.000000      12.300000      16.60000       0.000000  \n",
       "50%        5.000000      5.000000      16.700000      21.10000       0.000000  \n",
       "75%        7.000000      7.000000      21.600000      26.40000       0.800000  \n",
       "max        9.000000      9.000000      40.200000      46.70000     371.000000  "
      ]
     },
     "execution_count": 6,
     "metadata": {},
     "output_type": "execute_result"
    }
   ],
   "source": [
    "weather.describe()\n"
   ]
  },
  {
   "cell_type": "markdown",
   "metadata": {},
   "source": [
    "## Exploratory Analysis (Univariate and Bivariate)"
   ]
  },
  {
   "cell_type": "code",
   "execution_count": 7,
   "metadata": {},
   "outputs": [
    {
     "data": {
      "image/png": "[encoded data removed]",
      "text/plain": [
       "<matplotlib.figure.Figure at 0x1052af828>"
      ]
     },
     "metadata": {},
     "output_type": "display_data"
    },
    {
     "name": "stdout",
     "output_type": "stream",
     "text": [
      "count    143975.000000\n",
      "mean         12.194034\n",
      "std           6.398495\n",
      "min          -8.500000\n",
      "25%           7.600000\n",
      "50%          12.000000\n",
      "75%          16.900000\n",
      "max          33.900000\n",
      "Name: MinTemp, dtype: float64\n",
      "count    144199.000000\n",
      "mean         23.221348\n",
      "std           7.119049\n",
      "min          -4.800000\n",
      "25%          17.900000\n",
      "50%          22.600000\n",
      "75%          28.200000\n",
      "max          48.100000\n",
      "Name: MaxTemp, dtype: float64\n"
     ]
    }
   ],
   "source": [
    "#Start with MinTemp and MaxTemp\n",
    "\n",
    "plt.figure(figsize=[20,5])\n",
    "\n",
    "plt.subplot(1,3,1)\n",
    "sns.boxplot(x=weather[\"MinTemp\"])\n",
    "plt.title('Distribution of Minimum Temperature')\n",
    "\n",
    "plt.subplot(1,3,2)\n",
    "sns.boxplot(x=weather[\"MaxTemp\"])\n",
    "plt.title('Distribution of Maximum Temperature')\n",
    "plt.show()\n",
    "\n",
    "print(weather['MinTemp'].describe())\n",
    "print(weather['MaxTemp'].describe())"
   ]
  },
  {
   "cell_type": "code",
   "execution_count": 8,
   "metadata": {},
   "outputs": [
    {
     "data": {
      "image/png": "[encoded data removed]",
      "text/plain": [
       "<matplotlib.figure.Figure at 0x1052af4e0>"
      ]
     },
     "metadata": {},
     "output_type": "display_data"
    }
   ],
   "source": [
    "#Next look at Wind Speed\n",
    "\n",
    "plt.figure(figsize=[20,5])\n",
    "\n",
    "plt.subplot(1,3,1)\n",
    "sns.distplot(weather['WindSpeed9am'].dropna())\n",
    "plt.title('Distribution of Wind Speed at 9 am')\n",
    "\n",
    "plt.subplot(1,3,2)\n",
    "sns.distplot(weather['WindSpeed3pm'].dropna())\n",
    "plt.title('Distribution of Wind Speed at 3 pm')\n",
    "plt.show()"
   ]
  },
  {
   "cell_type": "code",
   "execution_count": 9,
   "metadata": {},
   "outputs": [
    {
     "data": {
      "image/png": "[encoded data removed]",
      "text/plain": [
       "<matplotlib.figure.Figure at 0x1a1015ea58>"
      ]
     },
     "metadata": {},
     "output_type": "display_data"
    },
    {
     "name": "stdout",
     "output_type": "stream",
     "text": [
      "count    142199.000000\n",
      "mean          2.360918\n",
      "std           8.478060\n",
      "min           0.000000\n",
      "25%           0.000000\n",
      "50%           0.000000\n",
      "75%           0.800000\n",
      "max         371.000000\n",
      "Name: Rainfall, dtype: float64\n"
     ]
    }
   ],
   "source": [
    "#Next, look at rainfall\n",
    "\n",
    "sns.distplot(weather['Rainfall'].dropna())\n",
    "plt.title('Distribution of Rainfall')\n",
    "plt.show()\n",
    "print(weather['Rainfall'].describe())"
   ]
  },
  {
   "cell_type": "markdown",
   "metadata": {},
   "source": [
    "Will need to remove right skewness due to extreme outlier in data cleaning section. If you look at the describe method results, you'll see a maximum of 371, when 75% of the data is under 0.8."
   ]
  },
  {
   "cell_type": "code",
   "execution_count": 10,
   "metadata": {},
   "outputs": [
    {
     "data": {
      "image/png": "[encoded data removed]",
      "text/plain": [
       "<matplotlib.figure.Figure at 0x1a0c87d278>"
      ]
     },
     "metadata": {},
     "output_type": "display_data"
    }
   ],
   "source": [
    "#Next look at Humidity\n",
    "\n",
    "plt.figure(figsize=[20,5])\n",
    "\n",
    "plt.subplot(1,3,1)\n",
    "sns.distplot(weather['Humidity9am'].dropna())\n",
    "plt.title('Distribution of Humidity at 9 am')\n",
    "\n",
    "plt.subplot(1,3,2)\n",
    "sns.distplot(weather['Humidity3pm'].dropna())\n",
    "plt.title('Distribution of Humidity at 3 pm')\n",
    "plt.show()"
   ]
  },
  {
   "cell_type": "code",
   "execution_count": 11,
   "metadata": {},
   "outputs": [
    {
     "data": {
      "image/png": "[encoded data removed]",
      "text/plain": [
       "<matplotlib.figure.Figure at 0x1a0c8b7668>"
      ]
     },
     "metadata": {},
     "output_type": "display_data"
    }
   ],
   "source": [
    "#Next, look at cloudiness\n",
    "\n",
    "plt.figure(figsize=[20,5])\n",
    "\n",
    "plt.subplot(1,3,1)\n",
    "sns.countplot(x=weather['Cloud9am'].dropna(), data=weather)\n",
    "plt.title('Distribution of Cloudiness at 9 am')\n",
    "\n",
    "\n",
    "plt.subplot(1,3,2)\n",
    "sns.countplot(x=weather['Cloud3pm'].dropna(), data=weather)\n",
    "plt.title('Distribution of Cloudiness at 3 pm')\n",
    "plt.show()"
   ]
  },
  {
   "cell_type": "code",
   "execution_count": 12,
   "metadata": {},
   "outputs": [
    {
     "data": {
      "image/png": "[encoded data removed]",
      "text/plain": [
       "<matplotlib.figure.Figure at 0x1a0c8d7748>"
      ]
     },
     "metadata": {},
     "output_type": "display_data"
    }
   ],
   "source": [
    "#Next, look at air pressure\n",
    "\n",
    "plt.figure(figsize=[20,5])\n",
    "\n",
    "plt.subplot(1,3,1)\n",
    "sns.distplot(weather['Pressure9am'].dropna())\n",
    "plt.title('Distribution of Air Pressure at 9 am')\n",
    "\n",
    "plt.subplot(1,3,2)\n",
    "sns.distplot(weather['Pressure3pm'].dropna())\n",
    "plt.title('Distribution of Air Pressure at 3 pm')\n",
    "plt.show()"
   ]
  },
  {
   "cell_type": "code",
   "execution_count": 13,
   "metadata": {},
   "outputs": [
    {
     "data": {
      "image/png": "[encoded data removed]",
      "text/plain": [
       "<matplotlib.figure.Figure at 0x1a0c869e80>"
      ]
     },
     "metadata": {},
     "output_type": "display_data"
    },
    {
     "name": "stdout",
     "output_type": "stream",
     "text": [
      "count    142193.000000\n",
      "mean          2.360682\n",
      "std           8.477969\n",
      "min           0.000000\n",
      "25%           0.000000\n",
      "50%           0.000000\n",
      "75%           0.800000\n",
      "max         371.000000\n",
      "Name: RISK_MM, dtype: float64\n"
     ]
    }
   ],
   "source": [
    "#Finally, look at Risk of Rain\n",
    "sns.distplot(weather['RISK_MM'].dropna())\n",
    "plt.title('Distribution of Risk of Rain')\n",
    "plt.show()\n",
    "print(weather['RISK_MM'].describe())"
   ]
  },
  {
   "cell_type": "markdown",
   "metadata": {},
   "source": [
    "Similar to Rainfall feature above, the extreme outlier will have to be removed."
   ]
  },
  {
   "cell_type": "code",
   "execution_count": 14,
   "metadata": {},
   "outputs": [
    {
     "data": {
      "image/png": "[encoded data removed]",
      "text/plain": [
       "<matplotlib.figure.Figure at 0x1052a6978>"
      ]
     },
     "metadata": {},
     "output_type": "display_data"
    }
   ],
   "source": [
    "#Now look at Rain Today and whether or not it rained the next day (Rain Tomorrow)\n",
    "sns.countplot(x='RainToday', hue='RainTomorrow', data=weather)\n",
    "plt.title('Rain Today vs. Rain Tomorrow')\n",
    "plt.xlabel('Did it Rain Today?')\n",
    "plt.show()"
   ]
  },
  {
   "cell_type": "code",
   "execution_count": 16,
   "metadata": {},
   "outputs": [
    {
     "data": {
      "image/png": "[encoded data removed]",
      "text/plain": [
       "<matplotlib.figure.Figure at 0x108b80898>"
      ]
     },
     "metadata": {},
     "output_type": "display_data"
    }
   ],
   "source": [
    "#Correlation matrix with sns.heatmap\n",
    "\n",
    "# Set up the matplotlib figure.\n",
    "f, ax = plt.subplots(figsize=(25, 25))\n",
    "\n",
    "sns.heatmap(weather.corr())\n",
    "plt.xticks(size=20)\n",
    "plt.yticks(size=20, rotation='horizontal')\n",
    "plt.show()"
   ]
  },
  {
   "cell_type": "markdown",
   "metadata": {},
   "source": [
    "## Data Cleaning"
   ]
  },
  {
   "cell_type": "code",
   "execution_count": 17,
   "metadata": {},
   "outputs": [
    {
     "name": "stdout",
     "output_type": "stream",
     "text": [
      "Date                 0\n",
      "Location             0\n",
      "MinTemp           1485\n",
      "MaxTemp           1261\n",
      "Rainfall          3261\n",
      "Evaporation      62790\n",
      "Sunshine         69835\n",
      "WindGustDir      10326\n",
      "WindGustSpeed    10263\n",
      "WindDir9am       10566\n",
      "WindDir3pm        4228\n",
      "WindSpeed9am      1767\n",
      "WindSpeed3pm      3062\n",
      "Humidity9am       2654\n",
      "Humidity3pm       4507\n",
      "Pressure9am      15065\n",
      "Pressure3pm      15028\n",
      "Cloud9am         55888\n",
      "Cloud3pm         59358\n",
      "Temp9am           1767\n",
      "Temp3pm           3609\n",
      "RainToday         3261\n",
      "RISK_MM           3267\n",
      "RainTomorrow      3267\n",
      "dtype: int64\n"
     ]
    }
   ],
   "source": [
    "#Determine missing values across dataframe\n",
    "\n",
    "missing_values_count = weather.isnull().sum()\n",
    "print(missing_values_count)"
   ]
  },
  {
   "cell_type": "code",
   "execution_count": 18,
   "metadata": {},
   "outputs": [],
   "source": [
    "#Due to the magnitude of missing values, in order to not harm the integrity of the data, \n",
    "#we will simply drop all NaNs for the time being.\n",
    "\n",
    "weather = weather.dropna()"
   ]
  },
  {
   "cell_type": "markdown",
   "metadata": {},
   "source": [
    "## Feature Selection / Engineering"
   ]
  },
  {
   "cell_type": "code",
   "execution_count": 19,
   "metadata": {},
   "outputs": [],
   "source": [
    "#Change RainToday & RainTomorrow to binary\n",
    "weather['RainToday'] = np.where((weather['RainToday'] == 'Yes'), 1, 0) #Rain = 1, No Rain = 0\n",
    "weather['RainTomorrow'] = np.where((weather['RainTomorrow'] == 'Yes'), 1, 0) #Rain = 1, No Rain = 0"
   ]
  },
  {
   "cell_type": "code",
   "execution_count": 20,
   "metadata": {},
   "outputs": [
    {
     "data": {
      "text/plain": [
       "12.2"
      ]
     },
     "execution_count": 20,
     "metadata": {},
     "output_type": "execute_result"
    }
   ],
   "source": [
    "#Get rid of skewness/outliers in Risk of Rain\n",
    "weather['Rainfall'].quantile(0.95)"
   ]
  },
  {
   "cell_type": "code",
   "execution_count": 21,
   "metadata": {},
   "outputs": [],
   "source": [
    "#Transform Risk of Rain based on quantile method above\n",
    "weather = weather[weather['Rainfall'] <= 12.2]"
   ]
  },
  {
   "cell_type": "markdown",
   "metadata": {},
   "source": [
    "Based on the fact that RISK_MM may have inherent predictive quality, we will remove it. "
   ]
  },
  {
   "cell_type": "code",
   "execution_count": 22,
   "metadata": {},
   "outputs": [],
   "source": [
    "#Drop features\n",
    "weather = weather.drop(['Date'], 1)\n",
    "weather = weather.drop(['RISK_MM'], 1)"
   ]
  },
  {
   "cell_type": "markdown",
   "metadata": {},
   "source": [
    "## Define Research Question"
   ]
  },
  {
   "cell_type": "markdown",
   "metadata": {},
   "source": [
    "**Background:**It seems that the public is always blaming the \"weatherman\" when a prediction proves to be false. Inaccurate predictions can be quite impactful, from ruining plans or events to causing dangerous road conditions. Being able to predict, to a very high degree of certainty, whether or not certain weather conditions will occur would be an extremely useful model.\n",
    "\n",
    "**Research Question:**Will it rain tomorrow?\n",
    "\n",
    "**Methodology:**First determine baseline accuracy, then use a number of different classification models to fit our data and predict accuracy. Based on the results, refine and tune in order to achieve the highest accuracy, in both training and test data. "
   ]
  },
  {
   "cell_type": "markdown",
   "metadata": {},
   "source": [
    "## Create Repeatable Functions for Each Model Type"
   ]
  },
  {
   "cell_type": "code",
   "execution_count": 23,
   "metadata": {},
   "outputs": [
    {
     "name": "stdout",
     "output_type": "stream",
     "text": [
      "(53622, 91)\n"
     ]
    }
   ],
   "source": [
    "#Establish X and Y\n",
    "#Use pd.get_dummies for X because WindGustDir, WindDir9am, WindDir3pm are categorical\n",
    "\n",
    "X = weather.drop(['RainTomorrow'], 1)\n",
    "X = pd.get_dummies(X)\n",
    "Y = weather.RainTomorrow\n",
    "\n",
    "#Show final feature count that goes into model\n",
    "print(X.shape)"
   ]
  },
  {
   "cell_type": "markdown",
   "metadata": {},
   "source": [
    "## Naive Bayes"
   ]
  },
  {
   "cell_type": "code",
   "execution_count": 24,
   "metadata": {},
   "outputs": [],
   "source": [
    "#Create Function\n",
    "\n",
    "def NB_Model(model):\n",
    "        import timeit\n",
    "        start = timeit.default_timer()\n",
    "        if model == 'Bernoulli':\n",
    "                NB_Model = BernoulliNB()\n",
    "                NB_Model.fit(X, Y)\n",
    "                positive_pred = NB_Model.predict(X)\n",
    "                print('\\n Percentage accuracy for Bernoulli Naive Bayes')\n",
    "        \n",
    "        elif model == 'Gaussian':\n",
    "                NB_Model = GaussianNB()\n",
    "                NB_Model.fit(X, Y)\n",
    "                positive_pred = NB_Model.predict(X)\n",
    "                print('\\n Percentage accuracy for Gaussian Naive Bayes')\n",
    "\n",
    "        else:\n",
    "                NB_Model = MultinomialNB()\n",
    "                NB_Model.fit(X, Y)\n",
    "                positive_pred = NB_Model.predict(X)\n",
    "                print('\\n Percentage accuracy for Multinomial Naive Bayes')\n",
    "            \n",
    "        print(str(NB_Model.score(X, Y)*100) + '%')\n",
    "        print('\\n Cross-Validation Score')\n",
    "        print(cross_val_score(NB_Model, X, Y, cv=5))\n",
    "        print('\\n Confusion Matrix')\n",
    "        display(confusion_matrix(Y, positive_pred))\n",
    "        \n",
    "        #Print time\n",
    "        stop = timeit.default_timer()\n",
    "        execution_time = stop - start\n",
    "        print(\"\\n\\n Program Executed in {}\".format(round(execution_time, 2)))"
   ]
  },
  {
   "cell_type": "markdown",
   "metadata": {},
   "source": [
    "## K-Nearest Neighbors"
   ]
  },
  {
   "cell_type": "code",
   "execution_count": 25,
   "metadata": {},
   "outputs": [],
   "source": [
    "#Create function\n",
    "\n",
    "def KNN_Model(k, weight):\n",
    "    import timeit\n",
    "    start = timeit.default_timer()\n",
    "    KNN = KNeighborsClassifier(n_neighbors=k, weights=weight)\n",
    "    KNN.fit(X, Y)\n",
    "    positive_pred = KNN.predict(X)\n",
    "    print('\\n Percentage accuracy for K Nearest Neighbors Classifier')\n",
    "    print(str(KNN.score(X, Y)*100) + '%')\n",
    "    print('\\n Cross-Validation Score')\n",
    "    print(cross_val_score(KNN, X, Y, cv=5))\n",
    "    print('\\n Confusion Matrix')\n",
    "    display(confusion_matrix(Y, positive_pred))\n",
    "    \n",
    "    #Print time\n",
    "    stop = timeit.default_timer()\n",
    "    execution_time = stop - start\n",
    "    print(\"\\n\\n Program Executed in {}\".format(round(execution_time, 2)))"
   ]
  },
  {
   "cell_type": "markdown",
   "metadata": {},
   "source": [
    "## Random Forest"
   ]
  },
  {
   "cell_type": "code",
   "execution_count": 26,
   "metadata": {},
   "outputs": [],
   "source": [
    "#Create function\n",
    "\n",
    "def RFC_Model(trees, criteria, num_features, depth):\n",
    "    import timeit\n",
    "    start = timeit.default_timer()\n",
    "    rfc = ensemble.RandomForestClassifier(n_estimators=trees, criterion=criteria, max_features=num_features, max_depth=depth)\n",
    "    rfc.fit(X, Y)\n",
    "    positive_pred = rfc.predict(X)\n",
    "    print('\\n Percentage accuracy for Random Forest Classifier')\n",
    "    print(str(rfc.score(X, Y)*100) + '%')\n",
    "    print('\\n Cross-Validation Score')\n",
    "    print(cross_val_score(rfc, X, Y, cv=5))\n",
    "    print('\\n Confusion Matrix')\n",
    "    display(confusion_matrix(Y, positive_pred))\n",
    "    \n",
    "    #Print time\n",
    "    stop = timeit.default_timer()\n",
    "    execution_time = stop - start\n",
    "    print(\"\\n\\n Program Executed in {}\".format(round(execution_time, 2)))"
   ]
  },
  {
   "cell_type": "markdown",
   "metadata": {},
   "source": [
    "## Logistic Regression"
   ]
  },
  {
   "cell_type": "code",
   "execution_count": 27,
   "metadata": {},
   "outputs": [],
   "source": [
    "#Create function\n",
    "\n",
    "def Logistic_Reg_Model(regularization, alpha):\n",
    "    import timeit\n",
    "    start = timeit.default_timer()\n",
    "    if regularization == 'l1':\n",
    "        lr_lasso = LogisticRegression(penalty=regularization, C=alpha)\n",
    "        lr_lasso.fit(X, Y)\n",
    "        positive_pred = lr_lasso.predict(X)\n",
    "        print('\\n Percentage accuracy for Lasso Logistic Regression')\n",
    "        print(str(lr_lasso.score(X, Y)*100) + '%')\n",
    "        print('\\n Cross-Validation Score')\n",
    "        print(cross_val_score(lr_lasso, X, Y, cv=5))\n",
    "        print('\\n Confusion Matrix')\n",
    "        display(confusion_matrix(Y, positive_pred))\n",
    "        \n",
    "    elif regularization == 'l2' and alpha == 1e9:\n",
    "        lr_regular = LogisticRegression(penalty=regularization, C=alpha)\n",
    "        lr_regular.fit(X, Y)\n",
    "        positive_pred = lr_regular.predict(X)\n",
    "        print('\\n Percentage accuracy for Logistic Regression')\n",
    "        print(str(lr_regular.score(X, Y)*100) + '%')\n",
    "        print('\\n Cross-Validation Score')\n",
    "        print(cross_val_score(lr_regular, X, Y, cv=5))\n",
    "        print('\\n Confusion Matrix')\n",
    "        display(confusion_matrix(Y, positive_pred))\n",
    "    else:\n",
    "        lr_ridge = LogisticRegression(penalty=regularization, C=alpha)\n",
    "        lr_ridge.fit(X, Y)\n",
    "        positive_pred = lr_ridge.predict(X)\n",
    "        print('\\n Percentage accuracy for Ridge Logistic Regression')\n",
    "        print(str(lr_ridge.score(X, Y)*100) + '%')\n",
    "        print('\\n Cross-Validation Score')\n",
    "        print(cross_val_score(lr_ridge, X, Y, cv=5))\n",
    "        print('\\n Confusion Matrix')\n",
    "        display(confusion_matrix(Y, positive_pred))\n",
    "        \n",
    "     #Print time\n",
    "    stop = timeit.default_timer()\n",
    "    execution_time = stop - start\n",
    "    print(\"\\n\\n Program Executed in {}\".format(round(execution_time, 2)))"
   ]
  },
  {
   "cell_type": "markdown",
   "metadata": {},
   "source": [
    "## Support Vector Classifer"
   ]
  },
  {
   "cell_type": "code",
   "execution_count": 28,
   "metadata": {},
   "outputs": [],
   "source": [
    "#Create function\n",
    "\n",
    "def SVC_Model(c, kernel_type):\n",
    "    import timeit\n",
    "    start = timeit.default_timer()\n",
    "    svm = SVC(C=c, kernel=kernel_type)\n",
    "    svm.fit(X, Y)\n",
    "    positive_pred = svm.predict(X)\n",
    "    print('\\n Percentage accuracy for SVM')\n",
    "    print(str(svm.score(X, Y)*100) + '%')\n",
    "    print('\\n Cross-Validation Score')\n",
    "    print(cross_val_score(svm, X, Y, cv=5))\n",
    "    print('\\n Confusion Matrix')\n",
    "    display(confusion_matrix(Y, positive_pred))\n",
    "    \n",
    "    #Print time\n",
    "    stop = timeit.default_timer()\n",
    "    execution_time = stop - start\n",
    "    print(\"\\n\\n Program Executed in {}\".format(round(execution_time, 2)))\n",
    "    "
   ]
  },
  {
   "cell_type": "markdown",
   "metadata": {},
   "source": [
    "## Gradient Boosting"
   ]
  },
  {
   "cell_type": "code",
   "execution_count": 29,
   "metadata": {},
   "outputs": [],
   "source": [
    "#Create function\n",
    "\n",
    "def Gradient_Boost_Model(estimators, depth, loss_function, sampling):\n",
    "    import timeit\n",
    "    start = timeit.default_timer()\n",
    "    clf = ensemble.GradientBoostingClassifier(n_estimators=estimators, max_depth=depth, loss=loss_function, subsample=sampling)\n",
    "    clf.fit(X, Y)\n",
    "    positive_pred = clf.predict(X)\n",
    "    print('\\n Percentage accuracy for Gradient Boosting Classifier')\n",
    "    print(str(clf.score(X, Y)*100) + '%')\n",
    "    print('\\n Cross-Validation Score')\n",
    "    print(cross_val_score(clf, X, Y, cv=5))\n",
    "    print('\\n Confusion Matrix')\n",
    "    display(confusion_matrix(Y, positive_pred))\n",
    "    \n",
    "    #Print time\n",
    "    stop = timeit.default_timer()\n",
    "    execution_time = stop - start\n",
    "    print(\"\\n\\n Program Executed in {}\".format(round(execution_time, 2)))"
   ]
  },
  {
   "cell_type": "markdown",
   "metadata": {},
   "source": [
    "## Run Initial Models, Default Parameters"
   ]
  },
  {
   "cell_type": "code",
   "execution_count": 30,
   "metadata": {},
   "outputs": [],
   "source": [
    "#Use a sample so that our models will run without using too much computing power\n",
    "weather = weather.sample(n = 10000)\n",
    "\n",
    "#Reestablish X and Y\n",
    "X = weather.drop(['RainTomorrow'], 1)\n",
    "X = pd.get_dummies(X)\n",
    "Y = weather.RainTomorrow"
   ]
  },
  {
   "cell_type": "code",
   "execution_count": 31,
   "metadata": {},
   "outputs": [
    {
     "name": "stdout",
     "output_type": "stream",
     "text": [
      "Baseline accuracy for Rain Tomorrow is: 19.96%\n"
     ]
    }
   ],
   "source": [
    "#Calculate baseline accuracy for RainTomorrow\n",
    "RainTomorrow_total = weather['RainTomorrow'].sum()\n",
    "print('Baseline accuracy for Rain Tomorrow is: ' + str(round((RainTomorrow_total/weather.shape[0])*100, 2)) + '%')"
   ]
  },
  {
   "cell_type": "code",
   "execution_count": 32,
   "metadata": {},
   "outputs": [
    {
     "name": "stdout",
     "output_type": "stream",
     "text": [
      "\n",
      " Percentage accuracy for Bernoulli Naive Bayes\n",
      "78.25999999999999%\n",
      "\n",
      " Cross-Validation Score\n",
      "[0.77961019 0.7795     0.785      0.777      0.77838919]\n",
      "\n",
      " Confusion Matrix\n"
     ]
    },
    {
     "data": {
      "text/plain": [
       "array([[7009,  995],\n",
       "       [1179,  817]])"
      ]
     },
     "metadata": {},
     "output_type": "display_data"
    },
    {
     "name": "stdout",
     "output_type": "stream",
     "text": [
      "\n",
      "\n",
      " Program Executed in 0.22\n",
      "\n",
      "\n",
      "\n",
      "\n",
      " Percentage accuracy for K Nearest Neighbors Classifier\n",
      "88.12%\n",
      "\n",
      " Cross-Validation Score\n",
      "[0.84807596 0.84       0.849      0.847      0.84092046]\n",
      "\n",
      " Confusion Matrix\n"
     ]
    },
    {
     "data": {
      "text/plain": [
       "array([[7700,  304],\n",
       "       [ 884, 1112]])"
      ]
     },
     "metadata": {},
     "output_type": "display_data"
    },
    {
     "name": "stdout",
     "output_type": "stream",
     "text": [
      "\n",
      "\n",
      " Program Executed in 10.48\n",
      "\n",
      "\n",
      "\n",
      "\n",
      " Percentage accuracy for Random Forest Classifier\n",
      "98.56%\n",
      "\n",
      " Cross-Validation Score\n",
      "[0.84207896 0.8535     0.8515     0.8455     0.84892446]\n",
      "\n",
      " Confusion Matrix\n"
     ]
    },
    {
     "data": {
      "text/plain": [
       "array([[8000,    4],\n",
       "       [ 140, 1856]])"
      ]
     },
     "metadata": {},
     "output_type": "display_data"
    },
    {
     "name": "stdout",
     "output_type": "stream",
     "text": [
      "\n",
      "\n",
      " Program Executed in 1.02\n",
      "\n",
      "\n",
      "\n",
      "\n",
      " Percentage accuracy for Logistic Regression\n",
      "86.71%\n",
      "\n",
      " Cross-Validation Score\n",
      "[0.86706647 0.86       0.8615     0.871      0.85442721]\n",
      "\n",
      " Confusion Matrix\n"
     ]
    },
    {
     "data": {
      "text/plain": [
       "array([[7631,  373],\n",
       "       [ 956, 1040]])"
      ]
     },
     "metadata": {},
     "output_type": "display_data"
    },
    {
     "name": "stdout",
     "output_type": "stream",
     "text": [
      "\n",
      "\n",
      " Program Executed in 1.06\n",
      "\n",
      "\n",
      "\n",
      "\n",
      " Percentage accuracy for Lasso Logistic Regression\n",
      "86.64%\n",
      "\n",
      " Cross-Validation Score\n",
      "[0.86306847 0.859      0.8585     0.874      0.84642321]\n",
      "\n",
      " Confusion Matrix\n"
     ]
    },
    {
     "data": {
      "text/plain": [
       "array([[7640,  364],\n",
       "       [ 972, 1024]])"
      ]
     },
     "metadata": {},
     "output_type": "display_data"
    },
    {
     "name": "stdout",
     "output_type": "stream",
     "text": [
      "\n",
      "\n",
      " Program Executed in 186.08\n",
      "\n",
      "\n",
      "\n",
      "\n",
      " Percentage accuracy for Ridge Logistic Regression\n",
      "86.59%\n",
      "\n",
      " Cross-Validation Score\n",
      "[0.86756622 0.86       0.862      0.871      0.85242621]\n",
      "\n",
      " Confusion Matrix\n"
     ]
    },
    {
     "data": {
      "text/plain": [
       "array([[7644,  360],\n",
       "       [ 981, 1015]])"
      ]
     },
     "metadata": {},
     "output_type": "display_data"
    },
    {
     "name": "stdout",
     "output_type": "stream",
     "text": [
      "\n",
      "\n",
      " Program Executed in 1.15\n",
      "\n",
      "\n",
      "\n",
      "\n",
      " Percentage accuracy for SVM\n",
      "95.97%\n",
      "\n",
      " Cross-Validation Score\n",
      "[0.82858571 0.833      0.827      0.8245     0.82491246]\n",
      "\n",
      " Confusion Matrix\n"
     ]
    },
    {
     "data": {
      "text/plain": [
       "array([[7987,   17],\n",
       "       [ 386, 1610]])"
      ]
     },
     "metadata": {},
     "output_type": "display_data"
    },
    {
     "name": "stdout",
     "output_type": "stream",
     "text": [
      "\n",
      "\n",
      " Program Executed in 92.92\n",
      "\n",
      "\n",
      "\n",
      "\n",
      " Percentage accuracy for Gradient Boosting Classifier\n",
      "88.24%\n",
      "\n",
      " Cross-Validation Score\n",
      "[0.86456772 0.865      0.8715     0.861      0.84792396]\n",
      "\n",
      " Confusion Matrix\n"
     ]
    },
    {
     "data": {
      "text/plain": [
       "array([[7745,  259],\n",
       "       [ 917, 1079]])"
      ]
     },
     "metadata": {},
     "output_type": "display_data"
    },
    {
     "name": "stdout",
     "output_type": "stream",
     "text": [
      "\n",
      "\n",
      " Program Executed in 13.85\n"
     ]
    }
   ],
   "source": [
    "#Run all models with default criteria, with returns in between so we can easily read\n",
    "\n",
    "#Bernoulli Naive Bayes\n",
    "NB_Model('Bernoulli')\n",
    "print('\\n\\n')\n",
    "\n",
    "#K-Nearest Neighbors\n",
    "KNN_Model(5, 'uniform')\n",
    "print('\\n\\n')\n",
    "\n",
    "#Random Forest\n",
    "RFC_Model(10, 'gini', 'auto', None)\n",
    "print('\\n\\n')\n",
    "\n",
    "#Plain Logistic Regression\n",
    "Logistic_Reg_Model('l2', 1e9)\n",
    "print('\\n\\n')\n",
    "\n",
    "#Lasso Logistic Regression\n",
    "Logistic_Reg_Model('l1', 1.0)\n",
    "print('\\n\\n')\n",
    "\n",
    "#Ridge Logistic Regression\n",
    "Logistic_Reg_Model('l2', 1.0)\n",
    "print('\\n\\n')\n",
    "\n",
    "#Support Vector Classifier\n",
    "SVC_Model(1.0, 'rbf')\n",
    "print('\\n\\n')\n",
    "\n",
    "#Gradient boost classifier\n",
    "Gradient_Boost_Model(100, 3, 'deviance', 1.0)"
   ]
  },
  {
   "cell_type": "markdown",
   "metadata": {},
   "source": [
    "## Run Models Again, This Timing with Tuned Parameters"
   ]
  },
  {
   "cell_type": "code",
   "execution_count": 33,
   "metadata": {},
   "outputs": [
    {
     "name": "stdout",
     "output_type": "stream",
     "text": [
      "\n",
      " Percentage accuracy for Gaussian Naive Bayes\n",
      "71.64%\n",
      "\n",
      " Cross-Validation Score\n",
      "[0.72313843 0.706      0.717      0.704      0.69734867]\n",
      "\n",
      " Confusion Matrix\n"
     ]
    },
    {
     "data": {
      "text/plain": [
       "array([[5743, 2261],\n",
       "       [ 575, 1421]])"
      ]
     },
     "metadata": {},
     "output_type": "display_data"
    },
    {
     "name": "stdout",
     "output_type": "stream",
     "text": [
      "\n",
      "\n",
      " Program Executed in 0.25\n",
      "\n",
      "\n",
      "\n",
      "\n",
      " Percentage accuracy for K Nearest Neighbors Classifier\n",
      "100.0%\n",
      "\n",
      " Cross-Validation Score\n",
      "[0.85507246 0.868      0.8615     0.8585     0.84392196]\n",
      "\n",
      " Confusion Matrix\n"
     ]
    },
    {
     "data": {
      "text/plain": [
       "array([[8004,    0],\n",
       "       [   0, 1996]])"
      ]
     },
     "metadata": {},
     "output_type": "display_data"
    },
    {
     "name": "stdout",
     "output_type": "stream",
     "text": [
      "\n",
      "\n",
      " Program Executed in 14.85\n",
      "\n",
      "\n",
      "\n",
      "\n",
      " Percentage accuracy for Random Forest Classifier\n",
      "99.96000000000001%\n",
      "\n",
      " Cross-Validation Score\n",
      "[0.85507246 0.8585     0.8635     0.861      0.84892446]\n",
      "\n",
      " Confusion Matrix\n"
     ]
    },
    {
     "data": {
      "text/plain": [
       "array([[8004,    0],\n",
       "       [   4, 1992]])"
      ]
     },
     "metadata": {},
     "output_type": "display_data"
    },
    {
     "name": "stdout",
     "output_type": "stream",
     "text": [
      "\n",
      "\n",
      " Program Executed in 4.53\n",
      "\n",
      "\n",
      "\n",
      "\n",
      " Percentage accuracy for Lasso Logistic Regression\n",
      "86.52%\n",
      "\n",
      " Cross-Validation Score\n",
      "[0.86306847 0.863      0.8575     0.873      0.84742371]\n",
      "\n",
      " Confusion Matrix\n"
     ]
    },
    {
     "data": {
      "text/plain": [
       "array([[7633,  371],\n",
       "       [ 977, 1019]])"
      ]
     },
     "metadata": {},
     "output_type": "display_data"
    },
    {
     "name": "stdout",
     "output_type": "stream",
     "text": [
      "\n",
      "\n",
      " Program Executed in 216.25\n",
      "\n",
      "\n",
      "\n",
      "\n",
      " Percentage accuracy for Ridge Logistic Regression\n",
      "86.68%\n",
      "\n",
      " Cross-Validation Score\n",
      "[0.86756622 0.8595     0.862      0.8725     0.85292646]\n",
      "\n",
      " Confusion Matrix\n"
     ]
    },
    {
     "data": {
      "text/plain": [
       "array([[7637,  367],\n",
       "       [ 965, 1031]])"
      ]
     },
     "metadata": {},
     "output_type": "display_data"
    },
    {
     "name": "stdout",
     "output_type": "stream",
     "text": [
      "\n",
      "\n",
      " Program Executed in 1.2\n",
      "\n",
      "\n",
      "\n",
      "\n",
      " Percentage accuracy for SVM\n",
      "86.46000000000001%\n",
      "\n",
      " Cross-Validation Score\n",
      "[0.86206897 0.8605     0.861      0.8715     0.84542271]\n",
      "\n",
      " Confusion Matrix\n"
     ]
    },
    {
     "data": {
      "text/plain": [
       "array([[7645,  359],\n",
       "       [ 995, 1001]])"
      ]
     },
     "metadata": {},
     "output_type": "display_data"
    },
    {
     "name": "stdout",
     "output_type": "stream",
     "text": [
      "\n",
      "\n",
      " Program Executed in 143.23\n",
      "\n",
      "\n",
      "\n",
      "\n",
      " Percentage accuracy for Gradient Boosting Classifier\n",
      "92.5%\n",
      "\n",
      " Cross-Validation Score\n",
      "[0.86356822 0.8615     0.8695     0.866      0.84892446]\n",
      "\n",
      " Confusion Matrix\n"
     ]
    },
    {
     "data": {
      "text/plain": [
       "array([[7864,  140],\n",
       "       [ 610, 1386]])"
      ]
     },
     "metadata": {},
     "output_type": "display_data"
    },
    {
     "name": "stdout",
     "output_type": "stream",
     "text": [
      "\n",
      "\n",
      " Program Executed in 43.41\n"
     ]
    }
   ],
   "source": [
    "#Run Gaussian instead of Bernoulli\n",
    "NB_Model('Gaussian')\n",
    "print('\\n\\n')\n",
    "\n",
    "#K-Nearest Neighbors (use 25 for K instead of 5 and 'distance' for weight)\n",
    "KNN_Model(25, 'distance')\n",
    "print('\\n\\n')\n",
    "\n",
    "#Random Forest (use 50 trees, 'entropy' as the criterion)\n",
    "RFC_Model(50, 'entropy', 'auto', None)\n",
    "print('\\n\\n')\n",
    "\n",
    "#Lasso Logistic Regression (change alpha to 0.5)\n",
    "Logistic_Reg_Model('l1', 0.5)\n",
    "print('\\n\\n')\n",
    "\n",
    "#Ridge Logistic Regression (change alpha to 100)\n",
    "Logistic_Reg_Model('l2', 100)\n",
    "print('\\n\\n')\n",
    "\n",
    "#Support Vector Classifier (change kernel to 'linear')\n",
    "SVC_Model(1.0, 'linear')\n",
    "print('\\n\\n')\n",
    "\n",
    "#Gradient boost classifier (more estimators, more depth and subsampling)\n",
    "Gradient_Boost_Model(200, 4, 'deviance', 0.8)"
   ]
  },
  {
   "cell_type": "markdown",
   "metadata": {},
   "source": [
    "## Conduct PCA to Reduce Features, then Feed Those Components Back into Our Models"
   ]
  },
  {
   "cell_type": "code",
   "execution_count": 34,
   "metadata": {},
   "outputs": [
    {
     "data": {
      "text/plain": [
       "Text(0,0.5,'Cumulative Explained Variance')"
      ]
     },
     "execution_count": 34,
     "metadata": {},
     "output_type": "execute_result"
    },
    {
     "data": {
      "image/png": "[encoded data removed]",
      "text/plain": [
       "<matplotlib.figure.Figure at 0x1a0ccec5c0>"
      ]
     },
     "metadata": {},
     "output_type": "display_data"
    }
   ],
   "source": [
    "#Determining proper number of components\n",
    "\n",
    "from sklearn.decomposition import PCA \n",
    "\n",
    "pca = PCA().fit(X)\n",
    "plt.plot(np.cumsum(pca.explained_variance_ratio_))\n",
    "plt.xlabel('Number of Components')\n",
    "plt.xticks(np.arange(0,100, 5), rotation = 'vertical')\n",
    "plt.ylabel('Cumulative Explained Variance')"
   ]
  },
  {
   "cell_type": "code",
   "execution_count": 35,
   "metadata": {},
   "outputs": [
    {
     "name": "stdout",
     "output_type": "stream",
     "text": [
      "The percentage of total variance in the dataset explained by each component from Sklearn PCA.\n",
      " [0.49846793 0.20168398 0.11851299 0.07206118 0.0349588  0.02494505\n",
      " 0.02065961 0.00894566 0.00438023 0.0039246 ]\n"
     ]
    }
   ],
   "source": [
    "sklearn_pca = PCA(n_components=10)\n",
    "weather_pca = sklearn_pca.fit_transform(X)\n",
    "\n",
    "print(\n",
    "    'The percentage of total variance in the dataset explained by each',\n",
    "    'component from Sklearn PCA.\\n',\n",
    "    sklearn_pca.explained_variance_ratio_)"
   ]
  },
  {
   "cell_type": "code",
   "execution_count": 36,
   "metadata": {},
   "outputs": [
    {
     "data": {
      "text/plain": [
       "(10000, 10)"
      ]
     },
     "execution_count": 36,
     "metadata": {},
     "output_type": "execute_result"
    }
   ],
   "source": [
    "#Confirm dimensionality reduction\n",
    "weather_pca.shape"
   ]
  },
  {
   "cell_type": "code",
   "execution_count": 37,
   "metadata": {},
   "outputs": [
    {
     "name": "stdout",
     "output_type": "stream",
     "text": [
      "\n",
      " Percentage accuracy for Bernoulli Naive Bayes\n",
      "82.34%\n",
      "\n",
      " Cross-Validation Score\n",
      "[0.82858571 0.82       0.826      0.825      0.81590795]\n",
      "\n",
      " Confusion Matrix\n"
     ]
    },
    {
     "data": {
      "text/plain": [
       "array([[7731,  273],\n",
       "       [1493,  503]])"
      ]
     },
     "metadata": {},
     "output_type": "display_data"
    },
    {
     "name": "stdout",
     "output_type": "stream",
     "text": [
      "\n",
      "\n",
      " Program Executed in 0.06\n",
      "\n",
      "\n",
      "\n",
      "\n",
      " Percentage accuracy for K Nearest Neighbors Classifier\n",
      "88.11%\n",
      "\n",
      " Cross-Validation Score\n",
      "[0.84507746 0.8385     0.85       0.8485     0.83691846]\n",
      "\n",
      " Confusion Matrix\n"
     ]
    },
    {
     "data": {
      "text/plain": [
       "array([[7703,  301],\n",
       "       [ 888, 1108]])"
      ]
     },
     "metadata": {},
     "output_type": "display_data"
    },
    {
     "name": "stdout",
     "output_type": "stream",
     "text": [
      "\n",
      "\n",
      " Program Executed in 1.09\n",
      "\n",
      "\n",
      "\n",
      "\n",
      " Percentage accuracy for Random Forest Classifier\n",
      "98.68%\n",
      "\n",
      " Cross-Validation Score\n",
      "[0.84557721 0.8525     0.857      0.849      0.84142071]\n",
      "\n",
      " Confusion Matrix\n"
     ]
    },
    {
     "data": {
      "text/plain": [
       "array([[8000,    4],\n",
       "       [ 128, 1868]])"
      ]
     },
     "metadata": {},
     "output_type": "display_data"
    },
    {
     "name": "stdout",
     "output_type": "stream",
     "text": [
      "\n",
      "\n",
      " Program Executed in 1.42\n",
      "\n",
      "\n",
      "\n",
      "\n",
      " Percentage accuracy for Logistic Regression\n",
      "85.75%\n",
      "\n",
      " Cross-Validation Score\n",
      "[0.86156922 0.8605     0.859      0.862      0.84192096]\n",
      "\n",
      " Confusion Matrix\n"
     ]
    },
    {
     "data": {
      "text/plain": [
       "array([[7635,  369],\n",
       "       [1056,  940]])"
      ]
     },
     "metadata": {},
     "output_type": "display_data"
    },
    {
     "name": "stdout",
     "output_type": "stream",
     "text": [
      "\n",
      "\n",
      " Program Executed in 0.2\n",
      "\n",
      "\n",
      "\n",
      "\n",
      " Percentage accuracy for Lasso Logistic Regression\n",
      "85.75%\n",
      "\n",
      " Cross-Validation Score\n",
      "[0.86156922 0.8605     0.859      0.862      0.84192096]\n",
      "\n",
      " Confusion Matrix\n"
     ]
    },
    {
     "data": {
      "text/plain": [
       "array([[7635,  369],\n",
       "       [1056,  940]])"
      ]
     },
     "metadata": {},
     "output_type": "display_data"
    },
    {
     "name": "stdout",
     "output_type": "stream",
     "text": [
      "\n",
      "\n",
      " Program Executed in 0.13\n",
      "\n",
      "\n",
      "\n",
      "\n",
      " Percentage accuracy for Ridge Logistic Regression\n",
      "85.74000000000001%\n",
      "\n",
      " Cross-Validation Score\n",
      "[0.86156922 0.8605     0.859      0.8625     0.84192096]\n",
      "\n",
      " Confusion Matrix\n"
     ]
    },
    {
     "data": {
      "text/plain": [
       "array([[7633,  371],\n",
       "       [1055,  941]])"
      ]
     },
     "metadata": {},
     "output_type": "display_data"
    },
    {
     "name": "stdout",
     "output_type": "stream",
     "text": [
      "\n",
      "\n",
      " Program Executed in 0.22\n",
      "\n",
      "\n",
      "\n",
      "\n",
      " Percentage accuracy for SVM\n",
      "100.0%\n",
      "\n",
      " Cross-Validation Score\n",
      "[0.80009995 0.8005     0.8005     0.8005     0.8004002 ]\n",
      "\n",
      " Confusion Matrix\n"
     ]
    },
    {
     "data": {
      "text/plain": [
       "array([[8004,    0],\n",
       "       [   0, 1996]])"
      ]
     },
     "metadata": {},
     "output_type": "display_data"
    },
    {
     "name": "stdout",
     "output_type": "stream",
     "text": [
      "\n",
      "\n",
      " Program Executed in 30.86\n",
      "\n",
      "\n",
      "\n",
      "\n",
      " Percentage accuracy for Gradient Boosting Classifier\n",
      "87.68%\n",
      "\n",
      " Cross-Validation Score\n",
      "[0.85957021 0.862      0.852      0.8595     0.84492246]\n",
      "\n",
      " Confusion Matrix\n"
     ]
    },
    {
     "data": {
      "text/plain": [
       "array([[7734,  270],\n",
       "       [ 962, 1034]])"
      ]
     },
     "metadata": {},
     "output_type": "display_data"
    },
    {
     "name": "stdout",
     "output_type": "stream",
     "text": [
      "\n",
      "\n",
      " Program Executed in 5.72\n"
     ]
    }
   ],
   "source": [
    "#Reestablish X\n",
    "X = weather_pca\n",
    "\n",
    "#Rerun default models using PCA components\n",
    "\n",
    "#Bernoulli Naive Bayes\n",
    "NB_Model('Bernoulli')\n",
    "print('\\n\\n')\n",
    "\n",
    "#K-Nearest Neighbors\n",
    "KNN_Model(5, 'uniform')\n",
    "print('\\n\\n')\n",
    "\n",
    "#Random Forest\n",
    "RFC_Model(10, 'gini', 'auto', None)\n",
    "print('\\n\\n')\n",
    "\n",
    "#Plain Logistic Regression\n",
    "Logistic_Reg_Model('l2', 1e9)\n",
    "print('\\n\\n')\n",
    "\n",
    "#Lasso Logistic Regression\n",
    "Logistic_Reg_Model('l1', 1.0)\n",
    "print('\\n\\n')\n",
    "\n",
    "#Ridge Logistic Regression\n",
    "Logistic_Reg_Model('l2', 1.0)\n",
    "print('\\n\\n')\n",
    "\n",
    "#Support Vector Classifier\n",
    "SVC_Model(1.0, 'rbf')\n",
    "print('\\n\\n')\n",
    "\n",
    "#Gradient boost classifier\n",
    "Gradient_Boost_Model(100, 3, 'deviance', 1.0)"
   ]
  },
  {
   "cell_type": "markdown",
   "metadata": {},
   "source": [
    "## Use Recursive Feature Selection to Investigate Most Important Features Before Feature Re-Engineering Takes Place"
   ]
  },
  {
   "cell_type": "code",
   "execution_count": 38,
   "metadata": {},
   "outputs": [],
   "source": [
    "#Create function for RFE\n",
    "\n",
    "X = weather.drop(['RainTomorrow'], 1)\n",
    "X = pd.get_dummies(X)\n",
    "\n",
    "def recursive_feat_selection(model):\n",
    "    selector = RFE(model)\n",
    "    selector = selector.fit(X, Y)\n",
    "    rankings = pd.DataFrame({'Features': X.columns, 'Ranking' : selector.ranking_})\n",
    "    display(rankings.sort_values('Ranking').head(15))\n",
    "    "
   ]
  },
  {
   "cell_type": "code",
   "execution_count": 39,
   "metadata": {},
   "outputs": [
    {
     "name": "stdout",
     "output_type": "stream",
     "text": [
      "Recursive Feature Selection for Lasso Logistic Regression\n"
     ]
    },
    {
     "data": {
      "text/html": [
       "<div>\n",
       "<style scoped>\n",
       "    .dataframe tbody tr th:only-of-type {\n",
       "        vertical-align: middle;\n",
       "    }\n",
       "\n",
       "    .dataframe tbody tr th {\n",
       "        vertical-align: top;\n",
       "    }\n",
       "\n",
       "    .dataframe thead th {\n",
       "        text-align: right;\n",
       "    }\n",
       "</style>\n",
       "<table border=\"1\" class=\"dataframe\">\n",
       "  <thead>\n",
       "    <tr style=\"text-align: right;\">\n",
       "      <th></th>\n",
       "      <th>Features</th>\n",
       "      <th>Ranking</th>\n",
       "    </tr>\n",
       "  </thead>\n",
       "  <tbody>\n",
       "    <tr>\n",
       "      <th>90</th>\n",
       "      <td>WindDir3pm_WSW</td>\n",
       "      <td>1</td>\n",
       "    </tr>\n",
       "    <tr>\n",
       "      <th>58</th>\n",
       "      <td>WindGustDir_WSW</td>\n",
       "      <td>1</td>\n",
       "    </tr>\n",
       "    <tr>\n",
       "      <th>67</th>\n",
       "      <td>WindDir9am_S</td>\n",
       "      <td>1</td>\n",
       "    </tr>\n",
       "    <tr>\n",
       "      <th>66</th>\n",
       "      <td>WindDir9am_NW</td>\n",
       "      <td>1</td>\n",
       "    </tr>\n",
       "    <tr>\n",
       "      <th>65</th>\n",
       "      <td>WindDir9am_NNW</td>\n",
       "      <td>1</td>\n",
       "    </tr>\n",
       "    <tr>\n",
       "      <th>32</th>\n",
       "      <td>Location_Perth</td>\n",
       "      <td>1</td>\n",
       "    </tr>\n",
       "    <tr>\n",
       "      <th>64</th>\n",
       "      <td>WindDir9am_NNE</td>\n",
       "      <td>1</td>\n",
       "    </tr>\n",
       "    <tr>\n",
       "      <th>36</th>\n",
       "      <td>Location_Sydney</td>\n",
       "      <td>1</td>\n",
       "    </tr>\n",
       "    <tr>\n",
       "      <th>37</th>\n",
       "      <td>Location_SydneyAirport</td>\n",
       "      <td>1</td>\n",
       "    </tr>\n",
       "    <tr>\n",
       "      <th>40</th>\n",
       "      <td>Location_Watsonia</td>\n",
       "      <td>1</td>\n",
       "    </tr>\n",
       "    <tr>\n",
       "      <th>26</th>\n",
       "      <td>Location_MelbourneAirport</td>\n",
       "      <td>1</td>\n",
       "    </tr>\n",
       "    <tr>\n",
       "      <th>41</th>\n",
       "      <td>Location_Williamtown</td>\n",
       "      <td>1</td>\n",
       "    </tr>\n",
       "    <tr>\n",
       "      <th>62</th>\n",
       "      <td>WindDir9am_N</td>\n",
       "      <td>1</td>\n",
       "    </tr>\n",
       "    <tr>\n",
       "      <th>44</th>\n",
       "      <td>WindGustDir_ENE</td>\n",
       "      <td>1</td>\n",
       "    </tr>\n",
       "    <tr>\n",
       "      <th>89</th>\n",
       "      <td>WindDir3pm_WNW</td>\n",
       "      <td>1</td>\n",
       "    </tr>\n",
       "  </tbody>\n",
       "</table>\n",
       "</div>"
      ],
      "text/plain": [
       "                     Features  Ranking\n",
       "90             WindDir3pm_WSW        1\n",
       "58            WindGustDir_WSW        1\n",
       "67               WindDir9am_S        1\n",
       "66              WindDir9am_NW        1\n",
       "65             WindDir9am_NNW        1\n",
       "32             Location_Perth        1\n",
       "64             WindDir9am_NNE        1\n",
       "36            Location_Sydney        1\n",
       "37     Location_SydneyAirport        1\n",
       "40          Location_Watsonia        1\n",
       "26  Location_MelbourneAirport        1\n",
       "41       Location_Williamtown        1\n",
       "62               WindDir9am_N        1\n",
       "44            WindGustDir_ENE        1\n",
       "89             WindDir3pm_WNW        1"
      ]
     },
     "metadata": {},
     "output_type": "display_data"
    },
    {
     "name": "stdout",
     "output_type": "stream",
     "text": [
      "\n",
      "\n",
      "\n",
      "Recursive Feature Selection for Gradient Boosting\n",
      "[0.04506537 0.02400832 0.02002524 0.03016044 0.11346507 0.08723315\n",
      " 0.03834788 0.02970911 0.01548906 0.14696695 0.03686675 0.11013792\n",
      " 0.00881128 0.0335396  0.0354485  0.034634   0.00017015 0.\n",
      " 0.01547559 0.00680527 0.00298016 0.         0.00488772 0.\n",
      " 0.00469312 0.         0.00749397 0.00056531 0.         0.00182045\n",
      " 0.00238727 0.         0.02424925 0.00286318 0.00316206 0.00203516\n",
      " 0.01004562 0.00171016 0.01036587 0.00064269 0.00147804 0.00371949\n",
      " 0.         0.         0.         0.         0.         0.00101912\n",
      " 0.         0.00344298 0.         0.00318123 0.         0.00228418\n",
      " 0.         0.00090867 0.00128538 0.         0.         0.00180201\n",
      " 0.00322928 0.         0.         0.00750688 0.01348621 0.00416381\n",
      " 0.         0.00241071 0.         0.         0.         0.\n",
      " 0.00318999 0.00252313 0.         0.         0.         0.00174475\n",
      " 0.00281182 0.00201344 0.00575643 0.00148662 0.         0.\n",
      " 0.00096116 0.         0.00225021 0.00570213 0.00200429 0.00737639\n",
      " 0.        ]\n"
     ]
    }
   ],
   "source": [
    "#Use RFE on our top two models thus far - lasso logistic regression and\n",
    "#gradient boosting\n",
    "\n",
    "lr_lasso = LogisticRegression(penalty='l1', C=1.0)\n",
    "lr_lasso.fit(X, Y)\n",
    "print('Recursive Feature Selection for Lasso Logistic Regression')\n",
    "recursive_feat_selection(lr_lasso)\n",
    "print('\\n\\n')\n",
    "\n",
    "clf = ensemble.GradientBoostingClassifier(n_estimators=100, max_depth=3, loss='deviance', subsample=1)\n",
    "clf.fit(X, Y)\n",
    "print('Recursive Feature Selection for Gradient Boosting')\n",
    "print(clf.feature_importances_)\n"
   ]
  },
  {
   "cell_type": "markdown",
   "metadata": {},
   "source": [
    "Looks like Wind/Wind Gust Direction, along with Location are the most valuable features for these models."
   ]
  },
  {
   "cell_type": "markdown",
   "metadata": {},
   "source": [
    "## Take a Different Approach - Combat Class Imbalance by Taking a 50/50 DataFrame"
   ]
  },
  {
   "cell_type": "code",
   "execution_count": 41,
   "metadata": {},
   "outputs": [
    {
     "name": "stdout",
     "output_type": "stream",
     "text": [
      "1996\n"
     ]
    }
   ],
   "source": [
    "#Create dataframe of only RainTomorrow observations\n",
    "raintomorrow_true = weather[weather['RainTomorrow'] == 1]\n",
    "\n",
    "#Confirm number of fraudulent observations\n",
    "print(len(raintomorrow_true))"
   ]
  },
  {
   "cell_type": "code",
   "execution_count": 43,
   "metadata": {},
   "outputs": [
    {
     "name": "stdout",
     "output_type": "stream",
     "text": [
      "1966\n"
     ]
    }
   ],
   "source": [
    "#Create dataframe of only non-RainTomorrow observations, then take a sample\n",
    "raintomorrow_not_true = weather[weather['RainTomorrow'] == 0]\n",
    "raintomorrow_not_true = raintomorrow_not_true.sample(n = 1966)\n",
    "\n",
    "#Confirm number of non-fraudulent observations\n",
    "print(len(raintomorrow_not_true))"
   ]
  },
  {
   "cell_type": "code",
   "execution_count": 44,
   "metadata": {},
   "outputs": [],
   "source": [
    "#Combine our two dataframes (fraudulent and non-fraudulent) into one\n",
    "weather_revised = raintomorrow_true.append(raintomorrow_not_true)"
   ]
  },
  {
   "cell_type": "code",
   "execution_count": 45,
   "metadata": {},
   "outputs": [
    {
     "data": {
      "text/html": [
       "<div>\n",
       "<style scoped>\n",
       "    .dataframe tbody tr th:only-of-type {\n",
       "        vertical-align: middle;\n",
       "    }\n",
       "\n",
       "    .dataframe tbody tr th {\n",
       "        vertical-align: top;\n",
       "    }\n",
       "\n",
       "    .dataframe thead th {\n",
       "        text-align: right;\n",
       "    }\n",
       "</style>\n",
       "<table border=\"1\" class=\"dataframe\">\n",
       "  <thead>\n",
       "    <tr style=\"text-align: right;\">\n",
       "      <th></th>\n",
       "      <th>Location</th>\n",
       "      <th>MinTemp</th>\n",
       "      <th>MaxTemp</th>\n",
       "      <th>Rainfall</th>\n",
       "      <th>Evaporation</th>\n",
       "      <th>Sunshine</th>\n",
       "      <th>WindGustDir</th>\n",
       "      <th>WindGustSpeed</th>\n",
       "      <th>WindDir9am</th>\n",
       "      <th>WindDir3pm</th>\n",
       "      <th>...</th>\n",
       "      <th>Humidity9am</th>\n",
       "      <th>Humidity3pm</th>\n",
       "      <th>Pressure9am</th>\n",
       "      <th>Pressure3pm</th>\n",
       "      <th>Cloud9am</th>\n",
       "      <th>Cloud3pm</th>\n",
       "      <th>Temp9am</th>\n",
       "      <th>Temp3pm</th>\n",
       "      <th>RainToday</th>\n",
       "      <th>RainTomorrow</th>\n",
       "    </tr>\n",
       "  </thead>\n",
       "  <tbody>\n",
       "    <tr>\n",
       "      <th>37766</th>\n",
       "      <td>WaggaWagga</td>\n",
       "      <td>2.3</td>\n",
       "      <td>16.1</td>\n",
       "      <td>0.0</td>\n",
       "      <td>1.2</td>\n",
       "      <td>5.3</td>\n",
       "      <td>NNE</td>\n",
       "      <td>39.0</td>\n",
       "      <td>N</td>\n",
       "      <td>N</td>\n",
       "      <td>...</td>\n",
       "      <td>77.0</td>\n",
       "      <td>49.0</td>\n",
       "      <td>1014.8</td>\n",
       "      <td>1009.0</td>\n",
       "      <td>6.0</td>\n",
       "      <td>7.0</td>\n",
       "      <td>9.4</td>\n",
       "      <td>14.3</td>\n",
       "      <td>0</td>\n",
       "      <td>1</td>\n",
       "    </tr>\n",
       "    <tr>\n",
       "      <th>99784</th>\n",
       "      <td>MountGambier</td>\n",
       "      <td>10.0</td>\n",
       "      <td>13.0</td>\n",
       "      <td>7.2</td>\n",
       "      <td>1.4</td>\n",
       "      <td>1.5</td>\n",
       "      <td>WSW</td>\n",
       "      <td>67.0</td>\n",
       "      <td>W</td>\n",
       "      <td>W</td>\n",
       "      <td>...</td>\n",
       "      <td>92.0</td>\n",
       "      <td>91.0</td>\n",
       "      <td>1000.2</td>\n",
       "      <td>1000.1</td>\n",
       "      <td>7.0</td>\n",
       "      <td>7.0</td>\n",
       "      <td>11.7</td>\n",
       "      <td>10.3</td>\n",
       "      <td>1</td>\n",
       "      <td>1</td>\n",
       "    </tr>\n",
       "    <tr>\n",
       "      <th>139741</th>\n",
       "      <td>Darwin</td>\n",
       "      <td>25.3</td>\n",
       "      <td>33.6</td>\n",
       "      <td>0.0</td>\n",
       "      <td>5.8</td>\n",
       "      <td>9.2</td>\n",
       "      <td>ESE</td>\n",
       "      <td>52.0</td>\n",
       "      <td>WSW</td>\n",
       "      <td>WSW</td>\n",
       "      <td>...</td>\n",
       "      <td>75.0</td>\n",
       "      <td>84.0</td>\n",
       "      <td>1008.4</td>\n",
       "      <td>1004.9</td>\n",
       "      <td>7.0</td>\n",
       "      <td>6.0</td>\n",
       "      <td>30.1</td>\n",
       "      <td>27.9</td>\n",
       "      <td>0</td>\n",
       "      <td>1</td>\n",
       "    </tr>\n",
       "    <tr>\n",
       "      <th>23209</th>\n",
       "      <td>NorfolkIsland</td>\n",
       "      <td>22.3</td>\n",
       "      <td>25.0</td>\n",
       "      <td>1.8</td>\n",
       "      <td>5.2</td>\n",
       "      <td>3.2</td>\n",
       "      <td>W</td>\n",
       "      <td>46.0</td>\n",
       "      <td>NW</td>\n",
       "      <td>ESE</td>\n",
       "      <td>...</td>\n",
       "      <td>94.0</td>\n",
       "      <td>77.0</td>\n",
       "      <td>1012.7</td>\n",
       "      <td>1012.0</td>\n",
       "      <td>8.0</td>\n",
       "      <td>7.0</td>\n",
       "      <td>23.3</td>\n",
       "      <td>23.9</td>\n",
       "      <td>1</td>\n",
       "      <td>1</td>\n",
       "    </tr>\n",
       "    <tr>\n",
       "      <th>123223</th>\n",
       "      <td>Perth</td>\n",
       "      <td>15.4</td>\n",
       "      <td>26.9</td>\n",
       "      <td>0.0</td>\n",
       "      <td>8.0</td>\n",
       "      <td>5.6</td>\n",
       "      <td>ENE</td>\n",
       "      <td>30.0</td>\n",
       "      <td>ESE</td>\n",
       "      <td>SW</td>\n",
       "      <td>...</td>\n",
       "      <td>62.0</td>\n",
       "      <td>50.0</td>\n",
       "      <td>1015.8</td>\n",
       "      <td>1013.2</td>\n",
       "      <td>7.0</td>\n",
       "      <td>8.0</td>\n",
       "      <td>20.4</td>\n",
       "      <td>25.9</td>\n",
       "      <td>0</td>\n",
       "      <td>1</td>\n",
       "    </tr>\n",
       "  </tbody>\n",
       "</table>\n",
       "<p>5 rows × 22 columns</p>\n",
       "</div>"
      ],
      "text/plain": [
       "             Location  MinTemp  MaxTemp  Rainfall  Evaporation  Sunshine  \\\n",
       "37766      WaggaWagga      2.3     16.1       0.0          1.2       5.3   \n",
       "99784    MountGambier     10.0     13.0       7.2          1.4       1.5   \n",
       "139741         Darwin     25.3     33.6       0.0          5.8       9.2   \n",
       "23209   NorfolkIsland     22.3     25.0       1.8          5.2       3.2   \n",
       "123223          Perth     15.4     26.9       0.0          8.0       5.6   \n",
       "\n",
       "       WindGustDir  WindGustSpeed WindDir9am WindDir3pm      ...       \\\n",
       "37766          NNE           39.0          N          N      ...        \n",
       "99784          WSW           67.0          W          W      ...        \n",
       "139741         ESE           52.0        WSW        WSW      ...        \n",
       "23209            W           46.0         NW        ESE      ...        \n",
       "123223         ENE           30.0        ESE         SW      ...        \n",
       "\n",
       "        Humidity9am  Humidity3pm  Pressure9am  Pressure3pm  Cloud9am  \\\n",
       "37766          77.0         49.0       1014.8       1009.0       6.0   \n",
       "99784          92.0         91.0       1000.2       1000.1       7.0   \n",
       "139741         75.0         84.0       1008.4       1004.9       7.0   \n",
       "23209          94.0         77.0       1012.7       1012.0       8.0   \n",
       "123223         62.0         50.0       1015.8       1013.2       7.0   \n",
       "\n",
       "        Cloud3pm  Temp9am  Temp3pm  RainToday  RainTomorrow  \n",
       "37766        7.0      9.4     14.3          0             1  \n",
       "99784        7.0     11.7     10.3          1             1  \n",
       "139741       6.0     30.1     27.9          0             1  \n",
       "23209        7.0     23.3     23.9          1             1  \n",
       "123223       8.0     20.4     25.9          0             1  \n",
       "\n",
       "[5 rows x 22 columns]"
      ]
     },
     "execution_count": 45,
     "metadata": {},
     "output_type": "execute_result"
    }
   ],
   "source": [
    "#Confirm this worked\n",
    "weather_revised.head(5)"
   ]
  },
  {
   "cell_type": "code",
   "execution_count": 47,
   "metadata": {},
   "outputs": [
    {
     "name": "stdout",
     "output_type": "stream",
     "text": [
      "\n",
      " Percentage accuracy for Bernoulli Naive Bayes\n",
      "67.84452296819788%\n",
      "\n",
      " Cross-Validation Score\n",
      "[0.67632242 0.67929293 0.65530303 0.6540404  0.68560606]\n",
      "\n",
      " Confusion Matrix\n"
     ]
    },
    {
     "data": {
      "text/plain": [
       "array([[1319,  647],\n",
       "       [ 627, 1369]])"
      ]
     },
     "metadata": {},
     "output_type": "display_data"
    },
    {
     "name": "stdout",
     "output_type": "stream",
     "text": [
      "\n",
      "\n",
      " Program Executed in 0.12\n",
      "\n",
      "\n",
      "\n",
      "\n",
      " Percentage accuracy for K Nearest Neighbors Classifier\n",
      "82.81171125694094%\n",
      "\n",
      " Cross-Validation Score\n",
      "[0.76448363 0.74368687 0.75378788 0.75757576 0.74873737]\n",
      "\n",
      " Confusion Matrix\n"
     ]
    },
    {
     "data": {
      "text/plain": [
       "array([[1652,  314],\n",
       "       [ 367, 1629]])"
      ]
     },
     "metadata": {},
     "output_type": "display_data"
    },
    {
     "name": "stdout",
     "output_type": "stream",
     "text": [
      "\n",
      "\n",
      " Program Executed in 2.08\n",
      "\n",
      "\n",
      "\n",
      "\n",
      " Percentage accuracy for Random Forest Classifier\n",
      "98.99040888440182%\n",
      "\n",
      " Cross-Validation Score\n",
      "[0.75566751 0.76893939 0.76136364 0.75378788 0.74368687]\n",
      "\n",
      " Confusion Matrix\n"
     ]
    },
    {
     "data": {
      "text/plain": [
       "array([[1957,    9],\n",
       "       [  31, 1965]])"
      ]
     },
     "metadata": {},
     "output_type": "display_data"
    },
    {
     "name": "stdout",
     "output_type": "stream",
     "text": [
      "\n",
      "\n",
      " Program Executed in 0.5\n",
      "\n",
      "\n",
      "\n",
      "\n",
      " Percentage accuracy for Logistic Regression\n",
      "80.31297324583544%\n",
      "\n",
      " Cross-Validation Score\n",
      "[0.79471033 0.79545455 0.80050505 0.79040404 0.78409091]\n",
      "\n",
      " Confusion Matrix\n"
     ]
    },
    {
     "data": {
      "text/plain": [
       "array([[1592,  374],\n",
       "       [ 406, 1590]])"
      ]
     },
     "metadata": {},
     "output_type": "display_data"
    },
    {
     "name": "stdout",
     "output_type": "stream",
     "text": [
      "\n",
      "\n",
      " Program Executed in 2.54\n",
      "\n",
      "\n",
      "\n",
      "\n",
      " Percentage accuracy for Lasso Logistic Regression\n",
      "79.3286219081272%\n",
      "\n",
      " Cross-Validation Score\n",
      "[0.79093199 0.77272727 0.78914141 0.7739899  0.76136364]\n",
      "\n",
      " Confusion Matrix\n"
     ]
    },
    {
     "data": {
      "text/plain": [
       "array([[1568,  398],\n",
       "       [ 421, 1575]])"
      ]
     },
     "metadata": {},
     "output_type": "display_data"
    },
    {
     "name": "stdout",
     "output_type": "stream",
     "text": [
      "\n",
      "\n",
      " Program Executed in 73.61\n",
      "\n",
      "\n",
      "\n",
      "\n",
      " Percentage accuracy for Ridge Logistic Regression\n",
      "80.06057546693589%\n",
      "\n",
      " Cross-Validation Score\n",
      "[0.7884131  0.78535354 0.78914141 0.7790404  0.78156566]\n",
      "\n",
      " Confusion Matrix\n"
     ]
    },
    {
     "data": {
      "text/plain": [
       "array([[1581,  385],\n",
       "       [ 405, 1591]])"
      ]
     },
     "metadata": {},
     "output_type": "display_data"
    },
    {
     "name": "stdout",
     "output_type": "stream",
     "text": [
      "\n",
      "\n",
      " Program Executed in 0.43\n",
      "\n",
      "\n",
      "\n",
      "\n",
      " Percentage accuracy for SVM\n",
      "97.52650176678446%\n",
      "\n",
      " Cross-Validation Score\n",
      "[0.74937028 0.73737374 0.77651515 0.74368687 0.75      ]\n",
      "\n",
      " Confusion Matrix\n"
     ]
    },
    {
     "data": {
      "text/plain": [
       "array([[1931,   35],\n",
       "       [  63, 1933]])"
      ]
     },
     "metadata": {},
     "output_type": "display_data"
    },
    {
     "name": "stdout",
     "output_type": "stream",
     "text": [
      "\n",
      "\n",
      " Program Executed in 13.4\n",
      "\n",
      "\n",
      "\n",
      "\n",
      " Percentage accuracy for Gradient Boosting Classifier\n",
      "84.5532559313478%\n",
      "\n",
      " Cross-Validation Score\n",
      "[0.78715365 0.7790404  0.80934343 0.78282828 0.78535354]\n",
      "\n",
      " Confusion Matrix\n"
     ]
    },
    {
     "data": {
      "text/plain": [
       "array([[1657,  309],\n",
       "       [ 303, 1693]])"
      ]
     },
     "metadata": {},
     "output_type": "display_data"
    },
    {
     "name": "stdout",
     "output_type": "stream",
     "text": [
      "\n",
      "\n",
      " Program Executed in 5.42\n"
     ]
    }
   ],
   "source": [
    "#Reestablish X and Y\n",
    "X = weather_revised.drop(['RainTomorrow'], 1)\n",
    "X = pd.get_dummies(X)\n",
    "Y = weather_revised.RainTomorrow\n",
    "\n",
    "#Run our default models\n",
    "#Bernoulli Naive Bayes\n",
    "NB_Model('Bernoulli')\n",
    "print('\\n\\n')\n",
    "\n",
    "#K-Nearest Neighbors\n",
    "KNN_Model(5, 'uniform')\n",
    "print('\\n\\n')\n",
    "\n",
    "#Random Forest\n",
    "RFC_Model(10, 'gini', 'auto', None)\n",
    "print('\\n\\n')\n",
    "\n",
    "#Plain Logistic Regression\n",
    "Logistic_Reg_Model('l2', 1e9)\n",
    "print('\\n\\n')\n",
    "\n",
    "#Lasso Logistic Regression\n",
    "Logistic_Reg_Model('l1', 1.0)\n",
    "print('\\n\\n')\n",
    "\n",
    "#Ridge Logistic Regression\n",
    "Logistic_Reg_Model('l2', 1.0)\n",
    "print('\\n\\n')\n",
    "\n",
    "#Support Vector Classifier\n",
    "SVC_Model(1.0, 'rbf')\n",
    "print('\\n\\n')\n",
    "\n",
    "#Gradient boost classifier\n",
    "Gradient_Boost_Model(100, 3, 'deviance', 1.0)"
   ]
  },
  {
   "cell_type": "markdown",
   "metadata": {},
   "source": [
    "## Now we have some improvement! Re-run models with tuned parameters to see if we can improve even more."
   ]
  },
  {
   "cell_type": "code",
   "execution_count": 48,
   "metadata": {},
   "outputs": [
    {
     "name": "stdout",
     "output_type": "stream",
     "text": [
      "\n",
      " Percentage accuracy for Gaussian Naive Bayes\n",
      "71.37809187279152%\n",
      "\n",
      " Cross-Validation Score\n",
      "[0.70780856 0.71338384 0.70075758 0.68181818 0.70959596]\n",
      "\n",
      " Confusion Matrix\n"
     ]
    },
    {
     "data": {
      "text/plain": [
       "array([[1320,  646],\n",
       "       [ 488, 1508]])"
      ]
     },
     "metadata": {},
     "output_type": "display_data"
    },
    {
     "name": "stdout",
     "output_type": "stream",
     "text": [
      "\n",
      "\n",
      " Program Executed in 0.12\n",
      "\n",
      "\n",
      "\n",
      "\n",
      " Percentage accuracy for K Nearest Neighbors Classifier\n",
      "100.0%\n",
      "\n",
      " Cross-Validation Score\n",
      "[0.7720403  0.76767677 0.79292929 0.75252525 0.74873737]\n",
      "\n",
      " Confusion Matrix\n"
     ]
    },
    {
     "data": {
      "text/plain": [
       "array([[1966,    0],\n",
       "       [   0, 1996]])"
      ]
     },
     "metadata": {},
     "output_type": "display_data"
    },
    {
     "name": "stdout",
     "output_type": "stream",
     "text": [
      "\n",
      "\n",
      " Program Executed in 3.66\n",
      "\n",
      "\n",
      "\n",
      "\n",
      " Percentage accuracy for Random Forest Classifier\n",
      "99.94952044422008%\n",
      "\n",
      " Cross-Validation Score\n",
      "[0.78085642 0.78156566 0.79671717 0.77651515 0.7790404 ]\n",
      "\n",
      " Confusion Matrix\n"
     ]
    },
    {
     "data": {
      "text/plain": [
       "array([[1965,    1],\n",
       "       [   1, 1995]])"
      ]
     },
     "metadata": {},
     "output_type": "display_data"
    },
    {
     "name": "stdout",
     "output_type": "stream",
     "text": [
      "\n",
      "\n",
      " Program Executed in 1.99\n",
      "\n",
      "\n",
      "\n",
      "\n",
      " Percentage accuracy for Lasso Logistic Regression\n",
      "79.17718324078749%\n",
      "\n",
      " Cross-Validation Score\n",
      "[0.79219144 0.76641414 0.79166667 0.77651515 0.76136364]\n",
      "\n",
      " Confusion Matrix\n"
     ]
    },
    {
     "data": {
      "text/plain": [
       "array([[1566,  400],\n",
       "       [ 425, 1571]])"
      ]
     },
     "metadata": {},
     "output_type": "display_data"
    },
    {
     "name": "stdout",
     "output_type": "stream",
     "text": [
      "\n",
      "\n",
      " Program Executed in 79.45\n",
      "\n",
      "\n",
      "\n",
      "\n",
      " Percentage accuracy for Ridge Logistic Regression\n",
      "80.54013124684502%\n",
      "\n",
      " Cross-Validation Score\n",
      "[0.79722922 0.78535354 0.79924242 0.78661616 0.7790404 ]\n",
      "\n",
      " Confusion Matrix\n"
     ]
    },
    {
     "data": {
      "text/plain": [
       "array([[1596,  370],\n",
       "       [ 401, 1595]])"
      ]
     },
     "metadata": {},
     "output_type": "display_data"
    },
    {
     "name": "stdout",
     "output_type": "stream",
     "text": [
      "\n",
      "\n",
      " Program Executed in 2.15\n",
      "\n",
      "\n",
      "\n",
      "\n",
      " Percentage accuracy for SVM\n",
      "80.26249369005552%\n",
      "\n",
      " Cross-Validation Score\n",
      "[0.79219144 0.80429293 0.80555556 0.78787879 0.7979798 ]\n",
      "\n",
      " Confusion Matrix\n"
     ]
    },
    {
     "data": {
      "text/plain": [
       "array([[1583,  383],\n",
       "       [ 399, 1597]])"
      ]
     },
     "metadata": {},
     "output_type": "display_data"
    },
    {
     "name": "stdout",
     "output_type": "stream",
     "text": [
      "\n",
      "\n",
      " Program Executed in 53.69\n",
      "\n",
      "\n",
      "\n",
      "\n",
      " Percentage accuracy for Gradient Boosting Classifier\n",
      "93.81625441696113%\n",
      "\n",
      " Cross-Validation Score\n",
      "[0.79093199 0.79166667 0.82070707 0.79166667 0.78282828]\n",
      "\n",
      " Confusion Matrix\n"
     ]
    },
    {
     "data": {
      "text/plain": [
       "array([[1836,  130],\n",
       "       [ 115, 1881]])"
      ]
     },
     "metadata": {},
     "output_type": "display_data"
    },
    {
     "name": "stdout",
     "output_type": "stream",
     "text": [
      "\n",
      "\n",
      " Program Executed in 17.14\n"
     ]
    }
   ],
   "source": [
    "#Run Gaussian instead of Bernoulli\n",
    "NB_Model('Gaussian')\n",
    "print('\\n\\n')\n",
    "\n",
    "#K-Nearest Neighbors (use 25 for K instead of 5 and 'distance' for weight)\n",
    "KNN_Model(50, 'distance')\n",
    "print('\\n\\n')\n",
    "\n",
    "#Random Forest (use 50 trees, 'entropy' as the criterion)\n",
    "RFC_Model(50, 'entropy', 'auto', None)\n",
    "print('\\n\\n')\n",
    "\n",
    "#Lasso Logistic Regression (change alpha to 0.5)\n",
    "Logistic_Reg_Model('l1', 0.5)\n",
    "print('\\n\\n')\n",
    "\n",
    "#Ridge Logistic Regression (change alpha to 100)\n",
    "Logistic_Reg_Model('l2', 100)\n",
    "print('\\n\\n')\n",
    "\n",
    "#Support Vector Classifier (change kernel to 'linear')\n",
    "SVC_Model(1.0, 'linear')\n",
    "print('\\n\\n')\n",
    "\n",
    "#Gradient boost classifier (more estimators, more depth and subsampling)\n",
    "Gradient_Boost_Model(200, 4, 'deviance', 0.8)"
   ]
  },
  {
   "cell_type": "markdown",
   "metadata": {},
   "source": [
    "## Try One Final Run with Re-Engineered Features"
   ]
  },
  {
   "cell_type": "code",
   "execution_count": null,
   "metadata": {},
   "outputs": [],
   "source": [
    "weather.describe()"
   ]
  },
  {
   "cell_type": "code",
   "execution_count": 49,
   "metadata": {},
   "outputs": [],
   "source": [
    "#Convert features to 1 (high) or 0 (low) based on the median\n",
    "\n",
    "weather_revised['MinTemp'] = np.where((weather_revised['MinTemp'] >= 13.1), 1, 0)\n",
    "weather_revised['MaxTemp'] = np.where((weather_revised['MaxTemp'] >= 24.05), 1, 0)\n",
    "weather_revised['Rainfall'] = np.where((weather_revised['Rainfall'] > 0), 1, 0)\n",
    "weather_revised['Evaporation'] = np.where((weather_revised['Evaporation'] >= 5), 1, 0)\n",
    "weather_revised['Sunshine'] = np.where((weather_revised['Sunshine'] >= 8.8), 1, 0)\n",
    "weather_revised['WindGustSpeed'] = np.where((weather_revised['WindGustSpeed'] >= 39), 1, 0)\n",
    "weather_revised['WindSpeed9am'] = np.where((weather_revised['WindSpeed9am'] >= 15), 1, 0)\n",
    "weather_revised['WindSpeed3pm'] = np.where((weather_revised['WindSpeed3pm'] >= 19), 1, 0)\n",
    "weather_revised['Humidity9am'] = np.where((weather_revised['Humidity9am'] >= 66), 1, 0)\n",
    "weather_revised['Humidity3pm'] = np.where((weather_revised['Humidity3pm'] >= 50), 1, 0)\n",
    "weather_revised['Pressure9am'] = np.where((weather_revised['Pressure9am'] >= 1017.4), 1, 0)\n",
    "weather_revised['Pressure3pm'] = np.where((weather_revised['Pressure3pm'] >= 1014.8), 1, 0)\n",
    "weather_revised['Cloud9am'] = np.where((weather_revised['Cloud9am'] >= 4), 1, 0)\n",
    "weather_revised['Cloud3pm'] = np.where((weather_revised['Cloud3pm'] >= 5), 1, 0)\n",
    "weather_revised['Temp9am'] = np.where((weather_revised['Temp9am'] >= 17.8), 1, 0)\n",
    "weather_revised['Temp3pm'] = np.where((weather_revised['Temp3pm'] >= 22.55), 1, 0)"
   ]
  },
  {
   "cell_type": "markdown",
   "metadata": {},
   "source": [
    "## Re-run Default Models with New Feature Set"
   ]
  },
  {
   "cell_type": "code",
   "execution_count": 50,
   "metadata": {},
   "outputs": [
    {
     "name": "stdout",
     "output_type": "stream",
     "text": [
      "\n",
      " Percentage accuracy for Bernoulli Naive Bayes\n",
      "67.84452296819788%\n",
      "\n",
      " Cross-Validation Score\n",
      "[0.67632242 0.67929293 0.65530303 0.6540404  0.68560606]\n",
      "\n",
      " Confusion Matrix\n"
     ]
    },
    {
     "data": {
      "text/plain": [
       "array([[1319,  647],\n",
       "       [ 627, 1369]])"
      ]
     },
     "metadata": {},
     "output_type": "display_data"
    },
    {
     "name": "stdout",
     "output_type": "stream",
     "text": [
      "\n",
      "\n",
      " Program Executed in 0.09\n",
      "\n",
      "\n",
      "\n",
      "\n",
      " Percentage accuracy for K Nearest Neighbors Classifier\n",
      "82.81171125694094%\n",
      "\n",
      " Cross-Validation Score\n",
      "[0.76448363 0.74368687 0.75378788 0.75757576 0.74873737]\n",
      "\n",
      " Confusion Matrix\n"
     ]
    },
    {
     "data": {
      "text/plain": [
       "array([[1652,  314],\n",
       "       [ 367, 1629]])"
      ]
     },
     "metadata": {},
     "output_type": "display_data"
    },
    {
     "name": "stdout",
     "output_type": "stream",
     "text": [
      "\n",
      "\n",
      " Program Executed in 2.41\n",
      "\n",
      "\n",
      "\n",
      "\n",
      " Percentage accuracy for Random Forest Classifier\n",
      "99.06612821807168%\n",
      "\n",
      " Cross-Validation Score\n",
      "[0.76196474 0.77146465 0.78030303 0.77272727 0.74873737]\n",
      "\n",
      " Confusion Matrix\n"
     ]
    },
    {
     "data": {
      "text/plain": [
       "array([[1956,   10],\n",
       "       [  27, 1969]])"
      ]
     },
     "metadata": {},
     "output_type": "display_data"
    },
    {
     "name": "stdout",
     "output_type": "stream",
     "text": [
      "\n",
      "\n",
      " Program Executed in 0.47\n",
      "\n",
      "\n",
      "\n",
      "\n",
      " Percentage accuracy for Logistic Regression\n",
      "80.33821302372539%\n",
      "\n",
      " Cross-Validation Score\n",
      "[0.79345088 0.79419192 0.80176768 0.78661616 0.78282828]\n",
      "\n",
      " Confusion Matrix\n"
     ]
    },
    {
     "data": {
      "text/plain": [
       "array([[1593,  373],\n",
       "       [ 406, 1590]])"
      ]
     },
     "metadata": {},
     "output_type": "display_data"
    },
    {
     "name": "stdout",
     "output_type": "stream",
     "text": [
      "\n",
      "\n",
      " Program Executed in 2.94\n",
      "\n",
      "\n",
      "\n",
      "\n",
      " Percentage accuracy for Lasso Logistic Regression\n",
      "79.3286219081272%\n",
      "\n",
      " Cross-Validation Score\n",
      "[0.79093199 0.77272727 0.78914141 0.7739899  0.76136364]\n",
      "\n",
      " Confusion Matrix\n"
     ]
    },
    {
     "data": {
      "text/plain": [
       "array([[1568,  398],\n",
       "       [ 421, 1575]])"
      ]
     },
     "metadata": {},
     "output_type": "display_data"
    },
    {
     "name": "stdout",
     "output_type": "stream",
     "text": [
      "\n",
      "\n",
      " Program Executed in 74.51\n",
      "\n",
      "\n",
      "\n",
      "\n",
      " Percentage accuracy for Ridge Logistic Regression\n",
      "80.03533568904594%\n",
      "\n",
      " Cross-Validation Score\n",
      "[0.7884131  0.78282828 0.78914141 0.77777778 0.78156566]\n",
      "\n",
      " Confusion Matrix\n"
     ]
    },
    {
     "data": {
      "text/plain": [
       "array([[1584,  382],\n",
       "       [ 409, 1587]])"
      ]
     },
     "metadata": {},
     "output_type": "display_data"
    },
    {
     "name": "stdout",
     "output_type": "stream",
     "text": [
      "\n",
      "\n",
      " Program Executed in 0.51\n",
      "\n",
      "\n",
      "\n",
      "\n",
      " Percentage accuracy for SVM\n",
      "97.52650176678446%\n",
      "\n",
      " Cross-Validation Score\n",
      "[0.74937028 0.73737374 0.77651515 0.74368687 0.75      ]\n",
      "\n",
      " Confusion Matrix\n"
     ]
    },
    {
     "data": {
      "text/plain": [
       "array([[1931,   35],\n",
       "       [  63, 1933]])"
      ]
     },
     "metadata": {},
     "output_type": "display_data"
    },
    {
     "name": "stdout",
     "output_type": "stream",
     "text": [
      "\n",
      "\n",
      " Program Executed in 14.18\n",
      "\n",
      "\n",
      "\n",
      "\n",
      " Percentage accuracy for Gradient Boosting Classifier\n",
      "84.5532559313478%\n",
      "\n",
      " Cross-Validation Score\n",
      "[0.78715365 0.78030303 0.80934343 0.78282828 0.78535354]\n",
      "\n",
      " Confusion Matrix\n"
     ]
    },
    {
     "data": {
      "text/plain": [
       "array([[1657,  309],\n",
       "       [ 303, 1693]])"
      ]
     },
     "metadata": {},
     "output_type": "display_data"
    },
    {
     "name": "stdout",
     "output_type": "stream",
     "text": [
      "\n",
      "\n",
      " Program Executed in 5.64\n"
     ]
    }
   ],
   "source": [
    "#Bernoulli Naive Bayes\n",
    "NB_Model('Bernoulli')\n",
    "print('\\n\\n')\n",
    "\n",
    "#K-Nearest Neighbors\n",
    "KNN_Model(5, 'uniform')\n",
    "print('\\n\\n')\n",
    "\n",
    "#Random Forest\n",
    "RFC_Model(10, 'gini', 'auto', None)\n",
    "print('\\n\\n')\n",
    "\n",
    "#Plain Logistic Regression\n",
    "Logistic_Reg_Model('l2', 1e9)\n",
    "print('\\n\\n')\n",
    "\n",
    "#Lasso Logistic Regression\n",
    "Logistic_Reg_Model('l1', 1.0)\n",
    "print('\\n\\n')\n",
    "\n",
    "#Ridge Logistic Regression\n",
    "Logistic_Reg_Model('l2', 1.0)\n",
    "print('\\n\\n')\n",
    "\n",
    "#Support Vector Classifier\n",
    "SVC_Model(1.0, 'rbf')\n",
    "print('\\n\\n')\n",
    "\n",
    "#Gradient boost classifier\n",
    "Gradient_Boost_Model(100, 3, 'deviance', 1.0)"
   ]
  },
  {
   "cell_type": "markdown",
   "metadata": {},
   "source": [
    "## After creating an equally balanced dataframe, we achieved nearly 20% higher than the 50% baseline. Specifically, logistic regression proved most accurate without overfitting, coming in at approximately 79% accuracy during cross-validation."
   ]
  }
 ],
 "metadata": {
  "kernelspec": {
   "display_name": "Python 3",
   "language": "python",
   "name": "python3"
  },
  "language_info": {
   "codemirror_mode": {
    "name": "ipython",
    "version": 3
   },
   "file_extension": ".py",
   "mimetype": "text/x-python",
   "name": "python",
   "nbconvert_exporter": "python",
   "pygments_lexer": "ipython3",
   "version": "3.6.4"
  }
 },
 "nbformat": 4,
 "nbformat_minor": 2
}
