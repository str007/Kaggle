{
 "cells": [
  {
   "cell_type": "markdown",
   "metadata": {},
   "source": [
    "## Dataset Overview\n",
    "This dataset provides daily weather information for Australia, dating back to 2008. Each observation represents a single day in a given location. The data provided relates to weather conditions throughout the day such as wind and wind direction, temperature, humidity, pressure, whether it rained today and whether or not it rained the following day.\n",
    "\n",
    "The dataset contains **145,460 observations across 24 columns** and can be found at the link below:\n",
    "\n",
    "https://www.kaggle.com/jsphyg/weather-dataset-rattle-package"
   ]
  },
  {
   "cell_type": "code",
   "execution_count": 1,
   "metadata": {},
   "outputs": [],
   "source": [
    "import pandas as pd\n",
    "import numpy as np\n",
    "import matplotlib.pyplot as plt\n",
    "import seaborn as sns\n",
    "import scipy\n",
    "from sklearn import ensemble\n",
    "from sklearn import linear_model\n",
    "from sklearn.linear_model import LogisticRegression\n",
    "from sklearn.svm import SVR\n",
    "from sklearn.svm import SVC\n",
    "from sklearn.neighbors import KNeighborsClassifier\n",
    "from sklearn.naive_bayes import BernoulliNB\n",
    "from sklearn.naive_bayes import GaussianNB\n",
    "from sklearn.naive_bayes import MultinomialNB\n",
    "from sklearn import preprocessing\n",
    "from sklearn.model_selection import cross_val_score\n",
    "from sklearn.metrics import confusion_matrix\n",
    "from sklearn.feature_selection import RFE\n",
    "\n",
    "%matplotlib inline"
   ]
  },
  {
   "cell_type": "markdown",
   "metadata": {},
   "source": [
    "## Read dataset in and begin investigating its properties"
   ]
  },
  {
   "cell_type": "code",
   "execution_count": 2,
   "metadata": {},
   "outputs": [],
   "source": [
    "weather = pd.read_csv('weatherAUS.csv')"
   ]
  },
  {
   "cell_type": "code",
   "execution_count": 3,
   "metadata": {},
   "outputs": [
    {
     "data": {
      "text/plain": [
       "(145460, 24)"
      ]
     },
     "execution_count": 3,
     "metadata": {},
     "output_type": "execute_result"
    }
   ],
   "source": [
    "weather.shape"
   ]
  },
  {
   "cell_type": "code",
   "execution_count": 4,
   "metadata": {},
   "outputs": [
    {
     "data": {
      "text/plain": [
       "Index(['Date', 'Location', 'MinTemp', 'MaxTemp', 'Rainfall', 'Evaporation',\n",
       "       'Sunshine', 'WindGustDir', 'WindGustSpeed', 'WindDir9am', 'WindDir3pm',\n",
       "       'WindSpeed9am', 'WindSpeed3pm', 'Humidity9am', 'Humidity3pm',\n",
       "       'Pressure9am', 'Pressure3pm', 'Cloud9am', 'Cloud3pm', 'Temp9am',\n",
       "       'Temp3pm', 'RainToday', 'RISK_MM', 'RainTomorrow'],\n",
       "      dtype='object')"
      ]
     },
     "execution_count": 4,
     "metadata": {},
     "output_type": "execute_result"
    }
   ],
   "source": [
    "weather.columns"
   ]
  },
  {
   "cell_type": "code",
   "execution_count": 5,
   "metadata": {},
   "outputs": [
    {
     "data": {
      "text/html": [
       "<div>\n",
       "<style scoped>\n",
       "    .dataframe tbody tr th:only-of-type {\n",
       "        vertical-align: middle;\n",
       "    }\n",
       "\n",
       "    .dataframe tbody tr th {\n",
       "        vertical-align: top;\n",
       "    }\n",
       "\n",
       "    .dataframe thead th {\n",
       "        text-align: right;\n",
       "    }\n",
       "</style>\n",
       "<table border=\"1\" class=\"dataframe\">\n",
       "  <thead>\n",
       "    <tr style=\"text-align: right;\">\n",
       "      <th></th>\n",
       "      <th>Date</th>\n",
       "      <th>Location</th>\n",
       "      <th>MinTemp</th>\n",
       "      <th>MaxTemp</th>\n",
       "      <th>Rainfall</th>\n",
       "      <th>Evaporation</th>\n",
       "      <th>Sunshine</th>\n",
       "      <th>WindGustDir</th>\n",
       "      <th>WindGustSpeed</th>\n",
       "      <th>WindDir9am</th>\n",
       "      <th>...</th>\n",
       "      <th>Humidity3pm</th>\n",
       "      <th>Pressure9am</th>\n",
       "      <th>Pressure3pm</th>\n",
       "      <th>Cloud9am</th>\n",
       "      <th>Cloud3pm</th>\n",
       "      <th>Temp9am</th>\n",
       "      <th>Temp3pm</th>\n",
       "      <th>RainToday</th>\n",
       "      <th>RISK_MM</th>\n",
       "      <th>RainTomorrow</th>\n",
       "    </tr>\n",
       "  </thead>\n",
       "  <tbody>\n",
       "    <tr>\n",
       "      <th>0</th>\n",
       "      <td>2008-12-01</td>\n",
       "      <td>Albury</td>\n",
       "      <td>13.4</td>\n",
       "      <td>22.9</td>\n",
       "      <td>0.6</td>\n",
       "      <td>NaN</td>\n",
       "      <td>NaN</td>\n",
       "      <td>W</td>\n",
       "      <td>44.0</td>\n",
       "      <td>W</td>\n",
       "      <td>...</td>\n",
       "      <td>22.0</td>\n",
       "      <td>1007.7</td>\n",
       "      <td>1007.1</td>\n",
       "      <td>8.0</td>\n",
       "      <td>NaN</td>\n",
       "      <td>16.9</td>\n",
       "      <td>21.8</td>\n",
       "      <td>No</td>\n",
       "      <td>0.0</td>\n",
       "      <td>No</td>\n",
       "    </tr>\n",
       "    <tr>\n",
       "      <th>1</th>\n",
       "      <td>2008-12-02</td>\n",
       "      <td>Albury</td>\n",
       "      <td>7.4</td>\n",
       "      <td>25.1</td>\n",
       "      <td>0.0</td>\n",
       "      <td>NaN</td>\n",
       "      <td>NaN</td>\n",
       "      <td>WNW</td>\n",
       "      <td>44.0</td>\n",
       "      <td>NNW</td>\n",
       "      <td>...</td>\n",
       "      <td>25.0</td>\n",
       "      <td>1010.6</td>\n",
       "      <td>1007.8</td>\n",
       "      <td>NaN</td>\n",
       "      <td>NaN</td>\n",
       "      <td>17.2</td>\n",
       "      <td>24.3</td>\n",
       "      <td>No</td>\n",
       "      <td>0.0</td>\n",
       "      <td>No</td>\n",
       "    </tr>\n",
       "    <tr>\n",
       "      <th>2</th>\n",
       "      <td>2008-12-03</td>\n",
       "      <td>Albury</td>\n",
       "      <td>12.9</td>\n",
       "      <td>25.7</td>\n",
       "      <td>0.0</td>\n",
       "      <td>NaN</td>\n",
       "      <td>NaN</td>\n",
       "      <td>WSW</td>\n",
       "      <td>46.0</td>\n",
       "      <td>W</td>\n",
       "      <td>...</td>\n",
       "      <td>30.0</td>\n",
       "      <td>1007.6</td>\n",
       "      <td>1008.7</td>\n",
       "      <td>NaN</td>\n",
       "      <td>2.0</td>\n",
       "      <td>21.0</td>\n",
       "      <td>23.2</td>\n",
       "      <td>No</td>\n",
       "      <td>0.0</td>\n",
       "      <td>No</td>\n",
       "    </tr>\n",
       "    <tr>\n",
       "      <th>3</th>\n",
       "      <td>2008-12-04</td>\n",
       "      <td>Albury</td>\n",
       "      <td>9.2</td>\n",
       "      <td>28.0</td>\n",
       "      <td>0.0</td>\n",
       "      <td>NaN</td>\n",
       "      <td>NaN</td>\n",
       "      <td>NE</td>\n",
       "      <td>24.0</td>\n",
       "      <td>SE</td>\n",
       "      <td>...</td>\n",
       "      <td>16.0</td>\n",
       "      <td>1017.6</td>\n",
       "      <td>1012.8</td>\n",
       "      <td>NaN</td>\n",
       "      <td>NaN</td>\n",
       "      <td>18.1</td>\n",
       "      <td>26.5</td>\n",
       "      <td>No</td>\n",
       "      <td>1.0</td>\n",
       "      <td>No</td>\n",
       "    </tr>\n",
       "    <tr>\n",
       "      <th>4</th>\n",
       "      <td>2008-12-05</td>\n",
       "      <td>Albury</td>\n",
       "      <td>17.5</td>\n",
       "      <td>32.3</td>\n",
       "      <td>1.0</td>\n",
       "      <td>NaN</td>\n",
       "      <td>NaN</td>\n",
       "      <td>W</td>\n",
       "      <td>41.0</td>\n",
       "      <td>ENE</td>\n",
       "      <td>...</td>\n",
       "      <td>33.0</td>\n",
       "      <td>1010.8</td>\n",
       "      <td>1006.0</td>\n",
       "      <td>7.0</td>\n",
       "      <td>8.0</td>\n",
       "      <td>17.8</td>\n",
       "      <td>29.7</td>\n",
       "      <td>No</td>\n",
       "      <td>0.2</td>\n",
       "      <td>No</td>\n",
       "    </tr>\n",
       "  </tbody>\n",
       "</table>\n",
       "<p>5 rows × 24 columns</p>\n",
       "</div>"
      ],
      "text/plain": [
       "         Date Location  MinTemp  MaxTemp  Rainfall  Evaporation  Sunshine  \\\n",
       "0  2008-12-01   Albury     13.4     22.9       0.6          NaN       NaN   \n",
       "1  2008-12-02   Albury      7.4     25.1       0.0          NaN       NaN   \n",
       "2  2008-12-03   Albury     12.9     25.7       0.0          NaN       NaN   \n",
       "3  2008-12-04   Albury      9.2     28.0       0.0          NaN       NaN   \n",
       "4  2008-12-05   Albury     17.5     32.3       1.0          NaN       NaN   \n",
       "\n",
       "  WindGustDir  WindGustSpeed WindDir9am      ...      Humidity3pm  \\\n",
       "0           W           44.0          W      ...             22.0   \n",
       "1         WNW           44.0        NNW      ...             25.0   \n",
       "2         WSW           46.0          W      ...             30.0   \n",
       "3          NE           24.0         SE      ...             16.0   \n",
       "4           W           41.0        ENE      ...             33.0   \n",
       "\n",
       "   Pressure9am  Pressure3pm  Cloud9am  Cloud3pm  Temp9am  Temp3pm  RainToday  \\\n",
       "0       1007.7       1007.1       8.0       NaN     16.9     21.8         No   \n",
       "1       1010.6       1007.8       NaN       NaN     17.2     24.3         No   \n",
       "2       1007.6       1008.7       NaN       2.0     21.0     23.2         No   \n",
       "3       1017.6       1012.8       NaN       NaN     18.1     26.5         No   \n",
       "4       1010.8       1006.0       7.0       8.0     17.8     29.7         No   \n",
       "\n",
       "   RISK_MM  RainTomorrow  \n",
       "0      0.0            No  \n",
       "1      0.0            No  \n",
       "2      0.0            No  \n",
       "3      1.0            No  \n",
       "4      0.2            No  \n",
       "\n",
       "[5 rows x 24 columns]"
      ]
     },
     "execution_count": 5,
     "metadata": {},
     "output_type": "execute_result"
    }
   ],
   "source": [
    "pd.options.display.max_rows = 999\n",
    "weather.head(5)"
   ]
  },
  {
   "cell_type": "code",
   "execution_count": 6,
   "metadata": {},
   "outputs": [
    {
     "data": {
      "text/html": [
       "<div>\n",
       "<style scoped>\n",
       "    .dataframe tbody tr th:only-of-type {\n",
       "        vertical-align: middle;\n",
       "    }\n",
       "\n",
       "    .dataframe tbody tr th {\n",
       "        vertical-align: top;\n",
       "    }\n",
       "\n",
       "    .dataframe thead th {\n",
       "        text-align: right;\n",
       "    }\n",
       "</style>\n",
       "<table border=\"1\" class=\"dataframe\">\n",
       "  <thead>\n",
       "    <tr style=\"text-align: right;\">\n",
       "      <th></th>\n",
       "      <th>MinTemp</th>\n",
       "      <th>MaxTemp</th>\n",
       "      <th>Rainfall</th>\n",
       "      <th>Evaporation</th>\n",
       "      <th>Sunshine</th>\n",
       "      <th>WindGustSpeed</th>\n",
       "      <th>WindSpeed9am</th>\n",
       "      <th>WindSpeed3pm</th>\n",
       "      <th>Humidity9am</th>\n",
       "      <th>Humidity3pm</th>\n",
       "      <th>Pressure9am</th>\n",
       "      <th>Pressure3pm</th>\n",
       "      <th>Cloud9am</th>\n",
       "      <th>Cloud3pm</th>\n",
       "      <th>Temp9am</th>\n",
       "      <th>Temp3pm</th>\n",
       "      <th>RISK_MM</th>\n",
       "    </tr>\n",
       "  </thead>\n",
       "  <tbody>\n",
       "    <tr>\n",
       "      <th>count</th>\n",
       "      <td>143975.000000</td>\n",
       "      <td>144199.000000</td>\n",
       "      <td>142199.000000</td>\n",
       "      <td>82670.000000</td>\n",
       "      <td>75625.000000</td>\n",
       "      <td>135197.000000</td>\n",
       "      <td>143693.000000</td>\n",
       "      <td>142398.000000</td>\n",
       "      <td>142806.000000</td>\n",
       "      <td>140953.000000</td>\n",
       "      <td>130395.00000</td>\n",
       "      <td>130432.000000</td>\n",
       "      <td>89572.000000</td>\n",
       "      <td>86102.000000</td>\n",
       "      <td>143693.000000</td>\n",
       "      <td>141851.00000</td>\n",
       "      <td>142193.000000</td>\n",
       "    </tr>\n",
       "    <tr>\n",
       "      <th>mean</th>\n",
       "      <td>12.194034</td>\n",
       "      <td>23.221348</td>\n",
       "      <td>2.360918</td>\n",
       "      <td>5.468232</td>\n",
       "      <td>7.611178</td>\n",
       "      <td>40.035230</td>\n",
       "      <td>14.043426</td>\n",
       "      <td>18.662657</td>\n",
       "      <td>68.880831</td>\n",
       "      <td>51.539116</td>\n",
       "      <td>1017.64994</td>\n",
       "      <td>1015.255889</td>\n",
       "      <td>4.447461</td>\n",
       "      <td>4.509930</td>\n",
       "      <td>16.990631</td>\n",
       "      <td>21.68339</td>\n",
       "      <td>2.360682</td>\n",
       "    </tr>\n",
       "    <tr>\n",
       "      <th>std</th>\n",
       "      <td>6.398495</td>\n",
       "      <td>7.119049</td>\n",
       "      <td>8.478060</td>\n",
       "      <td>4.193704</td>\n",
       "      <td>3.785483</td>\n",
       "      <td>13.607062</td>\n",
       "      <td>8.915375</td>\n",
       "      <td>8.809800</td>\n",
       "      <td>19.029164</td>\n",
       "      <td>20.795902</td>\n",
       "      <td>7.10653</td>\n",
       "      <td>7.037414</td>\n",
       "      <td>2.887159</td>\n",
       "      <td>2.720357</td>\n",
       "      <td>6.488753</td>\n",
       "      <td>6.93665</td>\n",
       "      <td>8.477969</td>\n",
       "    </tr>\n",
       "    <tr>\n",
       "      <th>min</th>\n",
       "      <td>-8.500000</td>\n",
       "      <td>-4.800000</td>\n",
       "      <td>0.000000</td>\n",
       "      <td>0.000000</td>\n",
       "      <td>0.000000</td>\n",
       "      <td>6.000000</td>\n",
       "      <td>0.000000</td>\n",
       "      <td>0.000000</td>\n",
       "      <td>0.000000</td>\n",
       "      <td>0.000000</td>\n",
       "      <td>980.50000</td>\n",
       "      <td>977.100000</td>\n",
       "      <td>0.000000</td>\n",
       "      <td>0.000000</td>\n",
       "      <td>-7.200000</td>\n",
       "      <td>-5.40000</td>\n",
       "      <td>0.000000</td>\n",
       "    </tr>\n",
       "    <tr>\n",
       "      <th>25%</th>\n",
       "      <td>7.600000</td>\n",
       "      <td>17.900000</td>\n",
       "      <td>0.000000</td>\n",
       "      <td>2.600000</td>\n",
       "      <td>4.800000</td>\n",
       "      <td>31.000000</td>\n",
       "      <td>7.000000</td>\n",
       "      <td>13.000000</td>\n",
       "      <td>57.000000</td>\n",
       "      <td>37.000000</td>\n",
       "      <td>1012.90000</td>\n",
       "      <td>1010.400000</td>\n",
       "      <td>1.000000</td>\n",
       "      <td>2.000000</td>\n",
       "      <td>12.300000</td>\n",
       "      <td>16.60000</td>\n",
       "      <td>0.000000</td>\n",
       "    </tr>\n",
       "    <tr>\n",
       "      <th>50%</th>\n",
       "      <td>12.000000</td>\n",
       "      <td>22.600000</td>\n",
       "      <td>0.000000</td>\n",
       "      <td>4.800000</td>\n",
       "      <td>8.400000</td>\n",
       "      <td>39.000000</td>\n",
       "      <td>13.000000</td>\n",
       "      <td>19.000000</td>\n",
       "      <td>70.000000</td>\n",
       "      <td>52.000000</td>\n",
       "      <td>1017.60000</td>\n",
       "      <td>1015.200000</td>\n",
       "      <td>5.000000</td>\n",
       "      <td>5.000000</td>\n",
       "      <td>16.700000</td>\n",
       "      <td>21.10000</td>\n",
       "      <td>0.000000</td>\n",
       "    </tr>\n",
       "    <tr>\n",
       "      <th>75%</th>\n",
       "      <td>16.900000</td>\n",
       "      <td>28.200000</td>\n",
       "      <td>0.800000</td>\n",
       "      <td>7.400000</td>\n",
       "      <td>10.600000</td>\n",
       "      <td>48.000000</td>\n",
       "      <td>19.000000</td>\n",
       "      <td>24.000000</td>\n",
       "      <td>83.000000</td>\n",
       "      <td>66.000000</td>\n",
       "      <td>1022.40000</td>\n",
       "      <td>1020.000000</td>\n",
       "      <td>7.000000</td>\n",
       "      <td>7.000000</td>\n",
       "      <td>21.600000</td>\n",
       "      <td>26.40000</td>\n",
       "      <td>0.800000</td>\n",
       "    </tr>\n",
       "    <tr>\n",
       "      <th>max</th>\n",
       "      <td>33.900000</td>\n",
       "      <td>48.100000</td>\n",
       "      <td>371.000000</td>\n",
       "      <td>145.000000</td>\n",
       "      <td>14.500000</td>\n",
       "      <td>135.000000</td>\n",
       "      <td>130.000000</td>\n",
       "      <td>87.000000</td>\n",
       "      <td>100.000000</td>\n",
       "      <td>100.000000</td>\n",
       "      <td>1041.00000</td>\n",
       "      <td>1039.600000</td>\n",
       "      <td>9.000000</td>\n",
       "      <td>9.000000</td>\n",
       "      <td>40.200000</td>\n",
       "      <td>46.70000</td>\n",
       "      <td>371.000000</td>\n",
       "    </tr>\n",
       "  </tbody>\n",
       "</table>\n",
       "</div>"
      ],
      "text/plain": [
       "             MinTemp        MaxTemp       Rainfall   Evaporation  \\\n",
       "count  143975.000000  144199.000000  142199.000000  82670.000000   \n",
       "mean       12.194034      23.221348       2.360918      5.468232   \n",
       "std         6.398495       7.119049       8.478060      4.193704   \n",
       "min        -8.500000      -4.800000       0.000000      0.000000   \n",
       "25%         7.600000      17.900000       0.000000      2.600000   \n",
       "50%        12.000000      22.600000       0.000000      4.800000   \n",
       "75%        16.900000      28.200000       0.800000      7.400000   \n",
       "max        33.900000      48.100000     371.000000    145.000000   \n",
       "\n",
       "           Sunshine  WindGustSpeed   WindSpeed9am   WindSpeed3pm  \\\n",
       "count  75625.000000  135197.000000  143693.000000  142398.000000   \n",
       "mean       7.611178      40.035230      14.043426      18.662657   \n",
       "std        3.785483      13.607062       8.915375       8.809800   \n",
       "min        0.000000       6.000000       0.000000       0.000000   \n",
       "25%        4.800000      31.000000       7.000000      13.000000   \n",
       "50%        8.400000      39.000000      13.000000      19.000000   \n",
       "75%       10.600000      48.000000      19.000000      24.000000   \n",
       "max       14.500000     135.000000     130.000000      87.000000   \n",
       "\n",
       "         Humidity9am    Humidity3pm   Pressure9am    Pressure3pm  \\\n",
       "count  142806.000000  140953.000000  130395.00000  130432.000000   \n",
       "mean       68.880831      51.539116    1017.64994    1015.255889   \n",
       "std        19.029164      20.795902       7.10653       7.037414   \n",
       "min         0.000000       0.000000     980.50000     977.100000   \n",
       "25%        57.000000      37.000000    1012.90000    1010.400000   \n",
       "50%        70.000000      52.000000    1017.60000    1015.200000   \n",
       "75%        83.000000      66.000000    1022.40000    1020.000000   \n",
       "max       100.000000     100.000000    1041.00000    1039.600000   \n",
       "\n",
       "           Cloud9am      Cloud3pm        Temp9am       Temp3pm        RISK_MM  \n",
       "count  89572.000000  86102.000000  143693.000000  141851.00000  142193.000000  \n",
       "mean       4.447461      4.509930      16.990631      21.68339       2.360682  \n",
       "std        2.887159      2.720357       6.488753       6.93665       8.477969  \n",
       "min        0.000000      0.000000      -7.200000      -5.40000       0.000000  \n",
       "25%        1.000000      2.000000      12.300000      16.60000       0.000000  \n",
       "50%        5.000000      5.000000      16.700000      21.10000       0.000000  \n",
       "75%        7.000000      7.000000      21.600000      26.40000       0.800000  \n",
       "max        9.000000      9.000000      40.200000      46.70000     371.000000  "
      ]
     },
     "execution_count": 6,
     "metadata": {},
     "output_type": "execute_result"
    }
   ],
   "source": [
    "weather.describe()\n"
   ]
  },
  {
   "cell_type": "markdown",
   "metadata": {},
   "source": [
    "## Exploratory Analysis (Univariate and Bivariate)"
   ]
  },
  {
   "cell_type": "code",
   "execution_count": 7,
   "metadata": {},
   "outputs": [
    {
     "data": {
      "image/png": "[encoded data removed]",
      "text/plain": [
       "<matplotlib.figure.Figure at 0x1102838d0>"
      ]
     },
     "metadata": {},
     "output_type": "display_data"
    },
    {
     "name": "stdout",
     "output_type": "stream",
     "text": [
      "count    143975.000000\n",
      "mean         12.194034\n",
      "std           6.398495\n",
      "min          -8.500000\n",
      "25%           7.600000\n",
      "50%          12.000000\n",
      "75%          16.900000\n",
      "max          33.900000\n",
      "Name: MinTemp, dtype: float64\n",
      "count    144199.000000\n",
      "mean         23.221348\n",
      "std           7.119049\n",
      "min          -4.800000\n",
      "25%          17.900000\n",
      "50%          22.600000\n",
      "75%          28.200000\n",
      "max          48.100000\n",
      "Name: MaxTemp, dtype: float64\n"
     ]
    }
   ],
   "source": [
    "#Start with MinTemp and MaxTemp\n",
    "\n",
    "plt.figure(figsize=[20,5])\n",
    "\n",
    "plt.subplot(1,3,1)\n",
    "sns.boxplot(x=weather[\"MinTemp\"])\n",
    "plt.title('Distribution of Minimum Temperature')\n",
    "\n",
    "plt.subplot(1,3,2)\n",
    "sns.boxplot(x=weather[\"MaxTemp\"])\n",
    "plt.title('Distribution of Maximum Temperature')\n",
    "plt.show()\n",
    "\n",
    "print(weather['MinTemp'].describe())\n",
    "print(weather['MaxTemp'].describe())"
   ]
  },
  {
   "cell_type": "code",
   "execution_count": 8,
   "metadata": {},
   "outputs": [
    {
     "data": {
      "image/png": "[encoded data removed]",
      "text/plain": [
       "<matplotlib.figure.Figure at 0x1102834a8>"
      ]
     },
     "metadata": {},
     "output_type": "display_data"
    }
   ],
   "source": [
    "#Next look at Wind Speed\n",
    "\n",
    "plt.figure(figsize=[20,5])\n",
    "\n",
    "plt.subplot(1,3,1)\n",
    "sns.distplot(weather['WindSpeed9am'].dropna())\n",
    "plt.title('Distribution of Wind Speed at 9 am')\n",
    "\n",
    "plt.subplot(1,3,2)\n",
    "sns.distplot(weather['WindSpeed3pm'].dropna())\n",
    "plt.title('Distribution of Wind Speed at 3 pm')\n",
    "plt.show()"
   ]
  },
  {
   "cell_type": "code",
   "execution_count": 9,
   "metadata": {},
   "outputs": [
    {
     "data": {
      "image/png": "[encoded data removed]",
      "text/plain": [
       "<matplotlib.figure.Figure at 0x11158d1d0>"
      ]
     },
     "metadata": {},
     "output_type": "display_data"
    },
    {
     "name": "stdout",
     "output_type": "stream",
     "text": [
      "count    142199.000000\n",
      "mean          2.360918\n",
      "std           8.478060\n",
      "min           0.000000\n",
      "25%           0.000000\n",
      "50%           0.000000\n",
      "75%           0.800000\n",
      "max         371.000000\n",
      "Name: Rainfall, dtype: float64\n"
     ]
    }
   ],
   "source": [
    "#Next, look at rainfall\n",
    "\n",
    "sns.distplot(weather['Rainfall'].dropna())\n",
    "plt.title('Distribution of Rainfall')\n",
    "plt.show()\n",
    "print(weather['Rainfall'].describe())"
   ]
  },
  {
   "cell_type": "markdown",
   "metadata": {},
   "source": [
    "Will need to remove right skewness due to extreme outlier in data cleaning section. If you look at the describe method results, you'll see a maximum of 371, when 75% of the data is under 0.8."
   ]
  },
  {
   "cell_type": "code",
   "execution_count": 10,
   "metadata": {},
   "outputs": [
    {
     "data": {
      "image/png": "[encoded data removed]",
      "text/plain": [
       "<matplotlib.figure.Figure at 0x116e39128>"
      ]
     },
     "metadata": {},
     "output_type": "display_data"
    }
   ],
   "source": [
    "#Next look at Humidity\n",
    "\n",
    "plt.figure(figsize=[20,5])\n",
    "\n",
    "plt.subplot(1,3,1)\n",
    "sns.distplot(weather['Humidity9am'].dropna())\n",
    "plt.title('Distribution of Humidity at 9 am')\n",
    "\n",
    "plt.subplot(1,3,2)\n",
    "sns.distplot(weather['Humidity3pm'].dropna())\n",
    "plt.title('Distribution of Humidity at 3 pm')\n",
    "plt.show()"
   ]
  },
  {
   "cell_type": "code",
   "execution_count": 11,
   "metadata": {},
   "outputs": [
    {
     "data": {
      "image/png": "[encoded data removed]",
      "text/plain": [
       "<matplotlib.figure.Figure at 0x116eb19e8>"
      ]
     },
     "metadata": {},
     "output_type": "display_data"
    }
   ],
   "source": [
    "#Next, look at cloudiness\n",
    "\n",
    "plt.figure(figsize=[20,5])\n",
    "\n",
    "plt.subplot(1,3,1)\n",
    "sns.countplot(x=weather['Cloud9am'].dropna(), data=weather)\n",
    "plt.title('Distribution of Cloudiness at 9 am')\n",
    "\n",
    "\n",
    "plt.subplot(1,3,2)\n",
    "sns.countplot(x=weather['Cloud3pm'].dropna(), data=weather)\n",
    "plt.title('Distribution of Cloudiness at 3 pm')\n",
    "plt.show()"
   ]
  },
  {
   "cell_type": "code",
   "execution_count": 12,
   "metadata": {},
   "outputs": [
    {
     "data": {
      "image/png": "[encoded data removed]",
      "text/plain": [
       "<matplotlib.figure.Figure at 0x116f364e0>"
      ]
     },
     "metadata": {},
     "output_type": "display_data"
    }
   ],
   "source": [
    "#Next, look at air pressure\n",
    "\n",
    "plt.figure(figsize=[20,5])\n",
    "\n",
    "plt.subplot(1,3,1)\n",
    "sns.distplot(weather['Pressure9am'].dropna())\n",
    "plt.title('Distribution of Air Pressure at 9 am')\n",
    "\n",
    "plt.subplot(1,3,2)\n",
    "sns.distplot(weather['Pressure3pm'].dropna())\n",
    "plt.title('Distribution of Air Pressure at 3 pm')\n",
    "plt.show()"
   ]
  },
  {
   "cell_type": "code",
   "execution_count": 13,
   "metadata": {},
   "outputs": [
    {
     "data": {
      "image/png": "[encoded data removed]",
      "text/plain": [
       "<matplotlib.figure.Figure at 0x116f28f60>"
      ]
     },
     "metadata": {},
     "output_type": "display_data"
    },
    {
     "name": "stdout",
     "output_type": "stream",
     "text": [
      "count    142193.000000\n",
      "mean          2.360682\n",
      "std           8.477969\n",
      "min           0.000000\n",
      "25%           0.000000\n",
      "50%           0.000000\n",
      "75%           0.800000\n",
      "max         371.000000\n",
      "Name: RISK_MM, dtype: float64\n"
     ]
    }
   ],
   "source": [
    "#Finally, look at Risk of Rain\n",
    "sns.distplot(weather['RISK_MM'].dropna())\n",
    "plt.title('Distribution of Risk of Rain')\n",
    "plt.show()\n",
    "print(weather['RISK_MM'].describe())"
   ]
  },
  {
   "cell_type": "markdown",
   "metadata": {},
   "source": [
    "Similar to Rainfall feature above, the extreme outlier will have to be removed."
   ]
  },
  {
   "cell_type": "code",
   "execution_count": 14,
   "metadata": {},
   "outputs": [
    {
     "data": {
      "image/png": "[encoded data removed]",
      "text/plain": [
       "<matplotlib.figure.Figure at 0x113b58278>"
      ]
     },
     "metadata": {},
     "output_type": "display_data"
    }
   ],
   "source": [
    "#Now look at Rain Today and whether or not it rained the next day (Rain Tomorrow)\n",
    "sns.countplot(x='RainToday', hue='RainTomorrow', data=weather)\n",
    "plt.title('Rain Today vs. Rain Tomorrow')\n",
    "plt.xlabel('Did it Rain Today?')\n",
    "plt.show()"
   ]
  },
  {
   "cell_type": "code",
   "execution_count": 43,
   "metadata": {},
   "outputs": [
    {
     "data": {
      "image/png": "[encoded data removed]",
      "text/plain": [
       "<matplotlib.figure.Figure at 0x116cc7828>"
      ]
     },
     "metadata": {},
     "output_type": "display_data"
    }
   ],
   "source": [
    "#Let's look at wind gust direction in regard to rainfall\n",
    "\n",
    "plt.figure(figsize=[15,15])\n",
    "plt.title('Wind Gust Direction vs. Rainfall', fontsize=15)\n",
    "axis = sns.swarmplot(x=\"WindGustDir\", y=\"Rainfall\", hue=\"RainTomorrow\", data=weather, color='r')\n",
    "axis.set(xlabel='Wind Gust Direction', ylabel='Rainfall')\n",
    "\n",
    "plt.show()"
   ]
  },
  {
   "cell_type": "code",
   "execution_count": 16,
   "metadata": {},
   "outputs": [
    {
     "data": {
      "image/png": "[encoded data removed]",
      "text/plain": [
       "<matplotlib.figure.Figure at 0x116e0f0b8>"
      ]
     },
     "metadata": {},
     "output_type": "display_data"
    }
   ],
   "source": [
    "#Correlation matrix with sns.heatmap\n",
    "\n",
    "# Set up the matplotlib figure.\n",
    "f, ax = plt.subplots(figsize=(25, 25))\n",
    "\n",
    "sns.heatmap(weather.corr())\n",
    "plt.xticks(size=20)\n",
    "plt.yticks(size=20, rotation='horizontal')\n",
    "plt.show()"
   ]
  },
  {
   "cell_type": "markdown",
   "metadata": {},
   "source": [
    "## Data Cleaning"
   ]
  },
  {
   "cell_type": "code",
   "execution_count": 17,
   "metadata": {},
   "outputs": [
    {
     "name": "stdout",
     "output_type": "stream",
     "text": [
      "Date                 0\n",
      "Location             0\n",
      "MinTemp           1485\n",
      "MaxTemp           1261\n",
      "Rainfall          3261\n",
      "Evaporation      62790\n",
      "Sunshine         69835\n",
      "WindGustDir      10326\n",
      "WindGustSpeed    10263\n",
      "WindDir9am       10566\n",
      "WindDir3pm        4228\n",
      "WindSpeed9am      1767\n",
      "WindSpeed3pm      3062\n",
      "Humidity9am       2654\n",
      "Humidity3pm       4507\n",
      "Pressure9am      15065\n",
      "Pressure3pm      15028\n",
      "Cloud9am         55888\n",
      "Cloud3pm         59358\n",
      "Temp9am           1767\n",
      "Temp3pm           3609\n",
      "RainToday         3261\n",
      "RISK_MM           3267\n",
      "RainTomorrow      3267\n",
      "dtype: int64\n"
     ]
    }
   ],
   "source": [
    "#Determine missing values across dataframe\n",
    "\n",
    "missing_values_count = weather.isnull().sum()\n",
    "print(missing_values_count)"
   ]
  },
  {
   "cell_type": "code",
   "execution_count": 18,
   "metadata": {},
   "outputs": [],
   "source": [
    "#Due to the magnitude of missing values, in order to not harm the integrity of the data, \n",
    "#we will simply drop all NaNs for the time being.\n",
    "\n",
    "weather = weather.dropna()"
   ]
  },
  {
   "cell_type": "markdown",
   "metadata": {},
   "source": [
    "## Feature Selection / Engineering"
   ]
  },
  {
   "cell_type": "code",
   "execution_count": 19,
   "metadata": {},
   "outputs": [],
   "source": [
    "#Change RainToday & RainTomorrow to binary\n",
    "weather['RainToday'] = np.where((weather['RainToday'] == 'Yes'), 1, 0) #Rain = 1, No Rain = 0\n",
    "weather['RainTomorrow'] = np.where((weather['RainTomorrow'] == 'Yes'), 1, 0) #Rain = 1, No Rain = 0"
   ]
  },
  {
   "cell_type": "code",
   "execution_count": 20,
   "metadata": {},
   "outputs": [
    {
     "data": {
      "text/plain": [
       "12.2"
      ]
     },
     "execution_count": 20,
     "metadata": {},
     "output_type": "execute_result"
    }
   ],
   "source": [
    "#Get rid of skewness/outliers in Risk of Rain\n",
    "weather['Rainfall'].quantile(0.95)"
   ]
  },
  {
   "cell_type": "code",
   "execution_count": 21,
   "metadata": {},
   "outputs": [],
   "source": [
    "#Transform Risk of Rain based on quantile method above\n",
    "weather = weather[weather['Rainfall'] <= 12.2]"
   ]
  },
  {
   "cell_type": "markdown",
   "metadata": {},
   "source": [
    "Based on the fact that RISK_MM may have inherent predictive quality, we will remove it. "
   ]
  },
  {
   "cell_type": "code",
   "execution_count": 22,
   "metadata": {},
   "outputs": [],
   "source": [
    "#Drop features\n",
    "weather = weather.drop(['Date'], 1)\n",
    "weather = weather.drop(['RISK_MM'], 1)"
   ]
  },
  {
   "cell_type": "markdown",
   "metadata": {},
   "source": [
    "## Define Research Question"
   ]
  },
  {
   "cell_type": "markdown",
   "metadata": {},
   "source": [
    "**Background:**It seems that the public is always blaming the \"weatherman\" when a prediction proves to be false. Inaccurate predictions can be quite impactful, from ruining plans or events to causing dangerous road conditions. Being able to predict, to a very high degree of certainty, whether or not certain weather conditions will occur would be an extremely useful model.\n",
    "\n",
    "**Research Question:**Will it rain tomorrow?\n",
    "\n",
    "**Methodology:**First determine baseline accuracy, then use a number of different classification models to fit our data and predict accuracy. Based on the results, refine and tune in order to achieve the highest accuracy, in both training and test data. "
   ]
  },
  {
   "cell_type": "markdown",
   "metadata": {},
   "source": [
    "## Create Repeatable Functions for Each Model Type"
   ]
  },
  {
   "cell_type": "code",
   "execution_count": 23,
   "metadata": {},
   "outputs": [
    {
     "name": "stdout",
     "output_type": "stream",
     "text": [
      "(53622, 91)\n"
     ]
    }
   ],
   "source": [
    "#Establish X and Y\n",
    "#Use pd.get_dummies for X because WindGustDir, WindDir9am, WindDir3pm are categorical\n",
    "\n",
    "X = weather.drop(['RainTomorrow'], 1)\n",
    "X = pd.get_dummies(X)\n",
    "Y = weather.RainTomorrow\n",
    "\n",
    "#Show final feature count that goes into model\n",
    "print(X.shape)"
   ]
  },
  {
   "cell_type": "markdown",
   "metadata": {},
   "source": [
    "## Naive Bayes"
   ]
  },
  {
   "cell_type": "code",
   "execution_count": 24,
   "metadata": {},
   "outputs": [],
   "source": [
    "#Create Function\n",
    "\n",
    "def NB_Model(model):\n",
    "        import timeit\n",
    "        start = timeit.default_timer()\n",
    "        if model == 'Bernoulli':\n",
    "                NB_Model = BernoulliNB()\n",
    "                NB_Model.fit(X, Y)\n",
    "                positive_pred = NB_Model.predict(X)\n",
    "                print('\\n Percentage accuracy for Bernoulli Naive Bayes')\n",
    "        \n",
    "        elif model == 'Gaussian':\n",
    "                NB_Model = GaussianNB()\n",
    "                NB_Model.fit(X, Y)\n",
    "                positive_pred = NB_Model.predict(X)\n",
    "                print('\\n Percentage accuracy for Gaussian Naive Bayes')\n",
    "\n",
    "        else:\n",
    "                NB_Model = MultinomialNB()\n",
    "                NB_Model.fit(X, Y)\n",
    "                positive_pred = NB_Model.predict(X)\n",
    "                print('\\n Percentage accuracy for Multinomial Naive Bayes')\n",
    "            \n",
    "        print(str(NB_Model.score(X, Y)*100) + '%')\n",
    "        print('\\n Cross-Validation Score')\n",
    "        print(cross_val_score(NB_Model, X, Y, cv=5))\n",
    "        print('\\n Confusion Matrix')\n",
    "        display(confusion_matrix(Y, positive_pred))\n",
    "        \n",
    "        #Print time\n",
    "        stop = timeit.default_timer()\n",
    "        execution_time = stop - start\n",
    "        print(\"\\n\\n Program Executed in {}\".format(round(execution_time, 2)))"
   ]
  },
  {
   "cell_type": "markdown",
   "metadata": {},
   "source": [
    "## K-Nearest Neighbors"
   ]
  },
  {
   "cell_type": "code",
   "execution_count": 25,
   "metadata": {},
   "outputs": [],
   "source": [
    "#Create function\n",
    "\n",
    "def KNN_Model(k, weight):\n",
    "    import timeit\n",
    "    start = timeit.default_timer()\n",
    "    KNN = KNeighborsClassifier(n_neighbors=k, weights=weight)\n",
    "    KNN.fit(X, Y)\n",
    "    positive_pred = KNN.predict(X)\n",
    "    print('\\n Percentage accuracy for K Nearest Neighbors Classifier')\n",
    "    print(str(KNN.score(X, Y)*100) + '%')\n",
    "    print('\\n Cross-Validation Score')\n",
    "    print(cross_val_score(KNN, X, Y, cv=5))\n",
    "    print('\\n Confusion Matrix')\n",
    "    display(confusion_matrix(Y, positive_pred))\n",
    "    \n",
    "    #Print time\n",
    "    stop = timeit.default_timer()\n",
    "    execution_time = stop - start\n",
    "    print(\"\\n\\n Program Executed in {}\".format(round(execution_time, 2)))"
   ]
  },
  {
   "cell_type": "markdown",
   "metadata": {},
   "source": [
    "## Random Forest"
   ]
  },
  {
   "cell_type": "code",
   "execution_count": 26,
   "metadata": {},
   "outputs": [],
   "source": [
    "#Create function\n",
    "\n",
    "def RFC_Model(trees, criteria, num_features, depth):\n",
    "    import timeit\n",
    "    start = timeit.default_timer()\n",
    "    rfc = ensemble.RandomForestClassifier(n_estimators=trees, criterion=criteria, max_features=num_features, max_depth=depth)\n",
    "    rfc.fit(X, Y)\n",
    "    positive_pred = rfc.predict(X)\n",
    "    print('\\n Percentage accuracy for Random Forest Classifier')\n",
    "    print(str(rfc.score(X, Y)*100) + '%')\n",
    "    print('\\n Cross-Validation Score')\n",
    "    print(cross_val_score(rfc, X, Y, cv=5))\n",
    "    print('\\n Confusion Matrix')\n",
    "    display(confusion_matrix(Y, positive_pred))\n",
    "    \n",
    "    #Print time\n",
    "    stop = timeit.default_timer()\n",
    "    execution_time = stop - start\n",
    "    print(\"\\n\\n Program Executed in {}\".format(round(execution_time, 2)))"
   ]
  },
  {
   "cell_type": "markdown",
   "metadata": {},
   "source": [
    "## Logistic Regression"
   ]
  },
  {
   "cell_type": "code",
   "execution_count": 27,
   "metadata": {},
   "outputs": [],
   "source": [
    "#Create function\n",
    "\n",
    "def Logistic_Reg_Model(regularization, alpha):\n",
    "    import timeit\n",
    "    start = timeit.default_timer()\n",
    "    if regularization == 'l1':\n",
    "        lr_lasso = LogisticRegression(penalty=regularization, C=alpha)\n",
    "        lr_lasso.fit(X, Y)\n",
    "        positive_pred = lr_lasso.predict(X)\n",
    "        print('\\n Percentage accuracy for Lasso Logistic Regression')\n",
    "        print(str(lr_lasso.score(X, Y)*100) + '%')\n",
    "        print('\\n Cross-Validation Score')\n",
    "        print(cross_val_score(lr_lasso, X, Y, cv=5))\n",
    "        print('\\n Confusion Matrix')\n",
    "        display(confusion_matrix(Y, positive_pred))\n",
    "        \n",
    "    elif regularization == 'l2' and alpha == 1e9:\n",
    "        lr_regular = LogisticRegression(penalty=regularization, C=alpha)\n",
    "        lr_regular.fit(X, Y)\n",
    "        positive_pred = lr_regular.predict(X)\n",
    "        print('\\n Percentage accuracy for Logistic Regression')\n",
    "        print(str(lr_regular.score(X, Y)*100) + '%')\n",
    "        print('\\n Cross-Validation Score')\n",
    "        print(cross_val_score(lr_regular, X, Y, cv=5))\n",
    "        print('\\n Confusion Matrix')\n",
    "        display(confusion_matrix(Y, positive_pred))\n",
    "    else:\n",
    "        lr_ridge = LogisticRegression(penalty=regularization, C=alpha)\n",
    "        lr_ridge.fit(X, Y)\n",
    "        positive_pred = lr_ridge.predict(X)\n",
    "        print('\\n Percentage accuracy for Ridge Logistic Regression')\n",
    "        print(str(lr_ridge.score(X, Y)*100) + '%')\n",
    "        print('\\n Cross-Validation Score')\n",
    "        print(cross_val_score(lr_ridge, X, Y, cv=5))\n",
    "        print('\\n Confusion Matrix')\n",
    "        display(confusion_matrix(Y, positive_pred))\n",
    "        \n",
    "     #Print time\n",
    "    stop = timeit.default_timer()\n",
    "    execution_time = stop - start\n",
    "    print(\"\\n\\n Program Executed in {}\".format(round(execution_time, 2)))"
   ]
  },
  {
   "cell_type": "markdown",
   "metadata": {},
   "source": [
    "## Support Vector Classifer"
   ]
  },
  {
   "cell_type": "code",
   "execution_count": 28,
   "metadata": {},
   "outputs": [],
   "source": [
    "#Create function\n",
    "\n",
    "def SVC_Model(c, kernel_type):\n",
    "    import timeit\n",
    "    start = timeit.default_timer()\n",
    "    svm = SVC(C=c, kernel=kernel_type)\n",
    "    svm.fit(X, Y)\n",
    "    positive_pred = svm.predict(X)\n",
    "    print('\\n Percentage accuracy for SVM')\n",
    "    print(str(svm.score(X, Y)*100) + '%')\n",
    "    print('\\n Cross-Validation Score')\n",
    "    print(cross_val_score(svm, X, Y, cv=5))\n",
    "    print('\\n Confusion Matrix')\n",
    "    display(confusion_matrix(Y, positive_pred))\n",
    "    \n",
    "    #Print time\n",
    "    stop = timeit.default_timer()\n",
    "    execution_time = stop - start\n",
    "    print(\"\\n\\n Program Executed in {}\".format(round(execution_time, 2)))\n",
    "    "
   ]
  },
  {
   "cell_type": "markdown",
   "metadata": {},
   "source": [
    "## Gradient Boosting"
   ]
  },
  {
   "cell_type": "code",
   "execution_count": 29,
   "metadata": {},
   "outputs": [],
   "source": [
    "#Create function\n",
    "\n",
    "def Gradient_Boost_Model(estimators, depth, loss_function, sampling):\n",
    "    import timeit\n",
    "    start = timeit.default_timer()\n",
    "    clf = ensemble.GradientBoostingClassifier(n_estimators=estimators, max_depth=depth, loss=loss_function, subsample=sampling)\n",
    "    clf.fit(X, Y)\n",
    "    positive_pred = clf.predict(X)\n",
    "    print('\\n Percentage accuracy for Gradient Boosting Classifier')\n",
    "    print(str(clf.score(X, Y)*100) + '%')\n",
    "    print('\\n Cross-Validation Score')\n",
    "    print(cross_val_score(clf, X, Y, cv=5))\n",
    "    print('\\n Confusion Matrix')\n",
    "    display(confusion_matrix(Y, positive_pred))\n",
    "    \n",
    "    #Print time\n",
    "    stop = timeit.default_timer()\n",
    "    execution_time = stop - start\n",
    "    print(\"\\n\\n Program Executed in {}\".format(round(execution_time, 2)))"
   ]
  },
  {
   "cell_type": "markdown",
   "metadata": {},
   "source": [
    "## Run Initial Models, Default Parameters"
   ]
  },
  {
   "cell_type": "code",
   "execution_count": 30,
   "metadata": {},
   "outputs": [],
   "source": [
    "#Use a sample so that our models will run without using too much computing power\n",
    "weather = weather.sample(n = 10000)\n",
    "\n",
    "#Reestablish X and Y\n",
    "X = weather.drop(['RainTomorrow'], 1)\n",
    "X = pd.get_dummies(X)\n",
    "Y = weather.RainTomorrow"
   ]
  },
  {
   "cell_type": "code",
   "execution_count": 31,
   "metadata": {},
   "outputs": [
    {
     "name": "stdout",
     "output_type": "stream",
     "text": [
      "Baseline accuracy for Rain Tomorrow is: 19.72%\n"
     ]
    }
   ],
   "source": [
    "#Calculate baseline accuracy for RainTomorrow\n",
    "RainTomorrow_total = weather['RainTomorrow'].sum()\n",
    "print('Baseline accuracy for Rain Tomorrow is: ' + str(round((RainTomorrow_total/weather.shape[0])*100, 2)) + '%')"
   ]
  },
  {
   "cell_type": "code",
   "execution_count": 32,
   "metadata": {},
   "outputs": [
    {
     "name": "stdout",
     "output_type": "stream",
     "text": [
      "\n",
      " Percentage accuracy for Bernoulli Naive Bayes\n",
      "77.53%\n",
      "\n",
      " Cross-Validation Score\n",
      "[0.77061469 0.76711644 0.78       0.78389195 0.77938969]\n",
      "\n",
      " Confusion Matrix\n"
     ]
    },
    {
     "data": {
      "text/plain": [
       "array([[6996, 1032],\n",
       "       [1215,  757]])"
      ]
     },
     "metadata": {},
     "output_type": "display_data"
    },
    {
     "name": "stdout",
     "output_type": "stream",
     "text": [
      "\n",
      "\n",
      " Program Executed in 0.26\n",
      "\n",
      "\n",
      "\n",
      "\n",
      " Percentage accuracy for K Nearest Neighbors Classifier\n",
      "88.42999999999999%\n",
      "\n",
      " Cross-Validation Score\n",
      "[0.84207896 0.83758121 0.836      0.83841921 0.84942471]\n",
      "\n",
      " Confusion Matrix\n"
     ]
    },
    {
     "data": {
      "text/plain": [
       "array([[7730,  298],\n",
       "       [ 859, 1113]])"
      ]
     },
     "metadata": {},
     "output_type": "display_data"
    },
    {
     "name": "stdout",
     "output_type": "stream",
     "text": [
      "\n",
      "\n",
      " Program Executed in 12.09\n",
      "\n",
      "\n",
      "\n",
      "\n",
      " Percentage accuracy for Random Forest Classifier\n",
      "98.79%\n",
      "\n",
      " Cross-Validation Score\n",
      "[0.84607696 0.85007496 0.8475     0.84642321 0.84392196]\n",
      "\n",
      " Confusion Matrix\n"
     ]
    },
    {
     "data": {
      "text/plain": [
       "array([[8023,    5],\n",
       "       [ 116, 1856]])"
      ]
     },
     "metadata": {},
     "output_type": "display_data"
    },
    {
     "name": "stdout",
     "output_type": "stream",
     "text": [
      "\n",
      "\n",
      " Program Executed in 1.21\n",
      "\n",
      "\n",
      "\n",
      "\n",
      " Percentage accuracy for Logistic Regression\n",
      "86.3%\n",
      "\n",
      " Cross-Validation Score\n",
      "[0.85807096 0.85907046 0.8585     0.86043022 0.86643322]\n",
      "\n",
      " Confusion Matrix\n"
     ]
    },
    {
     "data": {
      "text/plain": [
       "array([[7622,  406],\n",
       "       [ 964, 1008]])"
      ]
     },
     "metadata": {},
     "output_type": "display_data"
    },
    {
     "name": "stdout",
     "output_type": "stream",
     "text": [
      "\n",
      "\n",
      " Program Executed in 1.17\n",
      "\n",
      "\n",
      "\n",
      "\n",
      " Percentage accuracy for Lasso Logistic Regression\n",
      "86.04%\n",
      "\n",
      " Cross-Validation Score\n",
      "[0.85757121 0.85507246 0.855      0.85592796 0.86193097]\n",
      "\n",
      " Confusion Matrix\n"
     ]
    },
    {
     "data": {
      "text/plain": [
       "array([[7615,  413],\n",
       "       [ 983,  989]])"
      ]
     },
     "metadata": {},
     "output_type": "display_data"
    },
    {
     "name": "stdout",
     "output_type": "stream",
     "text": [
      "\n",
      "\n",
      " Program Executed in 215.87\n",
      "\n",
      "\n",
      "\n",
      "\n",
      " Percentage accuracy for Ridge Logistic Regression\n",
      "86.38%\n",
      "\n",
      " Cross-Validation Score\n",
      "[0.85557221 0.85557221 0.8565     0.85842921 0.86593297]\n",
      "\n",
      " Confusion Matrix\n"
     ]
    },
    {
     "data": {
      "text/plain": [
       "array([[7627,  401],\n",
       "       [ 961, 1011]])"
      ]
     },
     "metadata": {},
     "output_type": "display_data"
    },
    {
     "name": "stdout",
     "output_type": "stream",
     "text": [
      "\n",
      "\n",
      " Program Executed in 1.31\n",
      "\n",
      "\n",
      "\n",
      "\n",
      " Percentage accuracy for SVM\n",
      "96.34%\n",
      "\n",
      " Cross-Validation Score\n",
      "[0.82608696 0.82908546 0.823      0.82091046 0.83191596]\n",
      "\n",
      " Confusion Matrix\n"
     ]
    },
    {
     "data": {
      "text/plain": [
       "array([[8017,   11],\n",
       "       [ 355, 1617]])"
      ]
     },
     "metadata": {},
     "output_type": "display_data"
    },
    {
     "name": "stdout",
     "output_type": "stream",
     "text": [
      "\n",
      "\n",
      " Program Executed in 100.87\n",
      "\n",
      "\n",
      "\n",
      "\n",
      " Percentage accuracy for Gradient Boosting Classifier\n",
      "88.07000000000001%\n",
      "\n",
      " Cross-Validation Score\n",
      "[0.85157421 0.86556722 0.8575     0.85492746 0.86293147]\n",
      "\n",
      " Confusion Matrix\n"
     ]
    },
    {
     "data": {
      "text/plain": [
       "array([[7726,  302],\n",
       "       [ 891, 1081]])"
      ]
     },
     "metadata": {},
     "output_type": "display_data"
    },
    {
     "name": "stdout",
     "output_type": "stream",
     "text": [
      "\n",
      "\n",
      " Program Executed in 13.91\n"
     ]
    }
   ],
   "source": [
    "#Run all models with default criteria, with returns in between so we can easily read\n",
    "\n",
    "#Bernoulli Naive Bayes\n",
    "NB_Model('Bernoulli')\n",
    "print('\\n\\n')\n",
    "\n",
    "#K-Nearest Neighbors\n",
    "KNN_Model(5, 'uniform')\n",
    "print('\\n\\n')\n",
    "\n",
    "#Random Forest\n",
    "RFC_Model(10, 'gini', 'auto', None)\n",
    "print('\\n\\n')\n",
    "\n",
    "#Plain Logistic Regression\n",
    "Logistic_Reg_Model('l2', 1e9)\n",
    "print('\\n\\n')\n",
    "\n",
    "#Lasso Logistic Regression\n",
    "Logistic_Reg_Model('l1', 1.0)\n",
    "print('\\n\\n')\n",
    "\n",
    "#Ridge Logistic Regression\n",
    "Logistic_Reg_Model('l2', 1.0)\n",
    "print('\\n\\n')\n",
    "\n",
    "#Support Vector Classifier\n",
    "SVC_Model(1.0, 'rbf')\n",
    "print('\\n\\n')\n",
    "\n",
    "#Gradient boost classifier\n",
    "Gradient_Boost_Model(100, 3, 'deviance', 1.0)"
   ]
  },
  {
   "cell_type": "markdown",
   "metadata": {},
   "source": [
    "## Run Models Again, This Timing with Tuned Parameters"
   ]
  },
  {
   "cell_type": "code",
   "execution_count": 33,
   "metadata": {},
   "outputs": [
    {
     "name": "stdout",
     "output_type": "stream",
     "text": [
      "\n",
      " Percentage accuracy for Gaussian Naive Bayes\n",
      "70.57%\n",
      "\n",
      " Cross-Validation Score\n",
      "[0.69315342 0.69665167 0.7105     0.68884442 0.71385693]\n",
      "\n",
      " Confusion Matrix\n"
     ]
    },
    {
     "data": {
      "text/plain": [
       "array([[5641, 2387],\n",
       "       [ 556, 1416]])"
      ]
     },
     "metadata": {},
     "output_type": "display_data"
    },
    {
     "name": "stdout",
     "output_type": "stream",
     "text": [
      "\n",
      "\n",
      " Program Executed in 0.22\n",
      "\n",
      "\n",
      "\n",
      "\n",
      " Percentage accuracy for K Nearest Neighbors Classifier\n",
      "100.0%\n",
      "\n",
      " Cross-Validation Score\n",
      "[0.85107446 0.85557221 0.843      0.84892446 0.85392696]\n",
      "\n",
      " Confusion Matrix\n"
     ]
    },
    {
     "data": {
      "text/plain": [
       "array([[8028,    0],\n",
       "       [   0, 1972]])"
      ]
     },
     "metadata": {},
     "output_type": "display_data"
    },
    {
     "name": "stdout",
     "output_type": "stream",
     "text": [
      "\n",
      "\n",
      " Program Executed in 14.99\n",
      "\n",
      "\n",
      "\n",
      "\n",
      " Percentage accuracy for Random Forest Classifier\n",
      "99.95%\n",
      "\n",
      " Cross-Validation Score\n",
      "[0.85207396 0.85757121 0.8495     0.85392696 0.85942971]\n",
      "\n",
      " Confusion Matrix\n"
     ]
    },
    {
     "data": {
      "text/plain": [
       "array([[8028,    0],\n",
       "       [   5, 1967]])"
      ]
     },
     "metadata": {},
     "output_type": "display_data"
    },
    {
     "name": "stdout",
     "output_type": "stream",
     "text": [
      "\n",
      "\n",
      " Program Executed in 4.53\n",
      "\n",
      "\n",
      "\n",
      "\n",
      " Percentage accuracy for Lasso Logistic Regression\n",
      "86.00999999999999%\n",
      "\n",
      " Cross-Validation Score\n",
      "[0.85607196 0.85657171 0.8555     0.85792896 0.86193097]\n",
      "\n",
      " Confusion Matrix\n"
     ]
    },
    {
     "data": {
      "text/plain": [
       "array([[7613,  415],\n",
       "       [ 984,  988]])"
      ]
     },
     "metadata": {},
     "output_type": "display_data"
    },
    {
     "name": "stdout",
     "output_type": "stream",
     "text": [
      "\n",
      "\n",
      " Program Executed in 199.6\n",
      "\n",
      "\n",
      "\n",
      "\n",
      " Percentage accuracy for Ridge Logistic Regression\n",
      "86.28%\n",
      "\n",
      " Cross-Validation Score\n",
      "[0.85957021 0.85507246 0.857      0.85892946 0.86643322]\n",
      "\n",
      " Confusion Matrix\n"
     ]
    },
    {
     "data": {
      "text/plain": [
       "array([[7625,  403],\n",
       "       [ 969, 1003]])"
      ]
     },
     "metadata": {},
     "output_type": "display_data"
    },
    {
     "name": "stdout",
     "output_type": "stream",
     "text": [
      "\n",
      "\n",
      " Program Executed in 1.08\n",
      "\n",
      "\n",
      "\n",
      "\n",
      " Percentage accuracy for SVM\n",
      "86.22%\n",
      "\n",
      " Cross-Validation Score\n",
      "[0.85607196 0.85907046 0.857      0.85592796 0.86443222]\n",
      "\n",
      " Confusion Matrix\n"
     ]
    },
    {
     "data": {
      "text/plain": [
       "array([[7631,  397],\n",
       "       [ 981,  991]])"
      ]
     },
     "metadata": {},
     "output_type": "display_data"
    },
    {
     "name": "stdout",
     "output_type": "stream",
     "text": [
      "\n",
      "\n",
      " Program Executed in 154.45\n",
      "\n",
      "\n",
      "\n",
      "\n",
      " Percentage accuracy for Gradient Boosting Classifier\n",
      "92.30000000000001%\n",
      "\n",
      " Cross-Validation Score\n",
      "[0.85507246 0.86556722 0.8585     0.86443222 0.86243122]\n",
      "\n",
      " Confusion Matrix\n"
     ]
    },
    {
     "data": {
      "text/plain": [
       "array([[7874,  154],\n",
       "       [ 616, 1356]])"
      ]
     },
     "metadata": {},
     "output_type": "display_data"
    },
    {
     "name": "stdout",
     "output_type": "stream",
     "text": [
      "\n",
      "\n",
      " Program Executed in 42.35\n"
     ]
    }
   ],
   "source": [
    "#Run Gaussian instead of Bernoulli\n",
    "NB_Model('Gaussian')\n",
    "print('\\n\\n')\n",
    "\n",
    "#K-Nearest Neighbors (use 25 for K instead of 5 and 'distance' for weight)\n",
    "KNN_Model(25, 'distance')\n",
    "print('\\n\\n')\n",
    "\n",
    "#Random Forest (use 50 trees, 'entropy' as the criterion)\n",
    "RFC_Model(50, 'entropy', 'auto', None)\n",
    "print('\\n\\n')\n",
    "\n",
    "#Lasso Logistic Regression (change alpha to 0.5)\n",
    "Logistic_Reg_Model('l1', 0.5)\n",
    "print('\\n\\n')\n",
    "\n",
    "#Ridge Logistic Regression (change alpha to 100)\n",
    "Logistic_Reg_Model('l2', 100)\n",
    "print('\\n\\n')\n",
    "\n",
    "#Support Vector Classifier (change kernel to 'linear')\n",
    "SVC_Model(1.0, 'linear')\n",
    "print('\\n\\n')\n",
    "\n",
    "#Gradient boost classifier (more estimators, more depth and subsampling)\n",
    "Gradient_Boost_Model(200, 4, 'deviance', 0.8)"
   ]
  },
  {
   "cell_type": "markdown",
   "metadata": {},
   "source": [
    "## Conduct PCA to Reduce Features, then Feed Those Components Back into Our Models"
   ]
  },
  {
   "cell_type": "code",
   "execution_count": 35,
   "metadata": {},
   "outputs": [
    {
     "data": {
      "text/plain": [
       "Text(0,0.5,'Cumulative Explained Variance')"
      ]
     },
     "execution_count": 35,
     "metadata": {},
     "output_type": "execute_result"
    },
    {
     "data": {
      "image/png": "[encoded data removed]",
      "text/plain": [
       "<matplotlib.figure.Figure at 0x116f3b9b0>"
      ]
     },
     "metadata": {},
     "output_type": "display_data"
    }
   ],
   "source": [
    "#Determining proper number of components\n",
    "\n",
    "from sklearn.decomposition import PCA \n",
    "\n",
    "pca = PCA().fit(X)\n",
    "plt.plot(np.cumsum(pca.explained_variance_ratio_))\n",
    "plt.xlabel('Number of Components')\n",
    "plt.xticks(np.arange(0,100, 5), rotation = 'vertical')\n",
    "plt.ylabel('Cumulative Explained Variance')"
   ]
  },
  {
   "cell_type": "code",
   "execution_count": 36,
   "metadata": {},
   "outputs": [
    {
     "name": "stdout",
     "output_type": "stream",
     "text": [
      "The percentage of total variance in the dataset explained by each component from Sklearn PCA.\n",
      " [0.49753493 0.1977731  0.11925461 0.07426892 0.03572035 0.02525606\n",
      " 0.02100605 0.00900823 0.00476241 0.00387667]\n"
     ]
    }
   ],
   "source": [
    "sklearn_pca = PCA(n_components=10)\n",
    "weather_pca = sklearn_pca.fit_transform(X)\n",
    "\n",
    "print(\n",
    "    'The percentage of total variance in the dataset explained by each',\n",
    "    'component from Sklearn PCA.\\n',\n",
    "    sklearn_pca.explained_variance_ratio_)"
   ]
  },
  {
   "cell_type": "code",
   "execution_count": 37,
   "metadata": {},
   "outputs": [
    {
     "data": {
      "text/plain": [
       "(10000, 10)"
      ]
     },
     "execution_count": 37,
     "metadata": {},
     "output_type": "execute_result"
    }
   ],
   "source": [
    "#Confirm dimensionality reduction\n",
    "weather_pca.shape"
   ]
  },
  {
   "cell_type": "code",
   "execution_count": 38,
   "metadata": {},
   "outputs": [
    {
     "name": "stdout",
     "output_type": "stream",
     "text": [
      "\n",
      " Percentage accuracy for Bernoulli Naive Bayes\n",
      "82.32000000000001%\n",
      "\n",
      " Cross-Validation Score\n",
      "[0.81809095 0.82458771 0.813      0.82891446 0.82341171]\n",
      "\n",
      " Confusion Matrix\n"
     ]
    },
    {
     "data": {
      "text/plain": [
       "array([[7777,  251],\n",
       "       [1517,  455]])"
      ]
     },
     "metadata": {},
     "output_type": "display_data"
    },
    {
     "name": "stdout",
     "output_type": "stream",
     "text": [
      "\n",
      "\n",
      " Program Executed in 0.1\n",
      "\n",
      "\n",
      "\n",
      "\n",
      " Percentage accuracy for K Nearest Neighbors Classifier\n",
      "88.44%\n",
      "\n",
      " Cross-Validation Score\n",
      "[0.84207896 0.83408296 0.8405     0.83641821 0.84542271]\n",
      "\n",
      " Confusion Matrix\n"
     ]
    },
    {
     "data": {
      "text/plain": [
       "array([[7743,  285],\n",
       "       [ 871, 1101]])"
      ]
     },
     "metadata": {},
     "output_type": "display_data"
    },
    {
     "name": "stdout",
     "output_type": "stream",
     "text": [
      "\n",
      "\n",
      " Program Executed in 1.21\n",
      "\n",
      "\n",
      "\n",
      "\n",
      " Percentage accuracy for Random Forest Classifier\n",
      "98.69%\n",
      "\n",
      " Cross-Validation Score\n",
      "[0.84157921 0.85507246 0.836      0.83691846 0.84642321]\n",
      "\n",
      " Confusion Matrix\n"
     ]
    },
    {
     "data": {
      "text/plain": [
       "array([[8020,    8],\n",
       "       [ 123, 1849]])"
      ]
     },
     "metadata": {},
     "output_type": "display_data"
    },
    {
     "name": "stdout",
     "output_type": "stream",
     "text": [
      "\n",
      "\n",
      " Program Executed in 1.59\n",
      "\n",
      "\n",
      "\n",
      "\n",
      " Percentage accuracy for Logistic Regression\n",
      "85.68%\n",
      "\n",
      " Cross-Validation Score\n",
      "[0.85757121 0.85507246 0.8495     0.85392696 0.86493247]\n",
      "\n",
      " Confusion Matrix\n"
     ]
    },
    {
     "data": {
      "text/plain": [
       "array([[7623,  405],\n",
       "       [1027,  945]])"
      ]
     },
     "metadata": {},
     "output_type": "display_data"
    },
    {
     "name": "stdout",
     "output_type": "stream",
     "text": [
      "\n",
      "\n",
      " Program Executed in 0.21\n",
      "\n",
      "\n",
      "\n",
      "\n",
      " Percentage accuracy for Lasso Logistic Regression\n",
      "85.68%\n",
      "\n",
      " Cross-Validation Score\n",
      "[0.85757121 0.85507246 0.8495     0.85392696 0.86493247]\n",
      "\n",
      " Confusion Matrix\n"
     ]
    },
    {
     "data": {
      "text/plain": [
       "array([[7623,  405],\n",
       "       [1027,  945]])"
      ]
     },
     "metadata": {},
     "output_type": "display_data"
    },
    {
     "name": "stdout",
     "output_type": "stream",
     "text": [
      "\n",
      "\n",
      " Program Executed in 0.12\n",
      "\n",
      "\n",
      "\n",
      "\n",
      " Percentage accuracy for Ridge Logistic Regression\n",
      "85.68%\n",
      "\n",
      " Cross-Validation Score\n",
      "[0.85757121 0.85457271 0.8495     0.85392696 0.86443222]\n",
      "\n",
      " Confusion Matrix\n"
     ]
    },
    {
     "data": {
      "text/plain": [
       "array([[7623,  405],\n",
       "       [1027,  945]])"
      ]
     },
     "metadata": {},
     "output_type": "display_data"
    },
    {
     "name": "stdout",
     "output_type": "stream",
     "text": [
      "\n",
      "\n",
      " Program Executed in 0.17\n",
      "\n",
      "\n",
      "\n",
      "\n",
      " Percentage accuracy for SVM\n",
      "100.0%\n",
      "\n",
      " Cross-Validation Score\n",
      "[0.8025987  0.8025987  0.803      0.80290145 0.80290145]\n",
      "\n",
      " Confusion Matrix\n"
     ]
    },
    {
     "data": {
      "text/plain": [
       "array([[8028,    0],\n",
       "       [   0, 1972]])"
      ]
     },
     "metadata": {},
     "output_type": "display_data"
    },
    {
     "name": "stdout",
     "output_type": "stream",
     "text": [
      "\n",
      "\n",
      " Program Executed in 36.18\n",
      "\n",
      "\n",
      "\n",
      "\n",
      " Percentage accuracy for Gradient Boosting Classifier\n",
      "87.45%\n",
      "\n",
      " Cross-Validation Score\n",
      "[0.85407296 0.86506747 0.849      0.85242621 0.86143072]\n",
      "\n",
      " Confusion Matrix\n"
     ]
    },
    {
     "data": {
      "text/plain": [
       "array([[7733,  295],\n",
       "       [ 960, 1012]])"
      ]
     },
     "metadata": {},
     "output_type": "display_data"
    },
    {
     "name": "stdout",
     "output_type": "stream",
     "text": [
      "\n",
      "\n",
      " Program Executed in 5.79\n"
     ]
    }
   ],
   "source": [
    "#Reestablish X\n",
    "X = weather_pca\n",
    "\n",
    "#Rerun default models using PCA components\n",
    "\n",
    "#Bernoulli Naive Bayes\n",
    "NB_Model('Bernoulli')\n",
    "print('\\n\\n')\n",
    "\n",
    "#K-Nearest Neighbors\n",
    "KNN_Model(5, 'uniform')\n",
    "print('\\n\\n')\n",
    "\n",
    "#Random Forest\n",
    "RFC_Model(10, 'gini', 'auto', None)\n",
    "print('\\n\\n')\n",
    "\n",
    "#Plain Logistic Regression\n",
    "Logistic_Reg_Model('l2', 1e9)\n",
    "print('\\n\\n')\n",
    "\n",
    "#Lasso Logistic Regression\n",
    "Logistic_Reg_Model('l1', 1.0)\n",
    "print('\\n\\n')\n",
    "\n",
    "#Ridge Logistic Regression\n",
    "Logistic_Reg_Model('l2', 1.0)\n",
    "print('\\n\\n')\n",
    "\n",
    "#Support Vector Classifier\n",
    "SVC_Model(1.0, 'rbf')\n",
    "print('\\n\\n')\n",
    "\n",
    "#Gradient boost classifier\n",
    "Gradient_Boost_Model(100, 3, 'deviance', 1.0)"
   ]
  },
  {
   "cell_type": "markdown",
   "metadata": {},
   "source": [
    "## Use Recursive Feature Selection to Investigate Most Important Features Before Feature Re-Engineering Takes Place"
   ]
  },
  {
   "cell_type": "code",
   "execution_count": 41,
   "metadata": {},
   "outputs": [],
   "source": [
    "#Create function for RFE\n",
    "\n",
    "X = weather.drop(['RainTomorrow'], 1)\n",
    "X = pd.get_dummies(X)\n",
    "\n",
    "def recursive_feat_selection(model):\n",
    "    selector = RFE(model)\n",
    "    selector = selector.fit(X, Y)\n",
    "    rankings = pd.DataFrame({'Features': X.columns, 'Ranking' : selector.ranking_})\n",
    "    display(rankings.sort_values('Ranking').head(15))\n",
    "    "
   ]
  },
  {
   "cell_type": "code",
   "execution_count": 42,
   "metadata": {},
   "outputs": [
    {
     "name": "stdout",
     "output_type": "stream",
     "text": [
      "Recursive Feature Selection for Lasso Logistic Regression\n"
     ]
    },
    {
     "data": {
      "text/html": [
       "<div>\n",
       "<style scoped>\n",
       "    .dataframe tbody tr th:only-of-type {\n",
       "        vertical-align: middle;\n",
       "    }\n",
       "\n",
       "    .dataframe tbody tr th {\n",
       "        vertical-align: top;\n",
       "    }\n",
       "\n",
       "    .dataframe thead th {\n",
       "        text-align: right;\n",
       "    }\n",
       "</style>\n",
       "<table border=\"1\" class=\"dataframe\">\n",
       "  <thead>\n",
       "    <tr style=\"text-align: right;\">\n",
       "      <th></th>\n",
       "      <th>Features</th>\n",
       "      <th>Ranking</th>\n",
       "    </tr>\n",
       "  </thead>\n",
       "  <tbody>\n",
       "    <tr>\n",
       "      <th>90</th>\n",
       "      <td>WindDir3pm_WSW</td>\n",
       "      <td>1</td>\n",
       "    </tr>\n",
       "    <tr>\n",
       "      <th>32</th>\n",
       "      <td>Location_Perth</td>\n",
       "      <td>1</td>\n",
       "    </tr>\n",
       "    <tr>\n",
       "      <th>70</th>\n",
       "      <td>WindDir9am_SSW</td>\n",
       "      <td>1</td>\n",
       "    </tr>\n",
       "    <tr>\n",
       "      <th>36</th>\n",
       "      <td>Location_Sydney</td>\n",
       "      <td>1</td>\n",
       "    </tr>\n",
       "    <tr>\n",
       "      <th>81</th>\n",
       "      <td>WindDir3pm_NNW</td>\n",
       "      <td>1</td>\n",
       "    </tr>\n",
       "    <tr>\n",
       "      <th>39</th>\n",
       "      <td>Location_WaggaWagga</td>\n",
       "      <td>1</td>\n",
       "    </tr>\n",
       "    <tr>\n",
       "      <th>41</th>\n",
       "      <td>Location_Williamtown</td>\n",
       "      <td>1</td>\n",
       "    </tr>\n",
       "    <tr>\n",
       "      <th>80</th>\n",
       "      <td>WindDir3pm_NNE</td>\n",
       "      <td>1</td>\n",
       "    </tr>\n",
       "    <tr>\n",
       "      <th>43</th>\n",
       "      <td>WindGustDir_E</td>\n",
       "      <td>1</td>\n",
       "    </tr>\n",
       "    <tr>\n",
       "      <th>89</th>\n",
       "      <td>WindDir3pm_WNW</td>\n",
       "      <td>1</td>\n",
       "    </tr>\n",
       "    <tr>\n",
       "      <th>78</th>\n",
       "      <td>WindDir3pm_N</td>\n",
       "      <td>1</td>\n",
       "    </tr>\n",
       "    <tr>\n",
       "      <th>48</th>\n",
       "      <td>WindGustDir_NNE</td>\n",
       "      <td>1</td>\n",
       "    </tr>\n",
       "    <tr>\n",
       "      <th>29</th>\n",
       "      <td>Location_MountGambier</td>\n",
       "      <td>1</td>\n",
       "    </tr>\n",
       "    <tr>\n",
       "      <th>49</th>\n",
       "      <td>WindGustDir_NNW</td>\n",
       "      <td>1</td>\n",
       "    </tr>\n",
       "    <tr>\n",
       "      <th>54</th>\n",
       "      <td>WindGustDir_SSW</td>\n",
       "      <td>1</td>\n",
       "    </tr>\n",
       "  </tbody>\n",
       "</table>\n",
       "</div>"
      ],
      "text/plain": [
       "                 Features  Ranking\n",
       "90         WindDir3pm_WSW        1\n",
       "32         Location_Perth        1\n",
       "70         WindDir9am_SSW        1\n",
       "36        Location_Sydney        1\n",
       "81         WindDir3pm_NNW        1\n",
       "39    Location_WaggaWagga        1\n",
       "41   Location_Williamtown        1\n",
       "80         WindDir3pm_NNE        1\n",
       "43          WindGustDir_E        1\n",
       "89         WindDir3pm_WNW        1\n",
       "78           WindDir3pm_N        1\n",
       "48        WindGustDir_NNE        1\n",
       "29  Location_MountGambier        1\n",
       "49        WindGustDir_NNW        1\n",
       "54        WindGustDir_SSW        1"
      ]
     },
     "metadata": {},
     "output_type": "display_data"
    },
    {
     "name": "stdout",
     "output_type": "stream",
     "text": [
      "\n",
      "\n",
      "\n",
      "Recursive Feature Selection for Gradient Boosting\n",
      "[0.03365749 0.02888685 0.03690818 0.02194212 0.1187455  0.11247301\n",
      " 0.01883568 0.0451904  0.03266975 0.15728922 0.04157952 0.08322729\n",
      " 0.00833329 0.02674081 0.02214714 0.03626152 0.         0.\n",
      " 0.01200676 0.01112625 0.         0.         0.00753141 0.\n",
      " 0.00494245 0.         0.0064039  0.00073849 0.         0.0026101\n",
      " 0.         0.         0.01402251 0.00627472 0.00085036 0.00348775\n",
      " 0.         0.00149154 0.0050487  0.         0.00183494 0.0023445\n",
      " 0.         0.         0.         0.         0.         0.\n",
      " 0.0011569  0.00261387 0.00542971 0.         0.00751957 0.\n",
      " 0.00156834 0.         0.00300276 0.00260098 0.         0.00016119\n",
      " 0.         0.         0.00546957 0.         0.01293205 0.00393863\n",
      " 0.00402204 0.00205184 0.00190275 0.00177245 0.00082623 0.\n",
      " 0.         0.         0.00171865 0.002249   0.         0.\n",
      " 0.00714872 0.00373154 0.00167553 0.         0.00228523 0.0113086\n",
      " 0.         0.         0.         0.         0.00410422 0.00264316\n",
      " 0.00056432]\n"
     ]
    }
   ],
   "source": [
    "#Use RFE on our top two models thus far - lasso logistic regression and\n",
    "#gradient boosting\n",
    "\n",
    "lr_lasso = LogisticRegression(penalty='l1', C=1.0)\n",
    "lr_lasso.fit(X, Y)\n",
    "print('Recursive Feature Selection for Lasso Logistic Regression')\n",
    "recursive_feat_selection(lr_lasso)\n",
    "print('\\n\\n')\n",
    "\n",
    "clf = ensemble.GradientBoostingClassifier(n_estimators=100, max_depth=3, loss='deviance', subsample=1)\n",
    "clf.fit(X, Y)\n",
    "print('Recursive Feature Selection for Gradient Boosting')\n",
    "print(clf.feature_importances_)\n"
   ]
  },
  {
   "cell_type": "markdown",
   "metadata": {},
   "source": [
    "Looks like Wind/Wind Gust Direction, along with Location are the most valuable features for these models."
   ]
  },
  {
   "cell_type": "markdown",
   "metadata": {},
   "source": [
    "## Reengineer Features"
   ]
  },
  {
   "cell_type": "code",
   "execution_count": 45,
   "metadata": {},
   "outputs": [
    {
     "data": {
      "text/html": [
       "<div>\n",
       "<style scoped>\n",
       "    .dataframe tbody tr th:only-of-type {\n",
       "        vertical-align: middle;\n",
       "    }\n",
       "\n",
       "    .dataframe tbody tr th {\n",
       "        vertical-align: top;\n",
       "    }\n",
       "\n",
       "    .dataframe thead th {\n",
       "        text-align: right;\n",
       "    }\n",
       "</style>\n",
       "<table border=\"1\" class=\"dataframe\">\n",
       "  <thead>\n",
       "    <tr style=\"text-align: right;\">\n",
       "      <th></th>\n",
       "      <th>MinTemp</th>\n",
       "      <th>MaxTemp</th>\n",
       "      <th>Rainfall</th>\n",
       "      <th>Evaporation</th>\n",
       "      <th>Sunshine</th>\n",
       "      <th>WindGustSpeed</th>\n",
       "      <th>WindSpeed9am</th>\n",
       "      <th>WindSpeed3pm</th>\n",
       "      <th>Humidity9am</th>\n",
       "      <th>Humidity3pm</th>\n",
       "      <th>Pressure9am</th>\n",
       "      <th>Pressure3pm</th>\n",
       "      <th>Cloud9am</th>\n",
       "      <th>Cloud3pm</th>\n",
       "      <th>Temp9am</th>\n",
       "      <th>Temp3pm</th>\n",
       "      <th>RainToday</th>\n",
       "      <th>RainTomorrow</th>\n",
       "    </tr>\n",
       "  </thead>\n",
       "  <tbody>\n",
       "    <tr>\n",
       "      <th>count</th>\n",
       "      <td>10000.000000</td>\n",
       "      <td>10000.000000</td>\n",
       "      <td>10000.00000</td>\n",
       "      <td>10000.000000</td>\n",
       "      <td>10000.000000</td>\n",
       "      <td>10000.000000</td>\n",
       "      <td>10000.000000</td>\n",
       "      <td>10000.000000</td>\n",
       "      <td>10000.000000</td>\n",
       "      <td>10000.000000</td>\n",
       "      <td>10000.00000</td>\n",
       "      <td>10000.000000</td>\n",
       "      <td>10000.000000</td>\n",
       "      <td>10000.000000</td>\n",
       "      <td>10000.000000</td>\n",
       "      <td>10000.000000</td>\n",
       "      <td>10000.000000</td>\n",
       "      <td>10000.000000</td>\n",
       "    </tr>\n",
       "    <tr>\n",
       "      <th>mean</th>\n",
       "      <td>13.373650</td>\n",
       "      <td>24.305570</td>\n",
       "      <td>0.89953</td>\n",
       "      <td>5.547460</td>\n",
       "      <td>7.866000</td>\n",
       "      <td>40.748400</td>\n",
       "      <td>15.674700</td>\n",
       "      <td>19.747100</td>\n",
       "      <td>65.086600</td>\n",
       "      <td>48.694600</td>\n",
       "      <td>1017.39967</td>\n",
       "      <td>1014.902260</td>\n",
       "      <td>4.131300</td>\n",
       "      <td>4.273900</td>\n",
       "      <td>18.197520</td>\n",
       "      <td>22.804810</td>\n",
       "      <td>0.184800</td>\n",
       "      <td>0.197200</td>\n",
       "    </tr>\n",
       "    <tr>\n",
       "      <th>std</th>\n",
       "      <td>6.402468</td>\n",
       "      <td>6.960603</td>\n",
       "      <td>2.14931</td>\n",
       "      <td>3.731063</td>\n",
       "      <td>3.699432</td>\n",
       "      <td>13.226662</td>\n",
       "      <td>8.249429</td>\n",
       "      <td>8.407533</td>\n",
       "      <td>18.465303</td>\n",
       "      <td>19.924639</td>\n",
       "      <td>6.84325</td>\n",
       "      <td>6.845466</td>\n",
       "      <td>2.787586</td>\n",
       "      <td>2.657026</td>\n",
       "      <td>6.576766</td>\n",
       "      <td>6.818822</td>\n",
       "      <td>0.388155</td>\n",
       "      <td>0.397905</td>\n",
       "    </tr>\n",
       "    <tr>\n",
       "      <th>min</th>\n",
       "      <td>-5.800000</td>\n",
       "      <td>6.300000</td>\n",
       "      <td>0.00000</td>\n",
       "      <td>0.000000</td>\n",
       "      <td>0.000000</td>\n",
       "      <td>11.000000</td>\n",
       "      <td>2.000000</td>\n",
       "      <td>2.000000</td>\n",
       "      <td>3.000000</td>\n",
       "      <td>1.000000</td>\n",
       "      <td>984.60000</td>\n",
       "      <td>981.900000</td>\n",
       "      <td>0.000000</td>\n",
       "      <td>0.000000</td>\n",
       "      <td>-0.700000</td>\n",
       "      <td>6.000000</td>\n",
       "      <td>0.000000</td>\n",
       "      <td>0.000000</td>\n",
       "    </tr>\n",
       "    <tr>\n",
       "      <th>25%</th>\n",
       "      <td>8.500000</td>\n",
       "      <td>18.800000</td>\n",
       "      <td>0.00000</td>\n",
       "      <td>2.800000</td>\n",
       "      <td>5.300000</td>\n",
       "      <td>31.000000</td>\n",
       "      <td>9.000000</td>\n",
       "      <td>13.000000</td>\n",
       "      <td>54.000000</td>\n",
       "      <td>35.000000</td>\n",
       "      <td>1012.90000</td>\n",
       "      <td>1010.200000</td>\n",
       "      <td>1.000000</td>\n",
       "      <td>1.000000</td>\n",
       "      <td>13.000000</td>\n",
       "      <td>17.500000</td>\n",
       "      <td>0.000000</td>\n",
       "      <td>0.000000</td>\n",
       "    </tr>\n",
       "    <tr>\n",
       "      <th>50%</th>\n",
       "      <td>13.100000</td>\n",
       "      <td>24.050000</td>\n",
       "      <td>0.00000</td>\n",
       "      <td>5.000000</td>\n",
       "      <td>8.800000</td>\n",
       "      <td>39.000000</td>\n",
       "      <td>15.000000</td>\n",
       "      <td>19.000000</td>\n",
       "      <td>66.000000</td>\n",
       "      <td>50.000000</td>\n",
       "      <td>1017.40000</td>\n",
       "      <td>1014.800000</td>\n",
       "      <td>4.000000</td>\n",
       "      <td>5.000000</td>\n",
       "      <td>17.800000</td>\n",
       "      <td>22.550000</td>\n",
       "      <td>0.000000</td>\n",
       "      <td>0.000000</td>\n",
       "    </tr>\n",
       "    <tr>\n",
       "      <th>75%</th>\n",
       "      <td>18.300000</td>\n",
       "      <td>29.700000</td>\n",
       "      <td>0.40000</td>\n",
       "      <td>7.600000</td>\n",
       "      <td>10.800000</td>\n",
       "      <td>48.000000</td>\n",
       "      <td>20.000000</td>\n",
       "      <td>26.000000</td>\n",
       "      <td>78.000000</td>\n",
       "      <td>62.000000</td>\n",
       "      <td>1021.90000</td>\n",
       "      <td>1019.400000</td>\n",
       "      <td>7.000000</td>\n",
       "      <td>7.000000</td>\n",
       "      <td>23.200000</td>\n",
       "      <td>28.000000</td>\n",
       "      <td>0.000000</td>\n",
       "      <td>0.000000</td>\n",
       "    </tr>\n",
       "    <tr>\n",
       "      <th>max</th>\n",
       "      <td>29.100000</td>\n",
       "      <td>46.800000</td>\n",
       "      <td>12.20000</td>\n",
       "      <td>57.200000</td>\n",
       "      <td>14.100000</td>\n",
       "      <td>124.000000</td>\n",
       "      <td>63.000000</td>\n",
       "      <td>65.000000</td>\n",
       "      <td>100.000000</td>\n",
       "      <td>100.000000</td>\n",
       "      <td>1040.30000</td>\n",
       "      <td>1037.600000</td>\n",
       "      <td>8.000000</td>\n",
       "      <td>8.000000</td>\n",
       "      <td>37.700000</td>\n",
       "      <td>45.800000</td>\n",
       "      <td>1.000000</td>\n",
       "      <td>1.000000</td>\n",
       "    </tr>\n",
       "  </tbody>\n",
       "</table>\n",
       "</div>"
      ],
      "text/plain": [
       "            MinTemp       MaxTemp     Rainfall   Evaporation      Sunshine  \\\n",
       "count  10000.000000  10000.000000  10000.00000  10000.000000  10000.000000   \n",
       "mean      13.373650     24.305570      0.89953      5.547460      7.866000   \n",
       "std        6.402468      6.960603      2.14931      3.731063      3.699432   \n",
       "min       -5.800000      6.300000      0.00000      0.000000      0.000000   \n",
       "25%        8.500000     18.800000      0.00000      2.800000      5.300000   \n",
       "50%       13.100000     24.050000      0.00000      5.000000      8.800000   \n",
       "75%       18.300000     29.700000      0.40000      7.600000     10.800000   \n",
       "max       29.100000     46.800000     12.20000     57.200000     14.100000   \n",
       "\n",
       "       WindGustSpeed  WindSpeed9am  WindSpeed3pm   Humidity9am   Humidity3pm  \\\n",
       "count   10000.000000  10000.000000  10000.000000  10000.000000  10000.000000   \n",
       "mean       40.748400     15.674700     19.747100     65.086600     48.694600   \n",
       "std        13.226662      8.249429      8.407533     18.465303     19.924639   \n",
       "min        11.000000      2.000000      2.000000      3.000000      1.000000   \n",
       "25%        31.000000      9.000000     13.000000     54.000000     35.000000   \n",
       "50%        39.000000     15.000000     19.000000     66.000000     50.000000   \n",
       "75%        48.000000     20.000000     26.000000     78.000000     62.000000   \n",
       "max       124.000000     63.000000     65.000000    100.000000    100.000000   \n",
       "\n",
       "       Pressure9am   Pressure3pm      Cloud9am      Cloud3pm       Temp9am  \\\n",
       "count  10000.00000  10000.000000  10000.000000  10000.000000  10000.000000   \n",
       "mean    1017.39967   1014.902260      4.131300      4.273900     18.197520   \n",
       "std        6.84325      6.845466      2.787586      2.657026      6.576766   \n",
       "min      984.60000    981.900000      0.000000      0.000000     -0.700000   \n",
       "25%     1012.90000   1010.200000      1.000000      1.000000     13.000000   \n",
       "50%     1017.40000   1014.800000      4.000000      5.000000     17.800000   \n",
       "75%     1021.90000   1019.400000      7.000000      7.000000     23.200000   \n",
       "max     1040.30000   1037.600000      8.000000      8.000000     37.700000   \n",
       "\n",
       "            Temp3pm     RainToday  RainTomorrow  \n",
       "count  10000.000000  10000.000000  10000.000000  \n",
       "mean      22.804810      0.184800      0.197200  \n",
       "std        6.818822      0.388155      0.397905  \n",
       "min        6.000000      0.000000      0.000000  \n",
       "25%       17.500000      0.000000      0.000000  \n",
       "50%       22.550000      0.000000      0.000000  \n",
       "75%       28.000000      0.000000      0.000000  \n",
       "max       45.800000      1.000000      1.000000  "
      ]
     },
     "execution_count": 45,
     "metadata": {},
     "output_type": "execute_result"
    }
   ],
   "source": [
    "weather.describe()"
   ]
  },
  {
   "cell_type": "code",
   "execution_count": 48,
   "metadata": {},
   "outputs": [],
   "source": [
    "#Convert features to 1 (high) or 0 (low) based on the median\n",
    "\n",
    "weather['MinTemp'] = np.where((weather['MinTemp'] >= 13.1), 1, 0)\n",
    "weather['MaxTemp'] = np.where((weather['MaxTemp'] >= 24.05), 1, 0)\n",
    "weather['Rainfall'] = np.where((weather['Rainfall'] > 0), 1, 0)\n",
    "weather['Evaporation'] = np.where((weather['Evaporation'] >= 5), 1, 0)\n",
    "weather['Sunshine'] = np.where((weather['Sunshine'] >= 8.8), 1, 0)\n",
    "weather['WindGustSpeed'] = np.where((weather['WindGustSpeed'] >= 39), 1, 0)\n",
    "weather['WindSpeed9am'] = np.where((weather['WindSpeed9am'] >= 15), 1, 0)\n",
    "weather['WindSpeed3pm'] = np.where((weather['WindSpeed3pm'] >= 19), 1, 0)\n",
    "weather['Humidity9am'] = np.where((weather['Humidity9am'] >= 66), 1, 0)\n",
    "weather['Humidity3pm'] = np.where((weather['Humidity3pm'] >= 50), 1, 0)\n",
    "weather['Pressure9am'] = np.where((weather['Pressure9am'] >= 1017.4), 1, 0)\n",
    "weather['Pressure3pm'] = np.where((weather['Pressure3pm'] >= 1014.8), 1, 0)\n",
    "weather['Cloud9am'] = np.where((weather['Cloud9am'] >= 4), 1, 0)\n",
    "weather['Cloud3pm'] = np.where((weather['Cloud3pm'] >= 5), 1, 0)\n",
    "weather['Temp9am'] = np.where((weather['Temp9am'] >= 17.8), 1, 0)\n",
    "weather['Temp3pm'] = np.where((weather['Temp3pm'] >= 22.55), 1, 0)"
   ]
  },
  {
   "cell_type": "markdown",
   "metadata": {},
   "source": [
    "## Re-run Default Models with New Feature Set"
   ]
  },
  {
   "cell_type": "code",
   "execution_count": 49,
   "metadata": {},
   "outputs": [
    {
     "name": "stdout",
     "output_type": "stream",
     "text": [
      "\n",
      " Percentage accuracy for Bernoulli Naive Bayes\n",
      "77.57%\n",
      "\n",
      " Cross-Validation Score\n",
      "[0.76211894 0.77261369 0.783      0.77238619 0.78489245]\n",
      "\n",
      " Confusion Matrix\n"
     ]
    },
    {
     "data": {
      "text/plain": [
       "array([[6437, 1591],\n",
       "       [ 652, 1320]])"
      ]
     },
     "metadata": {},
     "output_type": "display_data"
    },
    {
     "name": "stdout",
     "output_type": "stream",
     "text": [
      "\n",
      "\n",
      " Program Executed in 0.26\n",
      "\n",
      "\n",
      "\n",
      "\n",
      " Percentage accuracy for K Nearest Neighbors Classifier\n",
      "87.15%\n",
      "\n",
      " Cross-Validation Score\n",
      "[0.80909545 0.81709145 0.8115     0.81090545 0.82241121]\n",
      "\n",
      " Confusion Matrix\n"
     ]
    },
    {
     "data": {
      "text/plain": [
       "array([[7680,  348],\n",
       "       [ 937, 1035]])"
      ]
     },
     "metadata": {},
     "output_type": "display_data"
    },
    {
     "name": "stdout",
     "output_type": "stream",
     "text": [
      "\n",
      "\n",
      " Program Executed in 55.79\n",
      "\n",
      "\n",
      "\n",
      "\n",
      " Percentage accuracy for Random Forest Classifier\n",
      "98.26%\n",
      "\n",
      " Cross-Validation Score\n",
      "[0.81309345 0.82258871 0.8235     0.82041021 0.82791396]\n",
      "\n",
      " Confusion Matrix\n"
     ]
    },
    {
     "data": {
      "text/plain": [
       "array([[8010,   18],\n",
       "       [ 156, 1816]])"
      ]
     },
     "metadata": {},
     "output_type": "display_data"
    },
    {
     "name": "stdout",
     "output_type": "stream",
     "text": [
      "\n",
      "\n",
      " Program Executed in 0.8\n",
      "\n",
      "\n",
      "\n",
      "\n",
      " Percentage accuracy for Logistic Regression\n",
      "83.75%\n",
      "\n",
      " Cross-Validation Score\n",
      "[0.83008496 0.83208396 0.8325     0.83091546 0.84042021]\n",
      "\n",
      " Confusion Matrix\n"
     ]
    },
    {
     "data": {
      "text/plain": [
       "array([[7589,  439],\n",
       "       [1186,  786]])"
      ]
     },
     "metadata": {},
     "output_type": "display_data"
    },
    {
     "name": "stdout",
     "output_type": "stream",
     "text": [
      "\n",
      "\n",
      " Program Executed in 0.37\n",
      "\n",
      "\n",
      "\n",
      "\n",
      " Percentage accuracy for Lasso Logistic Regression\n",
      "83.83%\n",
      "\n",
      " Cross-Validation Score\n",
      "[0.83058471 0.83058471 0.8315     0.83091546 0.84242121]\n",
      "\n",
      " Confusion Matrix\n"
     ]
    },
    {
     "data": {
      "text/plain": [
       "array([[7602,  426],\n",
       "       [1191,  781]])"
      ]
     },
     "metadata": {},
     "output_type": "display_data"
    },
    {
     "name": "stdout",
     "output_type": "stream",
     "text": [
      "\n",
      "\n",
      " Program Executed in 1.21\n",
      "\n",
      "\n",
      "\n",
      "\n",
      " Percentage accuracy for Ridge Logistic Regression\n",
      "83.76%\n",
      "\n",
      " Cross-Validation Score\n",
      "[0.83008496 0.83158421 0.832      0.82991496 0.84092046]\n",
      "\n",
      " Confusion Matrix\n"
     ]
    },
    {
     "data": {
      "text/plain": [
       "array([[7595,  433],\n",
       "       [1191,  781]])"
      ]
     },
     "metadata": {},
     "output_type": "display_data"
    },
    {
     "name": "stdout",
     "output_type": "stream",
     "text": [
      "\n",
      "\n",
      " Program Executed in 0.31\n",
      "\n",
      "\n",
      "\n",
      "\n",
      " Percentage accuracy for SVM\n",
      "83.33%\n",
      "\n",
      " Cross-Validation Score\n",
      "[0.82658671 0.82408796 0.825      0.82941471 0.82891446]\n",
      "\n",
      " Confusion Matrix\n"
     ]
    },
    {
     "data": {
      "text/plain": [
       "array([[7843,  185],\n",
       "       [1482,  490]])"
      ]
     },
     "metadata": {},
     "output_type": "display_data"
    },
    {
     "name": "stdout",
     "output_type": "stream",
     "text": [
      "\n",
      "\n",
      " Program Executed in 38.24\n",
      "\n",
      "\n",
      "\n",
      "\n",
      " Percentage accuracy for Gradient Boosting Classifier\n",
      "84.39999999999999%\n",
      "\n",
      " Cross-Validation Score\n",
      "[0.82658671 0.83558221 0.8355     0.83291646 0.84342171]\n",
      "\n",
      " Confusion Matrix\n"
     ]
    },
    {
     "data": {
      "text/plain": [
       "array([[7628,  400],\n",
       "       [1160,  812]])"
      ]
     },
     "metadata": {},
     "output_type": "display_data"
    },
    {
     "name": "stdout",
     "output_type": "stream",
     "text": [
      "\n",
      "\n",
      " Program Executed in 14.59\n"
     ]
    }
   ],
   "source": [
    "X = weather.drop(['RainTomorrow'], 1)\n",
    "X = pd.get_dummies(X)\n",
    "Y = weather.RainTomorrow\n",
    "\n",
    "#Bernoulli Naive Bayes\n",
    "NB_Model('Bernoulli')\n",
    "print('\\n\\n')\n",
    "\n",
    "#K-Nearest Neighbors\n",
    "KNN_Model(5, 'uniform')\n",
    "print('\\n\\n')\n",
    "\n",
    "#Random Forest\n",
    "RFC_Model(10, 'gini', 'auto', None)\n",
    "print('\\n\\n')\n",
    "\n",
    "#Plain Logistic Regression\n",
    "Logistic_Reg_Model('l2', 1e9)\n",
    "print('\\n\\n')\n",
    "\n",
    "#Lasso Logistic Regression\n",
    "Logistic_Reg_Model('l1', 1.0)\n",
    "print('\\n\\n')\n",
    "\n",
    "#Ridge Logistic Regression\n",
    "Logistic_Reg_Model('l2', 1.0)\n",
    "print('\\n\\n')\n",
    "\n",
    "#Support Vector Classifier\n",
    "SVC_Model(1.0, 'rbf')\n",
    "print('\\n\\n')\n",
    "\n",
    "#Gradient boost classifier\n",
    "Gradient_Boost_Model(100, 3, 'deviance', 1.0)"
   ]
  },
  {
   "cell_type": "code",
   "execution_count": null,
   "metadata": {},
   "outputs": [],
   "source": []
  }
 ],
 "metadata": {
  "kernelspec": {
   "display_name": "Python 3",
   "language": "python",
   "name": "python3"
  },
  "language_info": {
   "codemirror_mode": {
    "name": "ipython",
    "version": 3
   },
   "file_extension": ".py",
   "mimetype": "text/x-python",
   "name": "python",
   "nbconvert_exporter": "python",
   "pygments_lexer": "ipython3",
   "version": "3.6.4"
  }
 },
 "nbformat": 4,
 "nbformat_minor": 2
}
