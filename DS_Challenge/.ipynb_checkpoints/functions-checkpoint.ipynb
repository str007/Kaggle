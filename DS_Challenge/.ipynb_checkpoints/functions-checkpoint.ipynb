{
 "cells": [
  {
   "cell_type": "code",
   "execution_count": 1,
   "metadata": {},
   "outputs": [],
   "source": [
    "import pandas as pd\n",
    "import numpy as np\n",
    "import matplotlib.pyplot as plt\n",
    "import seaborn as sns\n",
    "\n",
    "pd.set_option('display.max_columns', None)"
   ]
  },
  {
   "cell_type": "code",
   "execution_count": 6,
   "metadata": {},
   "outputs": [],
   "source": [
    "def dataQuality(df):\n",
    "    # Takes a dataframe as input and returns a new dataframe with data quality stats such\n",
    "    # as missing values, unique values, scarcity, and datatype by column\n",
    "\n",
    "    print('Dataframe contains {} observations across {} columns\\n'.format(df.shape[0], df.shape[1]))\n",
    "    print('Data Quality Stats:\\n')\n",
    "    \n",
    "    df_temp = pd.DataFrame(index=df.columns, columns=['Missing_Count', 'Scarcity', 'Unique_Values', 'Data_Type'])\n",
    "    df_temp['Missing_Count'] = df.isnull().sum()\n",
    "    df_temp['Scarcity'] = round(((df.isnull().sum())/(df.shape[0])*100),2)\n",
    "    df_temp['Unique_Values'] = [df[i].nunique() for i in df.columns]\n",
    "    df_temp['Data_Type'] = [df[i].dtype for i in df.columns]\n",
    "    \n",
    "    return df_temp.sort_values(by=['Missing_Count'], ascending=False)"
   ]
  },
  {
   "cell_type": "code",
   "execution_count": 9,
   "metadata": {},
   "outputs": [],
   "source": [
    "def describeNumericCols(cols_list):\n",
    "    # Gets summary stats for columns defined below\n",
    "    \n",
    "    print('Summary stats for the following significant numeric columns:\\n')\n",
    "    for i in cols_list:\n",
    "        print(i)\n",
    "    display(df[cols_list].describe())"
   ]
  },
  {
   "cell_type": "code",
   "execution_count": 12,
   "metadata": {},
   "outputs": [],
   "source": [
    "def createDuplicateTransactionDfs(df):\n",
    "    # Takes a dataframe as input and generates two dataframes, one for double swipe transactions and another \n",
    "    # for reversal transactions\n",
    "    \n",
    "    doubleSwipe = df[(df['transactionAmountDiff'] == 0) & (df['transactionTimeDiff'] < 5) & \n",
    "                     (~df['transactionType'].isin(['REVERSAL', 'ADDRESS_VERIFICATION']))]\n",
    "    reversal = df[df['transactionType'] == 'REVERSAL']\n",
    "    \n",
    "    return doubleSwipe, reversal"
   ]
  },
  {
   "cell_type": "code",
   "execution_count": 1,
   "metadata": {},
   "outputs": [],
   "source": [
    "def histogram(df, col):\n",
    "    # Takes a dataframe and column as input and creates a histogram with mean, median and mode embedded\n",
    "    \n",
    "    plt.figure(figsize=[8,5])\n",
    "    \n",
    "    ax = plt.axes()\n",
    "    sns.distplot(df[col].dropna()) #kde=False, norm_hist=False, bins='auto'\n",
    "    ax.axvline(df[col].mean(), color='r', linestyle='-')\n",
    "    ax.axvline(df[col].median(), color='g', linestyle='-')\n",
    "    ax.axvline(df[col].mode().get_values()[0], color='b', linestyle='-')\n",
    "    ax.set_title('Distribution of ' + col, fontsize=15)\n",
    "    plt.legend({'Mean':df[col].mean(),'Median':df[col].median(),'Mode':df[col].mode().get_values()[0]}, fontsize=15)\n",
    "    plt.xlabel('Amount', fontsize=15)\n",
    "    plt.ylabel('Density', fontsize=15)\n",
    "    plt.xticks(np.arange(0, df[col].max(), 100), rotation=45)"
   ]
  },
  {
   "cell_type": "code",
   "execution_count": 5,
   "metadata": {},
   "outputs": [],
   "source": [
    "def featureEngineering(df):\n",
    "    # Takes a dataframe as input and creates 11 new features\n",
    "    \n",
    "    df['transactionAmountDiff'] = df['transactionAmount'] - df['transactionAmount'].shift(1)\n",
    "    df['transactionTimeDiff'] = round(abs((df['transactionDateTime'] - df['transactionDateTime'].shift(1))).dt.total_seconds()/60, 2)\n",
    "    df['diffCVV'] = np.where((df['cardCVV'] == df['enteredCVV']), 0, 1)\n",
    "    df['acctOpenAddressChangeDiff'] = np.where((df['dateOfLastAddressChange'] == df['accountOpenDate']), 0, 1)\n",
    "    df['daysSinceAddressChange'] = round((df['transactionDateTime'] - df['dateOfLastAddressChange']).dt.days, 2)\n",
    "    df['daysSinceAccountOpen'] = round((df['transactionDateTime'] - df['accountOpenDate']).dt.days, 2)\n",
    "    df['transactionDateYear'] = df['transactionDateTime'].dt.year\n",
    "    df['transactionDateMonth'] = df['transactionDateTime'].dt.month\n",
    "    df['transactionDateDay'] = df['transactionDateTime'].dt.day\n",
    "    df['transactionDateHour'] = df['transactionDateTime'].dt.hour\n",
    "    df['transactionDateMinute'] = df['transactionDateTime'].dt.minute\n",
    "\n",
    "\n",
    "    new_feats = ['transactionAmountdiff', 'transactionTimeDiff', 'diffCVV', 'acctOpenAddressChangeDiff',\n",
    "                'daysSinceAddressChange', 'daysSinceAccountOpen', 'transactionDateYear', \n",
    "                'transactionDateMonth', 'transactionDateDay', 'transactionDateHour',\n",
    "                'transactionDateMinute']\n",
    "\n",
    "    print('Following features created:\\n')\n",
    "    for i in new_feats:\n",
    "        print(i)\n",
    "    \n",
    "    return df"
   ]
  },
  {
   "cell_type": "code",
   "execution_count": 6,
   "metadata": {},
   "outputs": [],
   "source": [
    "def drop_columns(df, cols_list):\n",
    "    # Takes a dataframe and a list of columns and drops them and returns overwritten df\n",
    "    \n",
    "    df.drop(cols_list, axis=1).reset_index(drop=True)\n",
    "    print('Successfully dropped {} columns:\\n'.format(len(cols_list)))\n",
    "    for i in cols_list:\n",
    "        print(i)\n",
    "    return df"
   ]
  },
  {
   "cell_type": "code",
   "execution_count": null,
   "metadata": {},
   "outputs": [],
   "source": [
    "# removeOutliers"
   ]
  },
  {
   "cell_type": "code",
   "execution_count": null,
   "metadata": {},
   "outputs": [],
   "source": [
    "# chi square test"
   ]
  }
 ],
 "metadata": {
  "kernelspec": {
   "display_name": "Python 3",
   "language": "python",
   "name": "python3"
  },
  "language_info": {
   "codemirror_mode": {
    "name": "ipython",
    "version": 3
   },
   "file_extension": ".py",
   "mimetype": "text/x-python",
   "name": "python",
   "nbconvert_exporter": "python",
   "pygments_lexer": "ipython3",
   "version": "3.7.3"
  }
 },
 "nbformat": 4,
 "nbformat_minor": 2
}
